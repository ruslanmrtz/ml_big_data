{
 "cells": [
  {
   "cell_type": "markdown",
   "id": "8f0b4539-53ad-4075-8100-d8d40c631dd0",
   "metadata": {},
   "source": [
    "# Импорт библиотек"
   ]
  },
  {
   "cell_type": "code",
   "execution_count": 1,
   "id": "5e47da8e-f60f-4f63-88c5-d917ffd9c48f",
   "metadata": {},
   "outputs": [],
   "source": [
    "import pandas as pd\n",
    "import sqlite3\n",
    "import matplotlib.pyplot as plt\n",
    "from datetime import datetime"
   ]
  },
  {
   "cell_type": "markdown",
   "id": "bb0fcfaf-c8f0-4ecc-92e1-e7726c13c917",
   "metadata": {},
   "source": [
    "# Импорт данных"
   ]
  },
  {
   "cell_type": "code",
   "execution_count": 2,
   "id": "4d3b155d-e67b-4438-8c03-a23500a93d32",
   "metadata": {},
   "outputs": [
    {
     "name": "stdout",
     "output_type": "stream",
     "text": [
      "(40212, 3)\n"
     ]
    },
    {
     "data": {
      "text/html": [
       "<div>\n",
       "<style scoped>\n",
       "    .dataframe tbody tr th:only-of-type {\n",
       "        vertical-align: middle;\n",
       "    }\n",
       "\n",
       "    .dataframe tbody tr th {\n",
       "        vertical-align: top;\n",
       "    }\n",
       "\n",
       "    .dataframe thead th {\n",
       "        text-align: right;\n",
       "    }\n",
       "</style>\n",
       "<table border=\"1\" class=\"dataframe\">\n",
       "  <thead>\n",
       "    <tr style=\"text-align: right;\">\n",
       "      <th></th>\n",
       "      <th>User Id</th>\n",
       "      <th>Event Dt</th>\n",
       "      <th>Revenue</th>\n",
       "    </tr>\n",
       "  </thead>\n",
       "  <tbody>\n",
       "    <tr>\n",
       "      <th>0</th>\n",
       "      <td>188246423999</td>\n",
       "      <td>2022-05-01 23:09:52</td>\n",
       "      <td>4.99</td>\n",
       "    </tr>\n",
       "    <tr>\n",
       "      <th>1</th>\n",
       "      <td>174361394180</td>\n",
       "      <td>2022-05-01 12:24:04</td>\n",
       "      <td>4.99</td>\n",
       "    </tr>\n",
       "    <tr>\n",
       "      <th>2</th>\n",
       "      <td>529610067795</td>\n",
       "      <td>2022-05-01 11:34:04</td>\n",
       "      <td>4.99</td>\n",
       "    </tr>\n",
       "    <tr>\n",
       "      <th>3</th>\n",
       "      <td>319939546352</td>\n",
       "      <td>2022-05-01 15:34:40</td>\n",
       "      <td>4.99</td>\n",
       "    </tr>\n",
       "    <tr>\n",
       "      <th>4</th>\n",
       "      <td>366000285810</td>\n",
       "      <td>2022-05-01 13:59:51</td>\n",
       "      <td>4.99</td>\n",
       "    </tr>\n",
       "  </tbody>\n",
       "</table>\n",
       "</div>"
      ],
      "text/plain": [
       "        User Id             Event Dt  Revenue\n",
       "0  188246423999  2022-05-01 23:09:52     4.99\n",
       "1  174361394180  2022-05-01 12:24:04     4.99\n",
       "2  529610067795  2022-05-01 11:34:04     4.99\n",
       "3  319939546352  2022-05-01 15:34:40     4.99\n",
       "4  366000285810  2022-05-01 13:59:51     4.99"
      ]
     },
     "execution_count": 2,
     "metadata": {},
     "output_type": "execute_result"
    }
   ],
   "source": [
    "orders = pd.read_csv('orders.csv')\n",
    "visitation = pd.read_csv('visitation.csv')\n",
    "expenses = pd.read_csv('expenses.csv')\n",
    "print(orders.shape)\n",
    "orders.head()"
   ]
  },
  {
   "cell_type": "code",
   "execution_count": 3,
   "id": "d572f230-4732-47e3-b395-c041432260fb",
   "metadata": {},
   "outputs": [
    {
     "name": "stdout",
     "output_type": "stream",
     "text": [
      "(309901, 6)\n"
     ]
    },
    {
     "data": {
      "text/html": [
       "<div>\n",
       "<style scoped>\n",
       "    .dataframe tbody tr th:only-of-type {\n",
       "        vertical-align: middle;\n",
       "    }\n",
       "\n",
       "    .dataframe tbody tr th {\n",
       "        vertical-align: top;\n",
       "    }\n",
       "\n",
       "    .dataframe thead th {\n",
       "        text-align: right;\n",
       "    }\n",
       "</style>\n",
       "<table border=\"1\" class=\"dataframe\">\n",
       "  <thead>\n",
       "    <tr style=\"text-align: right;\">\n",
       "      <th></th>\n",
       "      <th>User Id</th>\n",
       "      <th>Region</th>\n",
       "      <th>Device</th>\n",
       "      <th>Channel</th>\n",
       "      <th>Session Start</th>\n",
       "      <th>Session End</th>\n",
       "    </tr>\n",
       "  </thead>\n",
       "  <tbody>\n",
       "    <tr>\n",
       "      <th>0</th>\n",
       "      <td>981449118918</td>\n",
       "      <td>Russia</td>\n",
       "      <td>iPhone</td>\n",
       "      <td>organic</td>\n",
       "      <td>2022-05-01 02:36:01</td>\n",
       "      <td>2022-05-01 02:45:01</td>\n",
       "    </tr>\n",
       "    <tr>\n",
       "      <th>1</th>\n",
       "      <td>278965908054</td>\n",
       "      <td>Russia</td>\n",
       "      <td>iPhone</td>\n",
       "      <td>organic</td>\n",
       "      <td>2022-05-01 04:46:31</td>\n",
       "      <td>2022-05-01 04:47:35</td>\n",
       "    </tr>\n",
       "    <tr>\n",
       "      <th>2</th>\n",
       "      <td>590706206550</td>\n",
       "      <td>Russia</td>\n",
       "      <td>Mac</td>\n",
       "      <td>organic</td>\n",
       "      <td>2022-05-01 14:09:25</td>\n",
       "      <td>2022-05-01 15:32:08</td>\n",
       "    </tr>\n",
       "    <tr>\n",
       "      <th>3</th>\n",
       "      <td>326433527971</td>\n",
       "      <td>Russia</td>\n",
       "      <td>Android</td>\n",
       "      <td>TipTop</td>\n",
       "      <td>2022-05-01 00:29:59</td>\n",
       "      <td>2022-05-01 00:54:25</td>\n",
       "    </tr>\n",
       "    <tr>\n",
       "      <th>4</th>\n",
       "      <td>349773784594</td>\n",
       "      <td>Russia</td>\n",
       "      <td>Mac</td>\n",
       "      <td>organic</td>\n",
       "      <td>2022-05-01 03:33:35</td>\n",
       "      <td>2022-05-01 03:57:40</td>\n",
       "    </tr>\n",
       "  </tbody>\n",
       "</table>\n",
       "</div>"
      ],
      "text/plain": [
       "        User Id  Region   Device  Channel        Session Start  \\\n",
       "0  981449118918  Russia   iPhone  organic  2022-05-01 02:36:01   \n",
       "1  278965908054  Russia   iPhone  organic  2022-05-01 04:46:31   \n",
       "2  590706206550  Russia      Mac  organic  2022-05-01 14:09:25   \n",
       "3  326433527971  Russia  Android   TipTop  2022-05-01 00:29:59   \n",
       "4  349773784594  Russia      Mac  organic  2022-05-01 03:33:35   \n",
       "\n",
       "           Session End  \n",
       "0  2022-05-01 02:45:01  \n",
       "1  2022-05-01 04:47:35  \n",
       "2  2022-05-01 15:32:08  \n",
       "3  2022-05-01 00:54:25  \n",
       "4  2022-05-01 03:57:40  "
      ]
     },
     "execution_count": 3,
     "metadata": {},
     "output_type": "execute_result"
    }
   ],
   "source": [
    "print(visitation.shape)\n",
    "visitation.head()"
   ]
  },
  {
   "cell_type": "code",
   "execution_count": 4,
   "id": "dc66a53e-a6e2-4705-877f-7b02462418e6",
   "metadata": {},
   "outputs": [
    {
     "name": "stdout",
     "output_type": "stream",
     "text": [
      "(1800, 3)\n"
     ]
    },
    {
     "data": {
      "text/html": [
       "<div>\n",
       "<style scoped>\n",
       "    .dataframe tbody tr th:only-of-type {\n",
       "        vertical-align: middle;\n",
       "    }\n",
       "\n",
       "    .dataframe tbody tr th {\n",
       "        vertical-align: top;\n",
       "    }\n",
       "\n",
       "    .dataframe thead th {\n",
       "        text-align: right;\n",
       "    }\n",
       "</style>\n",
       "<table border=\"1\" class=\"dataframe\">\n",
       "  <thead>\n",
       "    <tr style=\"text-align: right;\">\n",
       "      <th></th>\n",
       "      <th>dt</th>\n",
       "      <th>Channel</th>\n",
       "      <th>costs</th>\n",
       "    </tr>\n",
       "  </thead>\n",
       "  <tbody>\n",
       "    <tr>\n",
       "      <th>0</th>\n",
       "      <td>2022-05-01</td>\n",
       "      <td>FaceBoom</td>\n",
       "      <td>113.3</td>\n",
       "    </tr>\n",
       "    <tr>\n",
       "      <th>1</th>\n",
       "      <td>2022-05-02</td>\n",
       "      <td>FaceBoom</td>\n",
       "      <td>78.1</td>\n",
       "    </tr>\n",
       "    <tr>\n",
       "      <th>2</th>\n",
       "      <td>2022-05-03</td>\n",
       "      <td>FaceBoom</td>\n",
       "      <td>85.8</td>\n",
       "    </tr>\n",
       "    <tr>\n",
       "      <th>3</th>\n",
       "      <td>2022-05-04</td>\n",
       "      <td>FaceBoom</td>\n",
       "      <td>136.4</td>\n",
       "    </tr>\n",
       "    <tr>\n",
       "      <th>4</th>\n",
       "      <td>2022-05-05</td>\n",
       "      <td>FaceBoom</td>\n",
       "      <td>122.1</td>\n",
       "    </tr>\n",
       "  </tbody>\n",
       "</table>\n",
       "</div>"
      ],
      "text/plain": [
       "           dt   Channel  costs\n",
       "0  2022-05-01  FaceBoom  113.3\n",
       "1  2022-05-02  FaceBoom   78.1\n",
       "2  2022-05-03  FaceBoom   85.8\n",
       "3  2022-05-04  FaceBoom  136.4\n",
       "4  2022-05-05  FaceBoom  122.1"
      ]
     },
     "execution_count": 4,
     "metadata": {},
     "output_type": "execute_result"
    }
   ],
   "source": [
    "print(expenses.shape)\n",
    "expenses.head()"
   ]
  },
  {
   "cell_type": "markdown",
   "id": "05945d66-857d-47f0-9468-b5aa1195ef2c",
   "metadata": {},
   "source": [
    "# Загрузка файлов в базу данных"
   ]
  },
  {
   "cell_type": "code",
   "execution_count": 5,
   "id": "58b3b5c9-b3e8-428c-adae-aac4acc87661",
   "metadata": {},
   "outputs": [],
   "source": [
    "# подключаем базу данных\n",
    "con = sqlite3.connect(\"db.db\")\n",
    "cur = con.cursor()"
   ]
  },
  {
   "cell_type": "code",
   "execution_count": 6,
   "id": "f8967ee0-bdb7-4e06-8a4f-0a6ef3d4e4d4",
   "metadata": {},
   "outputs": [
    {
     "name": "stdout",
     "output_type": "stream",
     "text": [
      "Успешно!\n"
     ]
    }
   ],
   "source": [
    "try:\n",
    "    # Загрузка orders в базу\n",
    "    orders.to_sql('orders', con,\n",
    "              if_exists='replace', index=False)\n",
    "    \n",
    "    # Загрузка visitation в базу\n",
    "    visitation.to_sql('visitation', con,\n",
    "              if_exists='replace', index=False)\n",
    "    \n",
    "    # Загрузка expenses в базу\n",
    "    expenses.to_sql('expenses', con,\n",
    "              if_exists='replace', index=False)\n",
    "except:\n",
    "    print('Ошибка при загрузке данных!!!')\n",
    "else:\n",
    "    print('Успешно!')"
   ]
  },
  {
   "cell_type": "markdown",
   "id": "0c4c34d8-a157-40ac-9410-18cd7305c15d",
   "metadata": {},
   "source": [
    "## Излекаем необходимые данные из базы данные"
   ]
  },
  {
   "cell_type": "code",
   "execution_count": 7,
   "id": "c7f40d16-b0b0-45d9-a35b-0136949f8b5b",
   "metadata": {},
   "outputs": [
    {
     "name": "stdout",
     "output_type": "stream",
     "text": [
      "Успешно!\n"
     ]
    }
   ],
   "source": [
    "try:\n",
    "    # Загрузка orders в базу\n",
    "    query = 'select * from orders'\n",
    "    orders = pd.read_sql(query, con)\n",
    "    \n",
    "    # Загрузка visitation в базу\n",
    "    query = 'select * from visitation'\n",
    "    visitation = pd.read_sql(query, con)\n",
    "    \n",
    "    # Загрузка expenses в базу\n",
    "    query = 'select * from expenses'\n",
    "    expenses = pd.read_sql(query, con)\n",
    "except:\n",
    "    print('Ошибка при загрузке данных!!!')\n",
    "else:\n",
    "    print('Успешно!')"
   ]
  },
  {
   "cell_type": "markdown",
   "id": "3487878f-a271-4150-8d0e-abb8ab273699",
   "metadata": {},
   "source": [
    "# "
   ]
  },
  {
   "cell_type": "markdown",
   "id": "68e146af-38c1-44fb-b0e5-f843e8ddb04c",
   "metadata": {},
   "source": [
    "# Предобработка данных"
   ]
  },
  {
   "cell_type": "markdown",
   "id": "08ef9d7e-3041-4360-8b1f-342660eef053",
   "metadata": {},
   "source": [
    "## Анализ пропусков"
   ]
  },
  {
   "cell_type": "code",
   "execution_count": 8,
   "id": "bcff3ee8-66be-47e6-84b7-82b9271fbc9b",
   "metadata": {},
   "outputs": [
    {
     "data": {
      "text/plain": [
       "User Id     0\n",
       "Event Dt    0\n",
       "Revenue     0\n",
       "dtype: int64"
      ]
     },
     "execution_count": 8,
     "metadata": {},
     "output_type": "execute_result"
    }
   ],
   "source": [
    "orders.isna().sum()"
   ]
  },
  {
   "cell_type": "code",
   "execution_count": 9,
   "id": "4b92e630-b524-4faf-bbed-455b75607854",
   "metadata": {},
   "outputs": [
    {
     "data": {
      "text/plain": [
       "User Id          0\n",
       "Region           0\n",
       "Device           0\n",
       "Channel          0\n",
       "Session Start    0\n",
       "Session End      0\n",
       "dtype: int64"
      ]
     },
     "execution_count": 9,
     "metadata": {},
     "output_type": "execute_result"
    }
   ],
   "source": [
    "visitation.isna().sum()"
   ]
  },
  {
   "cell_type": "code",
   "execution_count": 10,
   "id": "6a556f85-9ac0-4acd-bd64-65d1b3d7181c",
   "metadata": {},
   "outputs": [
    {
     "data": {
      "text/plain": [
       "dt         0\n",
       "Channel    0\n",
       "costs      0\n",
       "dtype: int64"
      ]
     },
     "execution_count": 10,
     "metadata": {},
     "output_type": "execute_result"
    }
   ],
   "source": [
    "expenses.isna().sum()"
   ]
  },
  {
   "cell_type": "markdown",
   "id": "4d87f6f1-ecad-4f13-82f0-75df0b12d57e",
   "metadata": {},
   "source": [
    "### Пропусков не обнаружено"
   ]
  },
  {
   "cell_type": "markdown",
   "id": "31af8c44-ae4e-4a05-808e-b3e4f827c211",
   "metadata": {},
   "source": [
    "## Анализ дубликатов"
   ]
  },
  {
   "cell_type": "code",
   "execution_count": 11,
   "id": "790e458b-692c-4a0d-b57c-01c3d4a0821e",
   "metadata": {},
   "outputs": [
    {
     "data": {
      "text/plain": [
       "0"
      ]
     },
     "execution_count": 11,
     "metadata": {},
     "output_type": "execute_result"
    }
   ],
   "source": [
    "orders.duplicated().sum()"
   ]
  },
  {
   "cell_type": "code",
   "execution_count": 12,
   "id": "a3502888-cc59-4a5e-bf2f-f5d2b8964bb8",
   "metadata": {},
   "outputs": [
    {
     "data": {
      "text/plain": [
       "0"
      ]
     },
     "execution_count": 12,
     "metadata": {},
     "output_type": "execute_result"
    }
   ],
   "source": [
    "visitation.duplicated().sum()"
   ]
  },
  {
   "cell_type": "code",
   "execution_count": 13,
   "id": "8b5dc917-38ae-4d07-b048-e7da0ef6d7df",
   "metadata": {},
   "outputs": [
    {
     "data": {
      "text/plain": [
       "0"
      ]
     },
     "execution_count": 13,
     "metadata": {},
     "output_type": "execute_result"
    }
   ],
   "source": [
    "expenses.duplicated().sum()"
   ]
  },
  {
   "cell_type": "markdown",
   "id": "ab07336d-fa02-4373-a4a2-0227807264f1",
   "metadata": {},
   "source": [
    "### Дубликатов не обнаружено"
   ]
  },
  {
   "cell_type": "markdown",
   "id": "2f2a1128-db4a-4a8d-974a-66407c02988d",
   "metadata": {},
   "source": [
    "#"
   ]
  },
  {
   "cell_type": "markdown",
   "id": "0572e60e-50f7-4bca-a39e-2d12b0bdb394",
   "metadata": {},
   "source": [
    "## Анализ выбросов (аномальных значений)"
   ]
  },
  {
   "cell_type": "code",
   "execution_count": 14,
   "id": "8b515ff2-16f8-448f-b282-fefbc8ced2ca",
   "metadata": {},
   "outputs": [
    {
     "data": {
      "text/plain": [
       "<Axes: >"
      ]
     },
     "execution_count": 14,
     "metadata": {},
     "output_type": "execute_result"
    },
    {
     "data": {
      "image/png": "[encoded data removed]",
      "text/plain": [
       "<Figure size 640x480 with 1 Axes>"
      ]
     },
     "metadata": {},
     "output_type": "display_data"
    }
   ],
   "source": [
    "orders.drop('User Id',axis=1).plot(kind='box')"
   ]
  },
  {
   "cell_type": "markdown",
   "id": "ac15a516-7e87-493e-93a9-a0281bb13fee",
   "metadata": {},
   "source": [
    "#### В наборе orders признак revenue имеет 4 выброса, удаляем их "
   ]
  },
  {
   "cell_type": "code",
   "execution_count": 15,
   "id": "8cbcde95-4bff-41d7-a039-61524fe4ecb1",
   "metadata": {},
   "outputs": [],
   "source": [
    "orders = orders[orders['Revenue'] < 5]"
   ]
  },
  {
   "cell_type": "code",
   "execution_count": 16,
   "id": "73c735c2-e083-4032-8759-0760efdcb035",
   "metadata": {},
   "outputs": [
    {
     "data": {
      "text/plain": [
       "<Axes: >"
      ]
     },
     "execution_count": 16,
     "metadata": {},
     "output_type": "execute_result"
    },
    {
     "data": {
      "image/png": "[encoded data removed]",
      "text/plain": [
       "<Figure size 640x480 with 1 Axes>"
      ]
     },
     "metadata": {},
     "output_type": "display_data"
    }
   ],
   "source": [
    "visitation.plot(kind='box')"
   ]
  },
  {
   "cell_type": "markdown",
   "id": "3bb793f6-93dc-4e54-a0dc-260c1eb343dd",
   "metadata": {},
   "source": [
    "#### В наборе visitation выбросов не обнаружено"
   ]
  },
  {
   "cell_type": "code",
   "execution_count": 17,
   "id": "166dcae8-0fdb-4020-8b61-f6ef193bc9bc",
   "metadata": {},
   "outputs": [
    {
     "data": {
      "text/plain": [
       "<Axes: >"
      ]
     },
     "execution_count": 17,
     "metadata": {},
     "output_type": "execute_result"
    },
    {
     "data": {
      "image/png": "[encoded data removed]",
      "text/plain": [
       "<Figure size 640x480 with 1 Axes>"
      ]
     },
     "metadata": {},
     "output_type": "display_data"
    }
   ],
   "source": [
    "expenses.plot(kind='box')"
   ]
  },
  {
   "cell_type": "markdown",
   "id": "74d9a599-6e66-46b0-9c71-1d72dd878d0e",
   "metadata": {},
   "source": [
    "#### В наборе expenses признак costs имеет много значений, превышающих 75 процентиль. Это обусловливаться разной затратой на привлечение, и мы не можем исключать эти важные данные из набора"
   ]
  },
  {
   "cell_type": "markdown",
   "id": "0308866f-3f34-4c0a-a562-61d2978a2657",
   "metadata": {},
   "source": [
    "## Сохраняем предобработанные данные и загружаем их в базу"
   ]
  },
  {
   "cell_type": "code",
   "execution_count": 18,
   "id": "dc7496fb-303e-4250-b906-366e931851b2",
   "metadata": {},
   "outputs": [],
   "source": [
    "# Сохраняем данные в формате csv\n",
    "orders.to_csv('orders_new.csv', index=False)\n",
    "visitation.to_csv('visitation_new.csv', index=False)\n",
    "expenses.to_csv('expenses_new.csv', index=False)"
   ]
  },
  {
   "cell_type": "code",
   "execution_count": 19,
   "id": "37f42bf8-9253-4d53-9310-bc943690e5c6",
   "metadata": {},
   "outputs": [
    {
     "name": "stdout",
     "output_type": "stream",
     "text": [
      "Успешно!\n"
     ]
    }
   ],
   "source": [
    "try:\n",
    "    # Загрузка orders в базу\n",
    "    orders.to_sql('orders', con,\n",
    "              if_exists='replace', index=False)\n",
    "    \n",
    "    # Загрузка visitation в базу\n",
    "    visitation.to_sql('visitation', con,\n",
    "              if_exists='replace', index=False)\n",
    "    \n",
    "    # Загрузка expenses в базу\n",
    "    expenses.to_sql('expenses', con,\n",
    "              if_exists='replace', index=False)\n",
    "except:\n",
    "    print('Ошибка при загрузке данных!!!')\n",
    "else:\n",
    "    print('Успешно!')\n",
    "con.close()"
   ]
  },
  {
   "cell_type": "markdown",
   "id": "1dfae5a5-5bf4-44c0-ac72-497f057b734a",
   "metadata": {},
   "source": [
    "#"
   ]
  },
  {
   "cell_type": "markdown",
   "id": "ef8a46d3-374c-4872-85ae-32f012e4032d",
   "metadata": {},
   "source": [
    "# Задание функций для расчета ключевых показателей"
   ]
  },
  {
   "cell_type": "markdown",
   "id": "5d8367ce-a40e-4b2d-a7ee-9b248f7e028d",
   "metadata": {},
   "source": [
    "### Функция для формирования профилей пользователя"
   ]
  },
  {
   "cell_type": "code",
   "execution_count": 20,
   "id": "353081d6-4bf3-4147-935a-d5de28cdefa6",
   "metadata": {},
   "outputs": [
    {
     "data": {
      "text/html": [
       "<div>\n",
       "<style scoped>\n",
       "    .dataframe tbody tr th:only-of-type {\n",
       "        vertical-align: middle;\n",
       "    }\n",
       "\n",
       "    .dataframe tbody tr th {\n",
       "        vertical-align: top;\n",
       "    }\n",
       "\n",
       "    .dataframe thead th {\n",
       "        text-align: right;\n",
       "    }\n",
       "</style>\n",
       "<table border=\"1\" class=\"dataframe\">\n",
       "  <thead>\n",
       "    <tr style=\"text-align: right;\">\n",
       "      <th></th>\n",
       "      <th>User Id</th>\n",
       "      <th>Session Start</th>\n",
       "      <th>Session End</th>\n",
       "      <th>Device</th>\n",
       "      <th>Region</th>\n",
       "      <th>Channel</th>\n",
       "      <th>date</th>\n",
       "      <th>mean</th>\n",
       "    </tr>\n",
       "  </thead>\n",
       "  <tbody>\n",
       "    <tr>\n",
       "      <th>0</th>\n",
       "      <td>382394863972</td>\n",
       "      <td>2022-05-01 00:00:41</td>\n",
       "      <td>2022-05-01 01:13:45</td>\n",
       "      <td>Mac</td>\n",
       "      <td>Russia</td>\n",
       "      <td>MediaTornado</td>\n",
       "      <td>2022-05-01</td>\n",
       "      <td>30.482</td>\n",
       "    </tr>\n",
       "    <tr>\n",
       "      <th>1</th>\n",
       "      <td>428935481941</td>\n",
       "      <td>2022-05-01 00:01:35</td>\n",
       "      <td>2022-05-01 02:30:30</td>\n",
       "      <td>PC</td>\n",
       "      <td>Turkey</td>\n",
       "      <td>AdNonSense</td>\n",
       "      <td>2022-05-01</td>\n",
       "      <td>30.482</td>\n",
       "    </tr>\n",
       "    <tr>\n",
       "      <th>2</th>\n",
       "      <td>86266511938</td>\n",
       "      <td>2022-05-01 00:02:38</td>\n",
       "      <td>2022-05-01 01:22:33</td>\n",
       "      <td>Android</td>\n",
       "      <td>China</td>\n",
       "      <td>organic</td>\n",
       "      <td>2022-05-01</td>\n",
       "      <td>30.482</td>\n",
       "    </tr>\n",
       "    <tr>\n",
       "      <th>3</th>\n",
       "      <td>763000657462</td>\n",
       "      <td>2022-05-01 00:04:21</td>\n",
       "      <td>2022-05-01 00:24:15</td>\n",
       "      <td>PC</td>\n",
       "      <td>Turkey</td>\n",
       "      <td>organic</td>\n",
       "      <td>2022-05-01</td>\n",
       "      <td>30.482</td>\n",
       "    </tr>\n",
       "    <tr>\n",
       "      <th>4</th>\n",
       "      <td>791058813280</td>\n",
       "      <td>2022-05-01 00:05:17</td>\n",
       "      <td>2022-05-01 01:14:51</td>\n",
       "      <td>Android</td>\n",
       "      <td>Thailand</td>\n",
       "      <td>LeapBob</td>\n",
       "      <td>2022-05-01</td>\n",
       "      <td>30.482</td>\n",
       "    </tr>\n",
       "  </tbody>\n",
       "</table>\n",
       "</div>"
      ],
      "text/plain": [
       "        User Id       Session Start         Session End   Device    Region  \\\n",
       "0  382394863972 2022-05-01 00:00:41 2022-05-01 01:13:45      Mac    Russia   \n",
       "1  428935481941 2022-05-01 00:01:35 2022-05-01 02:30:30       PC    Turkey   \n",
       "2   86266511938 2022-05-01 00:02:38 2022-05-01 01:22:33  Android     China   \n",
       "3  763000657462 2022-05-01 00:04:21 2022-05-01 00:24:15       PC    Turkey   \n",
       "4  791058813280 2022-05-01 00:05:17 2022-05-01 01:14:51  Android  Thailand   \n",
       "\n",
       "        Channel        date    mean  \n",
       "0  MediaTornado  2022-05-01  30.482  \n",
       "1    AdNonSense  2022-05-01  30.482  \n",
       "2       organic  2022-05-01  30.482  \n",
       "3       organic  2022-05-01  30.482  \n",
       "4       LeapBob  2022-05-01  30.482  "
      ]
     },
     "execution_count": 20,
     "metadata": {},
     "output_type": "execute_result"
    }
   ],
   "source": [
    "def create_profile_df(orders, visitation, expenses):\n",
    "\n",
    "    # Оставляем только первое посещене пользователя\n",
    "    df = visitation[['User Id', 'Session Start', 'Session End', 'Device', 'Region', 'Channel']]\n",
    "    df = df.sort_values(by=['Session Start']).drop_duplicates(keep='first', subset='User Id')\n",
    "    \n",
    "    # добавляем дату первого посещения\n",
    "    df['Session Start'] = pd.to_datetime(df['Session Start'])\n",
    "    df['Session End'] = pd.to_datetime(df['Session End'])\n",
    "    df['date'] = df['Session Start'].dt.date\n",
    "    \n",
    "    # считаем среднюю стоимость привлечения пользователей в день\n",
    "    mean_cost = expenses.groupby('dt', as_index=False).agg({'costs': ['mean']})[['dt', 'costs']]\n",
    "    mean_cost.columns = mean_cost.columns.droplevel(0)\n",
    "    mean_cost = mean_cost.rename(columns={'': 'date'})\n",
    "    mean_cost['date'] = pd.to_datetime(mean_cost['date']).dt.date\n",
    "    df = pd.merge(df, mean_cost,\n",
    "         on='date', how='left')\n",
    "\n",
    "    return df\n",
    "\n",
    "\n",
    "df = create_profile_df(orders, visitation, expenses)\n",
    "# Сохраняем профили в формате csv\n",
    "df.to_csv('profiles.csv', index=False)\n",
    "df.head()"
   ]
  },
  {
   "cell_type": "markdown",
   "id": "3da016e8-9bd0-492e-9997-6040710befdd",
   "metadata": {},
   "source": [
    "### Функция для расчёта прибыли от клиентов (LTV) \n",
    "\n",
    "\n",
    "\n"
   ]
  },
  {
   "cell_type": "markdown",
   "id": "3ed94602-ce61-46ab-8cc5-f760543b8795",
   "metadata": {},
   "source": [
    "LTV (Lifetime Value) — это прогнозируемая сумма прибыли, которую компания может получить от клиента за весь период его взаимодействия с бизнесом. Рассчитывается как произведение среднего дохода от клиента за определённый период и средней продолжительности его жизни."
   ]
  },
  {
   "cell_type": "code",
   "execution_count": 21,
   "id": "7e9fa3d5-123c-4e14-a16b-6ce8aa2fcd45",
   "metadata": {},
   "outputs": [
    {
     "name": "stdout",
     "output_type": "stream",
     "text": [
      "Lifetime Value (LTV) = 528.8578600823046\n"
     ]
    }
   ],
   "source": [
    "def get_ltv(df):\n",
    "    # Средний доход одного пользователя\n",
    "    arpu = df.groupby('User Id')['Revenue'].sum().mean()\n",
    "    \n",
    "    # Средняя продолжительность жизни клиента, мы считаем, что клиенты живут в среднем 24 месяца\n",
    "    clv = 24 \n",
    "    \n",
    "    # Рассчитываем LTV\n",
    "    ltv = arpu * clv\n",
    "    print(f\"Lifetime Value (LTV) = {ltv}\")\n",
    "\n",
    "get_ltv(orders)"
   ]
  },
  {
   "cell_type": "markdown",
   "id": "fdb06fc3-01a1-4cfb-aa18-33151c76b81e",
   "metadata": {},
   "source": [
    "### Функция для расчета коэффициента окупаемости вложений (ROI)"
   ]
  },
  {
   "cell_type": "markdown",
   "id": "41b35f0c-6e4e-4f5c-b83e-7319fda993ad",
   "metadata": {},
   "source": [
    "ROI (Return on Investment) измеряет эффективность инвестиций и показывает, сколько прибыли приносит каждый потраченный рубль."
   ]
  },
  {
   "cell_type": "code",
   "execution_count": 22,
   "id": "67209445-68d8-47c7-880d-6ba03379f9ae",
   "metadata": {},
   "outputs": [
    {
     "name": "stdout",
     "output_type": "stream",
     "text": [
      "Return on Investment (ROI) = 92.77%\n"
     ]
    }
   ],
   "source": [
    "def get_roi(df, investment):\n",
    "    # Доход от пользователей (общая сумма, потраченная всеми пользователями)\n",
    "    revenue = df.groupby('User Id')['Revenue'].sum().sum()\n",
    "    \n",
    "    # Рассчитываем ROI\n",
    "    roi = (revenue - investment) / investment * 100\n",
    "    print(f\"Return on Investment (ROI) = {roi:.2f}%\")\n",
    "\n",
    "get_roi(orders, 100000)"
   ]
  },
  {
   "cell_type": "markdown",
   "id": "9eea734c-ac21-49a6-8035-58970a2dc816",
   "metadata": {},
   "source": [
    "Для вычисления коэффициента удержания и конверсии "
   ]
  },
  {
   "cell_type": "markdown",
   "id": "49800296-8b4f-4f85-a859-ac15c994e347",
   "metadata": {},
   "source": [
    "### Функции для расчёта удержания клиентов"
   ]
  },
  {
   "cell_type": "markdown",
   "id": "6250ad6f-ecae-4708-9e84-32b15b7143f6",
   "metadata": {},
   "source": [
    "Retention Rate (Уровень удержания) — это процент пользователей, которые вернулись в сервис за определённый период времени. Рассчитывается как отношение числа возвращённых пользователей к общему числу пользователей."
   ]
  },
  {
   "cell_type": "code",
   "execution_count": 23,
   "id": "ecd5ae07-2538-451e-a87c-c009a651fc78",
   "metadata": {},
   "outputs": [
    {
     "name": "stdout",
     "output_type": "stream",
     "text": [
      "Уровень удержания = 64.43%\n"
     ]
    }
   ],
   "source": [
    "def get_retention(orders):\n",
    "    # пользователи, которые вернулись\n",
    "    returned = (orders.groupby(['User Id'])['Event Dt'].count() > 1).sum()\n",
    "    # общее число пользователей\n",
    "    all_users = orders['User Id'].nunique()\n",
    "\n",
    "    print(f\"Уровень удержания = {returned / all_users * 100:.2f}%\") \n",
    "get_retention(orders)"
   ]
  },
  {
   "cell_type": "markdown",
   "id": "20338740-fdb5-42fb-bf75-2ed658c3a1d7",
   "metadata": {},
   "source": [
    "### Функция для расчёта конверсии"
   ]
  },
  {
   "cell_type": "markdown",
   "id": "e42123f8-6432-4c50-8dd5-d28874e7159a",
   "metadata": {},
   "source": [
    "Conversion Rate (Конверсия) — это процент пользователей, которые совершили целевое действие (например, покупку) по отношению к общему числу пользователей, посетивших сайт или приложение."
   ]
  },
  {
   "cell_type": "code",
   "execution_count": 24,
   "id": "0690fdbe-abe9-4dd0-b461-bace5b5cacc1",
   "metadata": {},
   "outputs": [
    {
     "name": "stdout",
     "output_type": "stream",
     "text": [
      "Конверсия = 5.83%\n"
     ]
    }
   ],
   "source": [
    "def get_conversion(orders, visitation):\n",
    "    # пользователи, которых привлекли\n",
    "    attracted = visitation['User Id'].nunique()\n",
    "    # пользоатели, которые совершили покупку\n",
    "    purchased = orders['User Id'].nunique()\n",
    "\n",
    "    print(f\"Конверсия = {(purchased / attracted) * 100:.2f}%\") \n",
    "get_conversion(orders, visitation)"
   ]
  },
  {
   "cell_type": "markdown",
   "id": "ee8c9bb5-4315-4b9a-aba8-06c4704847cb",
   "metadata": {},
   "source": [
    "#"
   ]
  },
  {
   "cell_type": "markdown",
   "id": "ffadf3e8-2cdb-49c3-8ecc-ac362042faf2",
   "metadata": {},
   "source": [
    "# Вывод"
   ]
  },
  {
   "cell_type": "markdown",
   "id": "1b74460b-b0b1-41a6-ab3f-490c80fa5884",
   "metadata": {},
   "source": [
    "В ходе модуля А, были сделаны следующие действия:\n",
    "* создана база данных\n",
    "* проведена предобработка данных\n",
    "* задана фунция для формирования набора данных профилей пользователя\n",
    "* определены функции для расчета LTV, ROI, коэффициента удержания и конверсии"
   ]
  }
 ],
 "metadata": {
  "kernelspec": {
   "display_name": "Python 3 (ipykernel)",
   "language": "python",
   "name": "python3"
  },
  "language_info": {
   "codemirror_mode": {
    "name": "ipython",
    "version": 3
   },
   "file_extension": ".py",
   "mimetype": "text/x-python",
   "name": "python",
   "nbconvert_exporter": "python",
   "pygments_lexer": "ipython3",
   "version": "3.12.7"
  }
 },
 "nbformat": 4,
 "nbformat_minor": 5
}
