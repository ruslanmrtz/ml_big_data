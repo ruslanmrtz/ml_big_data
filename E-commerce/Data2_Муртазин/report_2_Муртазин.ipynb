{
 "cells": [
  {
   "cell_type": "markdown",
   "id": "731c854b-3c30-40ed-82d9-43091fd7ebe4",
   "metadata": {},
   "source": [
    "# Импорт библиотек"
   ]
  },
  {
   "cell_type": "code",
   "execution_count": 3,
   "id": "ff4f5d92-02e0-486c-8be4-eb1244ef27a1",
   "metadata": {},
   "outputs": [],
   "source": [
    "import pandas as pd"
   ]
  },
  {
   "cell_type": "markdown",
   "id": "f5f80e91-450d-44d0-a1d1-515342d810c3",
   "metadata": {},
   "source": [
    "# Импорт данных"
   ]
  },
  {
   "cell_type": "markdown",
   "id": "0fe9277d-0c4b-4a7d-9da1-e22df57af46e",
   "metadata": {},
   "source": [
    "Используя функцию из прошлого модуля, берем данные из файла profiles.csv"
   ]
  },
  {
   "cell_type": "code",
   "execution_count": 113,
   "id": "f33f0944-c75a-452a-8d98-c336ca0e4878",
   "metadata": {},
   "outputs": [
    {
     "data": {
      "text/html": [
       "<div>\n",
       "<style scoped>\n",
       "    .dataframe tbody tr th:only-of-type {\n",
       "        vertical-align: middle;\n",
       "    }\n",
       "\n",
       "    .dataframe tbody tr th {\n",
       "        vertical-align: top;\n",
       "    }\n",
       "\n",
       "    .dataframe thead th {\n",
       "        text-align: right;\n",
       "    }\n",
       "</style>\n",
       "<table border=\"1\" class=\"dataframe\">\n",
       "  <thead>\n",
       "    <tr style=\"text-align: right;\">\n",
       "      <th></th>\n",
       "      <th>User Id</th>\n",
       "      <th>Session Start</th>\n",
       "      <th>Session End</th>\n",
       "      <th>Device</th>\n",
       "      <th>Region</th>\n",
       "      <th>Channel</th>\n",
       "      <th>date</th>\n",
       "      <th>mean</th>\n",
       "      <th>Revenue</th>\n",
       "    </tr>\n",
       "  </thead>\n",
       "  <tbody>\n",
       "    <tr>\n",
       "      <th>0</th>\n",
       "      <td>382394863972</td>\n",
       "      <td>2022-05-01 00:00:41</td>\n",
       "      <td>2022-05-01 01:13:45</td>\n",
       "      <td>Mac</td>\n",
       "      <td>Russia</td>\n",
       "      <td>MediaTornado</td>\n",
       "      <td>2022-05-01</td>\n",
       "      <td>30.482</td>\n",
       "      <td>0.0</td>\n",
       "    </tr>\n",
       "    <tr>\n",
       "      <th>1</th>\n",
       "      <td>428935481941</td>\n",
       "      <td>2022-05-01 00:01:35</td>\n",
       "      <td>2022-05-01 02:30:30</td>\n",
       "      <td>PC</td>\n",
       "      <td>Turkey</td>\n",
       "      <td>AdNonSense</td>\n",
       "      <td>2022-05-01</td>\n",
       "      <td>30.482</td>\n",
       "      <td>0.0</td>\n",
       "    </tr>\n",
       "    <tr>\n",
       "      <th>2</th>\n",
       "      <td>86266511938</td>\n",
       "      <td>2022-05-01 00:02:38</td>\n",
       "      <td>2022-05-01 01:22:33</td>\n",
       "      <td>Android</td>\n",
       "      <td>China</td>\n",
       "      <td>organic</td>\n",
       "      <td>2022-05-01</td>\n",
       "      <td>30.482</td>\n",
       "      <td>0.0</td>\n",
       "    </tr>\n",
       "    <tr>\n",
       "      <th>3</th>\n",
       "      <td>763000657462</td>\n",
       "      <td>2022-05-01 00:04:21</td>\n",
       "      <td>2022-05-01 00:24:15</td>\n",
       "      <td>PC</td>\n",
       "      <td>Turkey</td>\n",
       "      <td>organic</td>\n",
       "      <td>2022-05-01</td>\n",
       "      <td>30.482</td>\n",
       "      <td>0.0</td>\n",
       "    </tr>\n",
       "    <tr>\n",
       "      <th>4</th>\n",
       "      <td>791058813280</td>\n",
       "      <td>2022-05-01 00:05:17</td>\n",
       "      <td>2022-05-01 01:14:51</td>\n",
       "      <td>Android</td>\n",
       "      <td>Thailand</td>\n",
       "      <td>LeapBob</td>\n",
       "      <td>2022-05-01</td>\n",
       "      <td>30.482</td>\n",
       "      <td>0.0</td>\n",
       "    </tr>\n",
       "  </tbody>\n",
       "</table>\n",
       "</div>"
      ],
      "text/plain": [
       "        User Id       Session Start         Session End   Device    Region  \\\n",
       "0  382394863972 2022-05-01 00:00:41 2022-05-01 01:13:45      Mac    Russia   \n",
       "1  428935481941 2022-05-01 00:01:35 2022-05-01 02:30:30       PC    Turkey   \n",
       "2   86266511938 2022-05-01 00:02:38 2022-05-01 01:22:33  Android     China   \n",
       "3  763000657462 2022-05-01 00:04:21 2022-05-01 00:24:15       PC    Turkey   \n",
       "4  791058813280 2022-05-01 00:05:17 2022-05-01 01:14:51  Android  Thailand   \n",
       "\n",
       "        Channel       date    mean  Revenue  \n",
       "0  MediaTornado 2022-05-01  30.482      0.0  \n",
       "1    AdNonSense 2022-05-01  30.482      0.0  \n",
       "2       organic 2022-05-01  30.482      0.0  \n",
       "3       organic 2022-05-01  30.482      0.0  \n",
       "4       LeapBob 2022-05-01  30.482      0.0  "
      ]
     },
     "execution_count": 113,
     "metadata": {},
     "output_type": "execute_result"
    }
   ],
   "source": [
    "df = pd.read_csv('profiles.csv')\n",
    "df['date'] = pd.to_datetime(df['date'])\n",
    "df['Session Start'] = pd.to_datetime(df['Session Start'])\n",
    "df['Session End'] = pd.to_datetime(df['Session End'])\n",
    "df.head()"
   ]
  },
  {
   "cell_type": "markdown",
   "id": "05026615-23a2-4a0d-85f9-f0ed751131ba",
   "metadata": {},
   "source": [
    "# Исследовательский анализ данных"
   ]
  },
  {
   "cell_type": "markdown",
   "id": "7861fe48-cbb5-4fd8-89ae-9d49304f1a69",
   "metadata": {},
   "source": [
    "## DAU"
   ]
  },
  {
   "cell_type": "markdown",
   "id": "3e234b24-90ed-4885-94ae-7be070ad6ac4",
   "metadata": {},
   "source": [
    "DAU (Daily Active Users) — это количество уникальных пользователей, которые взаимодействовали с приложением в течение одного дня."
   ]
  },
  {
   "cell_type": "code",
   "execution_count": 12,
   "id": "d4e421c8-37e1-40b7-8120-d0bcab79c2de",
   "metadata": {},
   "outputs": [
    {
     "name": "stdout",
     "output_type": "stream",
     "text": [
      "DAU:\n",
      "date\n",
      "2022-05-01     909\n",
      "2022-05-02     758\n",
      "2022-05-03     849\n",
      "2022-05-04    1015\n",
      "2022-05-05     970\n",
      "              ... \n",
      "2022-10-23     739\n",
      "2022-10-24     940\n",
      "2022-10-25    1021\n",
      "2022-10-26    1045\n",
      "2022-10-27    1087\n",
      "Name: User Id, Length: 180, dtype: int64\n"
     ]
    }
   ],
   "source": [
    "# Рассчитываем DAU (ежедневная активность пользователей)\n",
    "dau = df.groupby('date')['User Id'].nunique()  # Количество уникальных пользователей по дате\n",
    "print(\"DAU:\")\n",
    "print(dau)"
   ]
  },
  {
   "cell_type": "markdown",
   "id": "17533afe-899c-4bde-95fd-e0f804ae4589",
   "metadata": {},
   "source": [
    "# WAU"
   ]
  },
  {
   "cell_type": "markdown",
   "id": "655be355-4ea7-418a-adfc-e11378eadb8e",
   "metadata": {},
   "source": [
    "WAU (Weekly Active Users) — количество уникальных пользователей, которые взаимодействовали с приложением в течение недели."
   ]
  },
  {
   "cell_type": "code",
   "execution_count": 13,
   "id": "709cc783-75a2-43ae-9465-20d135b85d22",
   "metadata": {},
   "outputs": [
    {
     "name": "stdout",
     "output_type": "stream",
     "text": [
      "\n",
      "WAU:\n",
      "week\n",
      "17     909\n",
      "18    6276\n",
      "19    6191\n",
      "20    6148\n",
      "21    6017\n",
      "22    5400\n",
      "23    4443\n",
      "24    4481\n",
      "25    6264\n",
      "26    6939\n",
      "27    5746\n",
      "28    4330\n",
      "29    4283\n",
      "30    5434\n",
      "31    5958\n",
      "32    5777\n",
      "33    6124\n",
      "34    6186\n",
      "35    5560\n",
      "36    4841\n",
      "37    5308\n",
      "38    7263\n",
      "39    7948\n",
      "40    6841\n",
      "41    5428\n",
      "42    5820\n",
      "43    4093\n",
      "Name: User Id, dtype: int64\n"
     ]
    }
   ],
   "source": [
    "# Сначала создаём столбец с номером недели\n",
    "df['week'] = df['date'].dt.isocalendar().week\n",
    "\n",
    "wau = df.groupby('week')['User Id'].nunique()  # Количество уникальных пользователей за неделю\n",
    "print(\"\\nWAU:\")\n",
    "print(wau)"
   ]
  },
  {
   "cell_type": "markdown",
   "id": "58929b04-0b0d-4879-bd7a-453387a2bc28",
   "metadata": {},
   "source": [
    "# MAU"
   ]
  },
  {
   "cell_type": "markdown",
   "id": "d31cda3b-3f26-4df0-b327-685072f66820",
   "metadata": {},
   "source": [
    "MAU (Monthly Active Users) — количество уникальных пользователей, которые взаимодействовали с приложением в течение месяца."
   ]
  },
  {
   "cell_type": "code",
   "execution_count": 14,
   "id": "1871dfa4-0a7d-4d88-b1af-a9cbf7e00352",
   "metadata": {},
   "outputs": [
    {
     "name": "stdout",
     "output_type": "stream",
     "text": [
      "\n",
      "MAU:\n",
      "month\n",
      "5     27111\n",
      "6     23123\n",
      "7     22627\n",
      "8     26586\n",
      "9     26327\n",
      "10    24234\n",
      "Name: User Id, dtype: int64\n"
     ]
    }
   ],
   "source": [
    "df['month'] = df['date'].dt.month\n",
    "\n",
    "mau = df.groupby('month')['User Id'].nunique()  # Количество уникальных пользователей за месяц\n",
    "print(\"\\nMAU:\")\n",
    "print(mau)"
   ]
  },
  {
   "cell_type": "markdown",
   "id": "18cb0e45-2c54-4dd2-b2d6-658c55235b65",
   "metadata": {},
   "source": [
    "## Количество времени, проведенное в приложении "
   ]
  },
  {
   "cell_type": "code",
   "execution_count": 27,
   "id": "8c3e898b-3f02-4b1a-971c-510f239fe16a",
   "metadata": {},
   "outputs": [
    {
     "data": {
      "text/plain": [
       "75082.0"
      ]
     },
     "execution_count": 27,
     "metadata": {},
     "output_type": "execute_result"
    }
   ],
   "source": [
    "((df['Session End'] - df['Session Start']).dt.total_seconds().sum()) // 3600"
   ]
  },
  {
   "cell_type": "markdown",
   "id": "ab201a6d-42f5-4f52-9f0a-bbdabe5fd2ae",
   "metadata": {},
   "source": [
    "## Распределение привлеченных пользователей"
   ]
  },
  {
   "cell_type": "markdown",
   "id": "7f4829d9-6dcf-453a-b3a1-4d5ecc726b62",
   "metadata": {},
   "source": [
    "#### Распределение по устройству"
   ]
  },
  {
   "cell_type": "code",
   "execution_count": 31,
   "id": "5e269e03-ac65-4f5c-b8e8-6f30f6139278",
   "metadata": {},
   "outputs": [
    {
     "data": {
      "text/plain": [
       "Device\n",
       "iPhone     54479\n",
       "Android    35032\n",
       "PC         30455\n",
       "Mac        30042\n",
       "Name: count, dtype: int64"
      ]
     },
     "execution_count": 31,
     "metadata": {},
     "output_type": "execute_result"
    }
   ],
   "source": [
    "df.value_counts('Device')"
   ]
  },
  {
   "cell_type": "markdown",
   "id": "9daaff31-4506-4d96-8b0e-69a8fe87ef00",
   "metadata": {},
   "source": [
    "#### Распределение по стране"
   ]
  },
  {
   "cell_type": "code",
   "execution_count": 36,
   "id": "3b98e93b-0497-4808-8e7a-f446ee9dc2f1",
   "metadata": {},
   "outputs": [
    {
     "data": {
      "text/plain": [
       "Region\n",
       "Russia      100002\n",
       "Turkey       17575\n",
       "Thailand     17450\n",
       "China        14981\n",
       "Name: count, dtype: int64"
      ]
     },
     "execution_count": 36,
     "metadata": {},
     "output_type": "execute_result"
    }
   ],
   "source": [
    "df.value_counts('Region')"
   ]
  },
  {
   "cell_type": "markdown",
   "id": "74a1e5ee-3a8e-4570-a57c-0fcd25c05714",
   "metadata": {},
   "source": [
    "#### Распределение по каналу привлечения"
   ]
  },
  {
   "cell_type": "code",
   "execution_count": 35,
   "id": "2e7f2b7a-5987-467d-a32c-f66f7be924a0",
   "metadata": {},
   "outputs": [
    {
     "data": {
      "text/plain": [
       "Channel\n",
       "organic               56439\n",
       "FaceBoom              29144\n",
       "TipTop                19561\n",
       "OppleCreativeMedia     8605\n",
       "LeapBob                8553\n",
       "WahooNetBanner         8553\n",
       "RocketSuperAds         4448\n",
       "MediaTornado           4364\n",
       "YRabbit                4312\n",
       "AdNonSense             3880\n",
       "lambdaMediaAds         2149\n",
       "Name: count, dtype: int64"
      ]
     },
     "execution_count": 35,
     "metadata": {},
     "output_type": "execute_result"
    }
   ],
   "source": [
    "df.value_counts('Channel')"
   ]
  },
  {
   "cell_type": "markdown",
   "id": "7492b8ba-4481-4e41-b892-160145f85ec7",
   "metadata": {},
   "source": [
    "### Весь дашборд доступен в файле Dashboard.py"
   ]
  },
  {
   "cell_type": "markdown",
   "id": "5cc97a64-9826-4a50-b788-b6af799897fb",
   "metadata": {},
   "source": [
    "#"
   ]
  },
  {
   "cell_type": "markdown",
   "id": "68db8a19-9f55-4530-bf08-d7c86d3c3980",
   "metadata": {},
   "source": [
    "# 2.3 Создание профилей пользователей"
   ]
  },
  {
   "cell_type": "markdown",
   "id": "a6aca570-5059-4f34-8897-6d40d69744ff",
   "metadata": {},
   "source": [
    "### Из каких стран приходят посетители? Какие страны дают больше всего платящих пользователей"
   ]
  },
  {
   "cell_type": "code",
   "execution_count": 53,
   "id": "856bf4a6-47a9-4197-bbf5-67507aa16fe0",
   "metadata": {},
   "outputs": [
    {
     "data": {
      "text/plain": [
       "Region\n",
       "Russia      1.341884\n",
       "Turkey      1.212648\n",
       "China       1.206780\n",
       "Thailand    1.099516\n",
       "Name: Revenue, dtype: float64"
      ]
     },
     "execution_count": 53,
     "metadata": {},
     "output_type": "execute_result"
    },
    {
     "data": {
      "image/png": "[encoded data removed]",
      "text/plain": [
       "<Figure size 640x480 with 1 Axes>"
      ]
     },
     "metadata": {},
     "output_type": "display_data"
    }
   ],
   "source": [
    "result = df.groupby('Region')['Revenue'].mean().sort_values(ascending=False)\n",
    "result.plot(kind='bar')\n",
    "result"
   ]
  },
  {
   "cell_type": "markdown",
   "id": "8dae2697-8d0e-4ef4-89ae-5dd779f008d8",
   "metadata": {},
   "source": [
    "#### В России и Турции самые платящие пользователи."
   ]
  },
  {
   "cell_type": "markdown",
   "id": "8716a9e3-e4ce-4a85-ae6a-fae0faeb8410",
   "metadata": {},
   "source": [
    "### Какими устройствами они пользуются? С каких устройств чаще всего заходят платящие пользователи?"
   ]
  },
  {
   "cell_type": "code",
   "execution_count": 49,
   "id": "54e6039c-be5e-4d4d-a645-d46b9c19ceea",
   "metadata": {},
   "outputs": [
    {
     "data": {
      "text/plain": [
       "Device\n",
       "Android    1.381604\n",
       "iPhone     1.319395\n",
       "PC         1.307851\n",
       "Mac        1.281804\n",
       "Name: Revenue, dtype: float64"
      ]
     },
     "execution_count": 49,
     "metadata": {},
     "output_type": "execute_result"
    },
    {
     "data": {
      "image/png": "[encoded data removed]",
      "text/plain": [
       "<Figure size 640x480 with 1 Axes>"
      ]
     },
     "metadata": {},
     "output_type": "display_data"
    }
   ],
   "source": [
    "result = df[df['Region'].isin(['Russia', 'Turkey'])].groupby('Device')['Revenue'].mean().sort_values(ascending=False)\n",
    "result.plot(kind='bar')\n",
    "result"
   ]
  },
  {
   "cell_type": "markdown",
   "id": "1582ef01-3de6-4cd1-8aff-aeed27767acf",
   "metadata": {},
   "source": [
    "#### Из данных видно, что платящие пользователи из стран России и Турции чаще всего пользуются Android, хотя и с незначительным отрывом."
   ]
  },
  {
   "cell_type": "markdown",
   "id": "f54f160b-c4ca-4411-9ff4-ac7f6a9447fd",
   "metadata": {},
   "source": [
    "### По каким рекламный каналам шло привлечение пользователей? Какие каналы приносят больше всего платящих пользователей?"
   ]
  },
  {
   "cell_type": "code",
   "execution_count": 50,
   "id": "31f0663c-acf2-4f9e-be2a-b3d2cc61e752",
   "metadata": {},
   "outputs": [
    {
     "data": {
      "text/plain": [
       "Channel\n",
       "lambdaMediaAds        3.636268\n",
       "TipTop                3.197671\n",
       "RocketSuperAds        2.333453\n",
       "WahooNetBanner        2.102649\n",
       "YRabbit               1.292632\n",
       "MediaTornado          1.162885\n",
       "LeapBob               0.990649\n",
       "OppleCreativeMedia    0.861145\n",
       "AdNonSense            0.838526\n",
       "FaceBoom              0.775792\n",
       "organic               0.737904\n",
       "Name: Revenue, dtype: float64"
      ]
     },
     "execution_count": 50,
     "metadata": {},
     "output_type": "execute_result"
    },
    {
     "data": {
      "image/png": "[encoded data removed]",
      "text/plain": [
       "<Figure size 640x480 with 1 Axes>"
      ]
     },
     "metadata": {},
     "output_type": "display_data"
    }
   ],
   "source": [
    "result = df.groupby('Channel')['Revenue'].mean().sort_values(ascending=False)\n",
    "result.plot(kind='bar')\n",
    "result"
   ]
  },
  {
   "cell_type": "markdown",
   "id": "b4a8a18f-0f35-4346-9394-a8b6c5375975",
   "metadata": {},
   "source": [
    "#### Очевидным лидером среди каналов является lambdaMediaAds, дальше идут TipTop и RocketSuperAds."
   ]
  },
  {
   "cell_type": "markdown",
   "id": "50b5ffc2-ecd7-4dd2-adfd-199125dab4c2",
   "metadata": {},
   "source": [
    "#"
   ]
  },
  {
   "cell_type": "markdown",
   "id": "8a3d15c1-02a5-47c6-b988-72bf6d242374",
   "metadata": {},
   "source": [
    "# 2.4 Маркетинговый анализ"
   ]
  },
  {
   "cell_type": "markdown",
   "id": "ba312848-d7f7-4145-a889-a670bde8bfe6",
   "metadata": {},
   "source": [
    "### Для проведения маркетиногового анализа необходимо рассчитать сколько денег потратили на привлечение:"
   ]
  },
  {
   "cell_type": "markdown",
   "id": "7ac673af-0bd1-4c53-8b7e-1873b1e05364",
   "metadata": {},
   "source": [
    "### Сколько денег потратили всего:"
   ]
  },
  {
   "cell_type": "code",
   "execution_count": 90,
   "id": "953e1f26-e90b-42d6-baff-e893308f8e91",
   "metadata": {},
   "outputs": [
    {
     "data": {
      "text/plain": [
       "10549.73"
      ]
     },
     "execution_count": 90,
     "metadata": {},
     "output_type": "execute_result"
    }
   ],
   "source": [
    "df.drop_duplicates(subset='mean')['mean'].sum()"
   ]
  },
  {
   "cell_type": "markdown",
   "id": "c47e8097-417d-45a4-97f3-aa5619a1141d",
   "metadata": {},
   "source": [
    "### Сколько денег потратили на каждый источник:"
   ]
  },
  {
   "cell_type": "code",
   "execution_count": 91,
   "id": "104e0ca0-e840-447f-b425-e50fb2f8c9c2",
   "metadata": {},
   "outputs": [
    {
     "data": {
      "text/plain": [
       "Channel\n",
       "organic               3882.0\n",
       "FaceBoom              2273.0\n",
       "TipTop                 846.0\n",
       "LeapBob                788.0\n",
       "OppleCreativeMedia     722.0\n",
       "WahooNetBanner         495.0\n",
       "AdNonSense             440.0\n",
       "RocketSuperAds         402.0\n",
       "MediaTornado           324.0\n",
       "YRabbit                279.0\n",
       "lambdaMediaAds         101.0\n",
       "Name: mean, dtype: float64"
      ]
     },
     "execution_count": 91,
     "metadata": {},
     "output_type": "execute_result"
    }
   ],
   "source": [
    "df.drop_duplicates(subset='mean').groupby('Channel')['mean'].sum().sort_values(ascending=False).round()"
   ]
  },
  {
   "cell_type": "markdown",
   "id": "26c6924a-1a6f-440d-8221-0191574b9993",
   "metadata": {},
   "source": [
    "### На канал organic потратили больше всего денег"
   ]
  },
  {
   "cell_type": "markdown",
   "id": "ad26369f-bca7-4eee-bf34-174d5f0b9658",
   "metadata": {},
   "source": [
    "### Сколько денег потратили по времени:"
   ]
  },
  {
   "cell_type": "code",
   "execution_count": 92,
   "id": "8867b137-02d8-4693-a69a-79eacc5c9e57",
   "metadata": {},
   "outputs": [
    {
     "data": {
      "text/plain": [
       "date\n",
       "2022-05-01    30.4820\n",
       "2022-05-02    23.0845\n",
       "2022-05-03    26.3070\n",
       "2022-05-04    33.7000\n",
       "2022-05-05    31.9905\n",
       "               ...   \n",
       "2022-10-23    59.2995\n",
       "2022-10-24    73.7590\n",
       "2022-10-25    86.2600\n",
       "2022-10-26    95.2370\n",
       "2022-10-27    96.7165\n",
       "Name: mean, Length: 180, dtype: float64"
      ]
     },
     "execution_count": 92,
     "metadata": {},
     "output_type": "execute_result"
    },
    {
     "data": {
      "image/png": "[encoded data removed]",
      "text/plain": [
       "<Figure size 640x480 with 1 Axes>"
      ]
     },
     "metadata": {},
     "output_type": "display_data"
    }
   ],
   "source": [
    "result = df.drop_duplicates(subset='mean').groupby('date')['mean'].sum()\n",
    "result.plot()\n",
    "result"
   ]
  },
  {
   "cell_type": "markdown",
   "id": "68a7d9e2-e062-4462-874c-2265c322c720",
   "metadata": {},
   "source": [
    "### Виден тренд - траты растут с каждым днем"
   ]
  },
  {
   "cell_type": "markdown",
   "id": "72d897e8-d33b-419c-8b11-eca669a1dfe9",
   "metadata": {},
   "source": [
    "### Сколько в среднем стоило привлечение одного покупателя из каждого источника:"
   ]
  },
  {
   "cell_type": "code",
   "execution_count": 93,
   "id": "ee2d8b8e-4887-48ec-8bee-c98d01bf7297",
   "metadata": {},
   "outputs": [
    {
     "data": {
      "text/plain": [
       "Channel\n",
       "YRabbit               70.0\n",
       "LeapBob               66.0\n",
       "FaceBoom              63.0\n",
       "WahooNetBanner        62.0\n",
       "organic               58.0\n",
       "RocketSuperAds        57.0\n",
       "OppleCreativeMedia    56.0\n",
       "AdNonSense            55.0\n",
       "TipTop                53.0\n",
       "lambdaMediaAds        50.0\n",
       "MediaTornado          46.0\n",
       "Name: mean, dtype: float64"
      ]
     },
     "execution_count": 93,
     "metadata": {},
     "output_type": "execute_result"
    }
   ],
   "source": [
    "df.drop_duplicates(subset='mean').groupby('Channel')['mean'].mean().sort_values(ascending=False).round()"
   ]
  },
  {
   "cell_type": "markdown",
   "id": "1a33412e-3e42-4fb0-953d-04fa4519b66c",
   "metadata": {},
   "source": [
    "###"
   ]
  },
  {
   "cell_type": "markdown",
   "id": "55da7db8-0d74-4ca2-958f-494154b6e9ff",
   "metadata": {},
   "source": [
    "## Оценим окупаемость рекламы для привлечения пользователей"
   ]
  },
  {
   "cell_type": "markdown",
   "id": "e4ca470c-5348-4e45-bd7e-994f5b8a06e4",
   "metadata": {},
   "source": [
    "### Расчитаем параметр - окупаемость"
   ]
  },
  {
   "cell_type": "markdown",
   "id": "227e3996-c1e6-4f70-9ae2-aefc0080e554",
   "metadata": {},
   "source": [
    "### Так как для создания профиля в Модуле 1 мы добавляли колонку \"траты на привлечение\" (Revenue), которая считается за день, то окупаемость тоже будем считать за день"
   ]
  },
  {
   "cell_type": "code",
   "execution_count": 115,
   "id": "d11aaf42-20b2-4968-bd14-b3e46363c9c6",
   "metadata": {},
   "outputs": [],
   "source": [
    "# Добавляем колонку доход за день\n",
    "revenue_day = df.groupby(['date'])['Revenue'].sum().reset_index().rename(columns={'Revenue': 'revenue_day'})\n",
    "df = df.merge(revenue_day, on='date', how='left')"
   ]
  },
  {
   "cell_type": "code",
   "execution_count": 118,
   "id": "974df7f4-bcd7-41dd-bcbb-076cab6cff37",
   "metadata": {},
   "outputs": [],
   "source": [
    "# Добавляем колонку окупаемость в день\n",
    "f['payback'] = df['revenue_day'] - df['mean']"
   ]
  },
  {
   "cell_type": "markdown",
   "id": "e7066491-27d3-437a-84a0-b8c2aecb1cec",
   "metadata": {},
   "source": [
    "### Общая окупаемость рекламы:"
   ]
  },
  {
   "cell_type": "code",
   "execution_count": 124,
   "id": "7fc0211c-ab14-45ec-ad6c-c672a4dc1714",
   "metadata": {},
   "outputs": [
    {
     "data": {
      "text/plain": [
       "182219.0"
      ]
     },
     "execution_count": 124,
     "metadata": {},
     "output_type": "execute_result"
    }
   ],
   "source": [
    "df.drop_duplicates(subset='date')['payback'].sum().round()"
   ]
  },
  {
   "cell_type": "markdown",
   "id": "4ed0d5ea-1b28-48df-8075-1969b455855f",
   "metadata": {},
   "source": [
    "### Окупаемость реклами с разбивкой по устройствам:"
   ]
  },
  {
   "cell_type": "code",
   "execution_count": 127,
   "id": "38497f05-8341-48ea-85bf-6eb0e71d32a3",
   "metadata": {},
   "outputs": [
    {
     "data": {
      "text/plain": [
       "Device\n",
       "iPhone     62082.5615\n",
       "Android    49916.9900\n",
       "Mac        35751.4975\n",
       "PC         34467.9110\n",
       "Name: payback, dtype: float64"
      ]
     },
     "execution_count": 127,
     "metadata": {},
     "output_type": "execute_result"
    }
   ],
   "source": [
    "df.drop_duplicates(subset='date').groupby('Device')['payback'].sum().sort_values(ascending=False)"
   ]
  },
  {
   "cell_type": "markdown",
   "id": "d77da2e0-20aa-42ca-b8e3-e3253f14e554",
   "metadata": {},
   "source": [
    "### пользователи с Iphone позволяют получить самую большую окупаемость"
   ]
  },
  {
   "cell_type": "markdown",
   "id": "edf8314b-02a0-4973-afb7-3da3453a1cba",
   "metadata": {},
   "source": [
    "### Окупаемость реклами с разбивкой по странам:"
   ]
  },
  {
   "cell_type": "code",
   "execution_count": 128,
   "id": "5923d8dd-c792-4bd9-8140-52e83689cf93",
   "metadata": {},
   "outputs": [
    {
     "data": {
      "text/plain": [
       "Region\n",
       "Russia      111533.6120\n",
       "Turkey       25843.1845\n",
       "Thailand     24322.2340\n",
       "China        20519.9295\n",
       "Name: payback, dtype: float64"
      ]
     },
     "execution_count": 128,
     "metadata": {},
     "output_type": "execute_result"
    }
   ],
   "source": [
    "df.drop_duplicates(subset='date').groupby('Region')['payback'].sum().sort_values(ascending=False)"
   ]
  },
  {
   "cell_type": "markdown",
   "id": "5e6bdea5-c1ea-489d-85eb-735fa3572271",
   "metadata": {},
   "source": [
    "### Реклама в России позвоялем получить самую большую окупаемость"
   ]
  },
  {
   "cell_type": "markdown",
   "id": "cb794f74-46bb-479a-acaf-31653d506895",
   "metadata": {},
   "source": [
    "### Окупаемость реклами с разбивкой по рекламным каналам:"
   ]
  },
  {
   "cell_type": "code",
   "execution_count": 129,
   "id": "373ea01c-89d4-442e-8bb5-c2fcc4856f07",
   "metadata": {},
   "outputs": [
    {
     "data": {
      "text/plain": [
       "Channel\n",
       "organic               64656.1250\n",
       "FaceBoom              33330.6750\n",
       "TipTop                16304.8385\n",
       "OppleCreativeMedia    13060.1780\n",
       "LeapBob               12675.3075\n",
       "WahooNetBanner        11291.8720\n",
       "AdNonSense             9365.7900\n",
       "RocketSuperAds         8165.6775\n",
       "MediaTornado           6352.8535\n",
       "YRabbit                4785.9970\n",
       "lambdaMediaAds         2229.6460\n",
       "Name: payback, dtype: float64"
      ]
     },
     "execution_count": 129,
     "metadata": {},
     "output_type": "execute_result"
    }
   ],
   "source": [
    "df.drop_duplicates(subset='date').groupby('Channel')['payback'].sum().sort_values(ascending=False)"
   ]
  },
  {
   "cell_type": "markdown",
   "id": "5207de35-f427-4df5-a7b9-849db3decbbd",
   "metadata": {},
   "source": [
    "### Канал organic позволяет получить самую большую окупаемость"
   ]
  },
  {
   "cell_type": "markdown",
   "id": "aafedb34-5d18-47ce-97ee-e75ac2da123a",
   "metadata": {},
   "source": [
    "### Окупаемость реклами с разбивкой по устройствам, странам, рекламным каналам:"
   ]
  },
  {
   "cell_type": "code",
   "execution_count": 131,
   "id": "63f55cd2-24d9-4f53-a348-a92cdc75392d",
   "metadata": {},
   "outputs": [
    {
     "data": {
      "text/plain": [
       "Device   Region    Channel           \n",
       "Mac      Russia    organic               16373.7095\n",
       "iPhone   Russia    organic               14104.9485\n",
       "                   FaceBoom              13920.0110\n",
       "Android  Russia    organic               11424.2830\n",
       "                   FaceBoom               8992.6660\n",
       "iPhone   Russia    TipTop                 8289.6960\n",
       "                   RocketSuperAds         7006.0970\n",
       "Mac      Russia    FaceBoom               5820.3490\n",
       "PC       Turkey    LeapBob                5220.9380\n",
       "         Russia    FaceBoom               4597.6490\n",
       "Mac      Russia    TipTop                 4518.7035\n",
       "Android  Thailand  WahooNetBanner         3736.1440\n",
       "PC       China     organic                3498.2860\n",
       "Android  China     organic                3311.3285\n",
       "         Thailand  organic                3271.9685\n",
       "iPhone   Russia    MediaTornado           3165.0285\n",
       "PC       Turkey    OppleCreativeMedia     2960.0265\n",
       "Android  Turkey    organic                2761.1060\n",
       "iPhone   Russia    YRabbit                2590.5885\n",
       "PC       Thailand  organic                2541.5135\n",
       "iPhone   China     WahooNetBanner         2390.1785\n",
       "PC       Thailand  OppleCreativeMedia     2302.1730\n",
       "Android  Turkey    lambdaMediaAds         2229.6460\n",
       "         Russia    TipTop                 2225.6540\n",
       "Mac      Russia    MediaTornado           2213.9875\n",
       "         Turkey    organic                2156.3170\n",
       "PC       China     OppleCreativeMedia     2118.0385\n",
       "Android  Thailand  AdNonSense             1963.5185\n",
       "         Turkey    OppleCreativeMedia     1943.5655\n",
       "PC       Thailand  LeapBob                1793.4625\n",
       "iPhone   China     organic                1708.6750\n",
       "PC       Turkey    AdNonSense             1679.4075\n",
       "Android  Thailand  LeapBob                1661.6185\n",
       "         Turkey    WahooNetBanner         1527.1520\n",
       "PC       China     WahooNetBanner         1512.5100\n",
       "iPhone   Thailand  AdNonSense             1492.1610\n",
       "Android  Thailand  OppleCreativeMedia     1448.3295\n",
       "         China     LeapBob                1406.9865\n",
       "PC       Russia    YRabbit                1390.6425\n",
       "iPhone   Turkey    OppleCreativeMedia     1374.1620\n",
       "                   WahooNetBanner         1289.2865\n",
       "         China     AdNonSense             1287.4600\n",
       "Mac      China     organic                1283.4865\n",
       "PC       Russia    TipTop                 1270.7850\n",
       "Mac      Russia    RocketSuperAds         1159.5805\n",
       "Android  China     AdNonSense             1025.2310\n",
       "         Turkey    LeapBob                 987.7925\n",
       "PC       China     AdNonSense              977.7490\n",
       "         Russia    MediaTornado            973.8375\n",
       "iPhone   Turkey    organic                 959.8070\n",
       "PC       Thailand  AdNonSense              940.2630\n",
       "iPhone   Thailand  OppleCreativeMedia      913.8830\n",
       "Mac      Thailand  LeapBob                 850.5315\n",
       "iPhone   Thailand  WahooNetBanner          836.6010\n",
       "Mac      Russia    YRabbit                 804.7660\n",
       "iPhone   Turkey    LeapBob                 753.9780\n",
       "PC       Russia    organic                 690.6295\n",
       "Mac      Thailand  organic                 570.0665\n",
       "Name: payback, dtype: float64"
      ]
     },
     "execution_count": 131,
     "metadata": {},
     "output_type": "execute_result"
    }
   ],
   "source": [
    "df.drop_duplicates(subset='date').groupby(['Device', 'Region', 'Channel'])['payback'].sum().sort_values(ascending=False)"
   ]
  },
  {
   "cell_type": "markdown",
   "id": "ae866171-9fe1-44a2-b436-66e08c263f86",
   "metadata": {},
   "source": [
    "### Самая большая окупаемость у пользователей с Iphone из России с помощью канала organic"
   ]
  },
  {
   "cell_type": "markdown",
   "id": "db99d940-3698-4b66-a471-b562303afea5",
   "metadata": {},
   "source": [
    "## Под каждой метрике дал интерпретацию полученным результатам"
   ]
  },
  {
   "cell_type": "markdown",
   "id": "4e2e4a27-86ff-4a69-832e-63cdd60d31fc",
   "metadata": {},
   "source": [
    "# "
   ]
  },
  {
   "cell_type": "markdown",
   "id": "6256696e-134b-482c-8ae0-5eec4c4464bb",
   "metadata": {},
   "source": [
    "# Отчет"
   ]
  },
  {
   "cell_type": "markdown",
   "id": "1d63c9d0-78f1-4b83-af7b-f5b9461dba1f",
   "metadata": {},
   "source": [
    "В ходе Модуля 2, пришлось:\n",
    "* Построил интерактивный дашборд\n",
    "* Исследовал данные в информационной панели\n",
    "* Определил метрики по профилю пользователя\n",
    "* Провел маркетинговый ананлиз"
   ]
  }
 ],
 "metadata": {
  "kernelspec": {
   "display_name": "Python 3 (ipykernel)",
   "language": "python",
   "name": "python3"
  },
  "language_info": {
   "codemirror_mode": {
    "name": "ipython",
    "version": 3
   },
   "file_extension": ".py",
   "mimetype": "text/x-python",
   "name": "python",
   "nbconvert_exporter": "python",
   "pygments_lexer": "ipython3",
   "version": "3.12.7"
  }
 },
 "nbformat": 4,
 "nbformat_minor": 5
}
