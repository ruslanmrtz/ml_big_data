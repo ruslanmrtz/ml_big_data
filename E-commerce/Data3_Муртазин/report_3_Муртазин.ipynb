{
 "cells": [
  {
   "cell_type": "markdown",
   "id": "4bee3bd6-7ad7-4a1c-9c09-f54ced8ee4c5",
   "metadata": {},
   "source": [
    "# Установка библиотек"
   ]
  },
  {
   "cell_type": "code",
   "execution_count": 1,
   "id": "87451383-06b4-4674-b06f-ca5ae2c80a11",
   "metadata": {},
   "outputs": [],
   "source": [
    "!pip install catboost -q"
   ]
  },
  {
   "cell_type": "markdown",
   "id": "041617f7-0228-4e05-bb5a-175da5ce7b8b",
   "metadata": {},
   "source": [
    "# Импорт библиотек"
   ]
  },
  {
   "cell_type": "code",
   "execution_count": 189,
   "id": "282de3e3-88f2-48b8-872c-7c753aeb6868",
   "metadata": {},
   "outputs": [],
   "source": [
    "import pandas as pd\n",
    "import numpy as np\n",
    "from datetime import datetime\n",
    "\n",
    "from scipy.stats import f_oneway\n",
    "from sklearn.model_selection import train_test_split, RandomizedSearchCV\n",
    "from sklearn.preprocessing import OneHotEncoder, StandardScaler\n",
    "from catboost import CatBoostRegressor\n",
    "from sklearn.linear_model import LinearRegression\n",
    "from sklearn.ensemble import RandomForestRegressor\n",
    "\n",
    "from sklearn.metrics import mean_squared_error, mean_absolute_percentage_error\n",
    "\n",
    "import matplotlib.pyplot as plt"
   ]
  },
  {
   "cell_type": "markdown",
   "id": "76cce5bf-c442-4f5c-ac00-f9dc8a907993",
   "metadata": {},
   "source": [
    "# Импорт данных"
   ]
  },
  {
   "cell_type": "code",
   "execution_count": 91,
   "id": "0d0297e2-bcc7-4d79-a9c2-bcca2498ffa8",
   "metadata": {},
   "outputs": [
    {
     "data": {
      "text/html": [
       "<div>\n",
       "<style scoped>\n",
       "    .dataframe tbody tr th:only-of-type {\n",
       "        vertical-align: middle;\n",
       "    }\n",
       "\n",
       "    .dataframe tbody tr th {\n",
       "        vertical-align: top;\n",
       "    }\n",
       "\n",
       "    .dataframe thead th {\n",
       "        text-align: right;\n",
       "    }\n",
       "</style>\n",
       "<table border=\"1\" class=\"dataframe\">\n",
       "  <thead>\n",
       "    <tr style=\"text-align: right;\">\n",
       "      <th></th>\n",
       "      <th>User Id</th>\n",
       "      <th>Session Start</th>\n",
       "      <th>Session End</th>\n",
       "      <th>Device</th>\n",
       "      <th>Region</th>\n",
       "      <th>Channel</th>\n",
       "      <th>date</th>\n",
       "      <th>mean</th>\n",
       "      <th>Revenue</th>\n",
       "    </tr>\n",
       "  </thead>\n",
       "  <tbody>\n",
       "    <tr>\n",
       "      <th>0</th>\n",
       "      <td>382394863972</td>\n",
       "      <td>2022-05-01 00:00:41</td>\n",
       "      <td>2022-05-01 01:13:45</td>\n",
       "      <td>Mac</td>\n",
       "      <td>Russia</td>\n",
       "      <td>MediaTornado</td>\n",
       "      <td>2022-05-01</td>\n",
       "      <td>30.482</td>\n",
       "      <td>0.0</td>\n",
       "    </tr>\n",
       "    <tr>\n",
       "      <th>1</th>\n",
       "      <td>428935481941</td>\n",
       "      <td>2022-05-01 00:01:35</td>\n",
       "      <td>2022-05-01 02:30:30</td>\n",
       "      <td>PC</td>\n",
       "      <td>Turkey</td>\n",
       "      <td>AdNonSense</td>\n",
       "      <td>2022-05-01</td>\n",
       "      <td>30.482</td>\n",
       "      <td>0.0</td>\n",
       "    </tr>\n",
       "    <tr>\n",
       "      <th>2</th>\n",
       "      <td>86266511938</td>\n",
       "      <td>2022-05-01 00:02:38</td>\n",
       "      <td>2022-05-01 01:22:33</td>\n",
       "      <td>Android</td>\n",
       "      <td>China</td>\n",
       "      <td>organic</td>\n",
       "      <td>2022-05-01</td>\n",
       "      <td>30.482</td>\n",
       "      <td>0.0</td>\n",
       "    </tr>\n",
       "    <tr>\n",
       "      <th>3</th>\n",
       "      <td>763000657462</td>\n",
       "      <td>2022-05-01 00:04:21</td>\n",
       "      <td>2022-05-01 00:24:15</td>\n",
       "      <td>PC</td>\n",
       "      <td>Turkey</td>\n",
       "      <td>organic</td>\n",
       "      <td>2022-05-01</td>\n",
       "      <td>30.482</td>\n",
       "      <td>0.0</td>\n",
       "    </tr>\n",
       "    <tr>\n",
       "      <th>4</th>\n",
       "      <td>791058813280</td>\n",
       "      <td>2022-05-01 00:05:17</td>\n",
       "      <td>2022-05-01 01:14:51</td>\n",
       "      <td>Android</td>\n",
       "      <td>Thailand</td>\n",
       "      <td>LeapBob</td>\n",
       "      <td>2022-05-01</td>\n",
       "      <td>30.482</td>\n",
       "      <td>0.0</td>\n",
       "    </tr>\n",
       "  </tbody>\n",
       "</table>\n",
       "</div>"
      ],
      "text/plain": [
       "        User Id       Session Start          Session End   Device    Region  \\\n",
       "0  382394863972 2022-05-01 00:00:41  2022-05-01 01:13:45      Mac    Russia   \n",
       "1  428935481941 2022-05-01 00:01:35  2022-05-01 02:30:30       PC    Turkey   \n",
       "2   86266511938 2022-05-01 00:02:38  2022-05-01 01:22:33  Android     China   \n",
       "3  763000657462 2022-05-01 00:04:21  2022-05-01 00:24:15       PC    Turkey   \n",
       "4  791058813280 2022-05-01 00:05:17  2022-05-01 01:14:51  Android  Thailand   \n",
       "\n",
       "        Channel        date    mean  Revenue  \n",
       "0  MediaTornado  2022-05-01  30.482      0.0  \n",
       "1    AdNonSense  2022-05-01  30.482      0.0  \n",
       "2       organic  2022-05-01  30.482      0.0  \n",
       "3       organic  2022-05-01  30.482      0.0  \n",
       "4       LeapBob  2022-05-01  30.482      0.0  "
      ]
     },
     "execution_count": 91,
     "metadata": {},
     "output_type": "execute_result"
    }
   ],
   "source": [
    "# Данные с профилями пользователей\n",
    "df = pd.read_csv('profiles.csv')\n",
    "df['Session Start'] = pd.to_datetime(df['Session Start'])\n",
    "df.head()"
   ]
  },
  {
   "cell_type": "markdown",
   "id": "dd466635-f0cb-476f-a936-0b088cbc362e",
   "metadata": {},
   "source": [
    "Для сегментации пользователей будем использовать данные об их покупках"
   ]
  },
  {
   "cell_type": "code",
   "execution_count": 4,
   "id": "cf4d253a-b54b-4071-ab59-1136546f104b",
   "metadata": {},
   "outputs": [
    {
     "data": {
      "text/html": [
       "<div>\n",
       "<style scoped>\n",
       "    .dataframe tbody tr th:only-of-type {\n",
       "        vertical-align: middle;\n",
       "    }\n",
       "\n",
       "    .dataframe tbody tr th {\n",
       "        vertical-align: top;\n",
       "    }\n",
       "\n",
       "    .dataframe thead th {\n",
       "        text-align: right;\n",
       "    }\n",
       "</style>\n",
       "<table border=\"1\" class=\"dataframe\">\n",
       "  <thead>\n",
       "    <tr style=\"text-align: right;\">\n",
       "      <th></th>\n",
       "      <th>User Id</th>\n",
       "      <th>Event Dt</th>\n",
       "      <th>Revenue</th>\n",
       "    </tr>\n",
       "  </thead>\n",
       "  <tbody>\n",
       "    <tr>\n",
       "      <th>0</th>\n",
       "      <td>188246423999</td>\n",
       "      <td>2022-05-01 23:09:52</td>\n",
       "      <td>4.99</td>\n",
       "    </tr>\n",
       "    <tr>\n",
       "      <th>1</th>\n",
       "      <td>174361394180</td>\n",
       "      <td>2022-05-01 12:24:04</td>\n",
       "      <td>4.99</td>\n",
       "    </tr>\n",
       "    <tr>\n",
       "      <th>2</th>\n",
       "      <td>529610067795</td>\n",
       "      <td>2022-05-01 11:34:04</td>\n",
       "      <td>4.99</td>\n",
       "    </tr>\n",
       "    <tr>\n",
       "      <th>3</th>\n",
       "      <td>319939546352</td>\n",
       "      <td>2022-05-01 15:34:40</td>\n",
       "      <td>4.99</td>\n",
       "    </tr>\n",
       "    <tr>\n",
       "      <th>4</th>\n",
       "      <td>366000285810</td>\n",
       "      <td>2022-05-01 13:59:51</td>\n",
       "      <td>4.99</td>\n",
       "    </tr>\n",
       "  </tbody>\n",
       "</table>\n",
       "</div>"
      ],
      "text/plain": [
       "        User Id            Event Dt  Revenue\n",
       "0  188246423999 2022-05-01 23:09:52     4.99\n",
       "1  174361394180 2022-05-01 12:24:04     4.99\n",
       "2  529610067795 2022-05-01 11:34:04     4.99\n",
       "3  319939546352 2022-05-01 15:34:40     4.99\n",
       "4  366000285810 2022-05-01 13:59:51     4.99"
      ]
     },
     "execution_count": 4,
     "metadata": {},
     "output_type": "execute_result"
    }
   ],
   "source": [
    "orders = pd.read_csv('orders.csv')\n",
    "orders['Event Dt'] = pd.to_datetime(orders['Event Dt'])\n",
    "orders.head()"
   ]
  },
  {
   "cell_type": "markdown",
   "id": "bff5b1a6-0b64-4931-bfb4-f01e7552dc99",
   "metadata": {},
   "source": [
    "# 3.1 Сегментация пользователей"
   ]
  },
  {
   "cell_type": "markdown",
   "id": "e305346f-e059-42a0-8c2f-4b984c6218cc",
   "metadata": {},
   "source": [
    "## Что такое RFM-анализ?\n",
    "**RFM (Recency, Frequency, Monetary)** — это метод сегментации пользователей, основанный на трех показателях:\n",
    "\n",
    "- Recency (давность) — как давно пользователь совершал покупку или был активен.\n",
    "- Frequency (частота) — как часто пользователь совершает покупки.\n",
    "- Monetary (стоимость) — сколько пользователь потратил за определенный период.\n",
    "  \n",
    "RFM помогает понять поведение клиентов и выделить ключевые группы для таргетированных действий.\n",
    "\n"
   ]
  },
  {
   "cell_type": "markdown",
   "id": "8bd11ebd-a820-4149-a353-328fe76b4c5e",
   "metadata": {},
   "source": [
    "## По каждому покупателю выделяем информацию для анализа"
   ]
  },
  {
   "cell_type": "markdown",
   "id": "27a7e003-5bb3-45d3-8bf9-71f5a11c6651",
   "metadata": {},
   "source": [
    "### Recency"
   ]
  },
  {
   "cell_type": "code",
   "execution_count": 5,
   "id": "5a89b389-ea1f-47ad-a251-4f66082f8775",
   "metadata": {},
   "outputs": [
    {
     "data": {
      "text/html": [
       "<div>\n",
       "<style scoped>\n",
       "    .dataframe tbody tr th:only-of-type {\n",
       "        vertical-align: middle;\n",
       "    }\n",
       "\n",
       "    .dataframe tbody tr th {\n",
       "        vertical-align: top;\n",
       "    }\n",
       "\n",
       "    .dataframe thead th {\n",
       "        text-align: right;\n",
       "    }\n",
       "</style>\n",
       "<table border=\"1\" class=\"dataframe\">\n",
       "  <thead>\n",
       "    <tr style=\"text-align: right;\">\n",
       "      <th></th>\n",
       "      <th>User Id</th>\n",
       "      <th>Event Dt</th>\n",
       "      <th>Revenue</th>\n",
       "      <th>recenty</th>\n",
       "    </tr>\n",
       "  </thead>\n",
       "  <tbody>\n",
       "    <tr>\n",
       "      <th>26816</th>\n",
       "      <td>271825045458</td>\n",
       "      <td>2022-10-31 23:56:56</td>\n",
       "      <td>4.99</td>\n",
       "      <td>0</td>\n",
       "    </tr>\n",
       "    <tr>\n",
       "      <th>38597</th>\n",
       "      <td>972738370998</td>\n",
       "      <td>2022-10-31 23:43:41</td>\n",
       "      <td>4.99</td>\n",
       "      <td>0</td>\n",
       "    </tr>\n",
       "    <tr>\n",
       "      <th>26860</th>\n",
       "      <td>593976069983</td>\n",
       "      <td>2022-10-31 23:32:58</td>\n",
       "      <td>4.99</td>\n",
       "      <td>0</td>\n",
       "    </tr>\n",
       "    <tr>\n",
       "      <th>26742</th>\n",
       "      <td>430792441847</td>\n",
       "      <td>2022-10-31 23:22:04</td>\n",
       "      <td>4.99</td>\n",
       "      <td>0</td>\n",
       "    </tr>\n",
       "    <tr>\n",
       "      <th>26871</th>\n",
       "      <td>143562289534</td>\n",
       "      <td>2022-10-31 23:12:19</td>\n",
       "      <td>4.99</td>\n",
       "      <td>0</td>\n",
       "    </tr>\n",
       "  </tbody>\n",
       "</table>\n",
       "</div>"
      ],
      "text/plain": [
       "            User Id            Event Dt  Revenue  recenty\n",
       "26816  271825045458 2022-10-31 23:56:56     4.99        0\n",
       "38597  972738370998 2022-10-31 23:43:41     4.99        0\n",
       "26860  593976069983 2022-10-31 23:32:58     4.99        0\n",
       "26742  430792441847 2022-10-31 23:22:04     4.99        0\n",
       "26871  143562289534 2022-10-31 23:12:19     4.99        0"
      ]
     },
     "execution_count": 5,
     "metadata": {},
     "output_type": "execute_result"
    }
   ],
   "source": [
    "# За крайнюю дату берем последнюю покупку\n",
    "now = orders.sort_values('Event Dt', ascending=False).iloc[0]['Event Dt']\n",
    "# Считаем, сколько прошло дней с момента покупки\n",
    "recenty = orders.sort_values('Event Dt', ascending=False).drop_duplicates(subset='User Id')\n",
    "recenty['recenty'] = (now - recenty['Event Dt'])\\\n",
    " // np.timedelta64(1,'D')\n",
    "recenty.head()"
   ]
  },
  {
   "cell_type": "markdown",
   "id": "0cd2de3d-6049-4eed-914a-513bce3abce6",
   "metadata": {},
   "source": [
    "### Frequency"
   ]
  },
  {
   "cell_type": "code",
   "execution_count": 6,
   "id": "7022650b-5895-4684-9762-e3339c29486a",
   "metadata": {},
   "outputs": [
    {
     "data": {
      "text/html": [
       "<div>\n",
       "<style scoped>\n",
       "    .dataframe tbody tr th:only-of-type {\n",
       "        vertical-align: middle;\n",
       "    }\n",
       "\n",
       "    .dataframe tbody tr th {\n",
       "        vertical-align: top;\n",
       "    }\n",
       "\n",
       "    .dataframe thead th {\n",
       "        text-align: right;\n",
       "    }\n",
       "</style>\n",
       "<table border=\"1\" class=\"dataframe\">\n",
       "  <thead>\n",
       "    <tr style=\"text-align: right;\">\n",
       "      <th></th>\n",
       "      <th>User Id</th>\n",
       "      <th>frequency</th>\n",
       "    </tr>\n",
       "  </thead>\n",
       "  <tbody>\n",
       "    <tr>\n",
       "      <th>0</th>\n",
       "      <td>599326</td>\n",
       "      <td>3</td>\n",
       "    </tr>\n",
       "    <tr>\n",
       "      <th>1</th>\n",
       "      <td>46006712</td>\n",
       "      <td>1</td>\n",
       "    </tr>\n",
       "    <tr>\n",
       "      <th>2</th>\n",
       "      <td>374052872</td>\n",
       "      <td>8</td>\n",
       "    </tr>\n",
       "    <tr>\n",
       "      <th>3</th>\n",
       "      <td>414791703</td>\n",
       "      <td>10</td>\n",
       "    </tr>\n",
       "    <tr>\n",
       "      <th>4</th>\n",
       "      <td>785077127</td>\n",
       "      <td>10</td>\n",
       "    </tr>\n",
       "  </tbody>\n",
       "</table>\n",
       "</div>"
      ],
      "text/plain": [
       "     User Id  frequency\n",
       "0     599326          3\n",
       "1   46006712          1\n",
       "2  374052872          8\n",
       "3  414791703         10\n",
       "4  785077127         10"
      ]
     },
     "execution_count": 6,
     "metadata": {},
     "output_type": "execute_result"
    }
   ],
   "source": [
    "frequency = orders.groupby('User Id')['Event Dt'].count().reset_index(name='frequency')\n",
    "frequency.head()"
   ]
  },
  {
   "cell_type": "markdown",
   "id": "97061ff5-71d6-45de-b3b4-66eb761e8402",
   "metadata": {},
   "source": [
    "### Monetary"
   ]
  },
  {
   "cell_type": "code",
   "execution_count": 7,
   "id": "1c38decc-8e41-442e-aa44-65312ecbf036",
   "metadata": {},
   "outputs": [
    {
     "data": {
      "text/html": [
       "<div>\n",
       "<style scoped>\n",
       "    .dataframe tbody tr th:only-of-type {\n",
       "        vertical-align: middle;\n",
       "    }\n",
       "\n",
       "    .dataframe tbody tr th {\n",
       "        vertical-align: top;\n",
       "    }\n",
       "\n",
       "    .dataframe thead th {\n",
       "        text-align: right;\n",
       "    }\n",
       "</style>\n",
       "<table border=\"1\" class=\"dataframe\">\n",
       "  <thead>\n",
       "    <tr style=\"text-align: right;\">\n",
       "      <th></th>\n",
       "      <th>User Id</th>\n",
       "      <th>monetary</th>\n",
       "    </tr>\n",
       "  </thead>\n",
       "  <tbody>\n",
       "    <tr>\n",
       "      <th>0</th>\n",
       "      <td>599326</td>\n",
       "      <td>14.97</td>\n",
       "    </tr>\n",
       "    <tr>\n",
       "      <th>1</th>\n",
       "      <td>46006712</td>\n",
       "      <td>4.99</td>\n",
       "    </tr>\n",
       "    <tr>\n",
       "      <th>2</th>\n",
       "      <td>374052872</td>\n",
       "      <td>39.92</td>\n",
       "    </tr>\n",
       "    <tr>\n",
       "      <th>3</th>\n",
       "      <td>414791703</td>\n",
       "      <td>49.90</td>\n",
       "    </tr>\n",
       "    <tr>\n",
       "      <th>4</th>\n",
       "      <td>785077127</td>\n",
       "      <td>49.90</td>\n",
       "    </tr>\n",
       "  </tbody>\n",
       "</table>\n",
       "</div>"
      ],
      "text/plain": [
       "     User Id  monetary\n",
       "0     599326     14.97\n",
       "1   46006712      4.99\n",
       "2  374052872     39.92\n",
       "3  414791703     49.90\n",
       "4  785077127     49.90"
      ]
     },
     "execution_count": 7,
     "metadata": {},
     "output_type": "execute_result"
    }
   ],
   "source": [
    "monetary = orders.groupby('User Id')['Revenue'].sum().reset_index(name='monetary')\n",
    "monetary.head()"
   ]
  },
  {
   "cell_type": "markdown",
   "id": "53bc2069-92ca-4623-97b9-41017632175c",
   "metadata": {},
   "source": [
    "### Объединяем данные в единую таблицу"
   ]
  },
  {
   "cell_type": "code",
   "execution_count": 8,
   "id": "5576a189-2f4b-46a1-a8a8-5fb70f61e2f2",
   "metadata": {},
   "outputs": [
    {
     "data": {
      "text/html": [
       "<div>\n",
       "<style scoped>\n",
       "    .dataframe tbody tr th:only-of-type {\n",
       "        vertical-align: middle;\n",
       "    }\n",
       "\n",
       "    .dataframe tbody tr th {\n",
       "        vertical-align: top;\n",
       "    }\n",
       "\n",
       "    .dataframe thead th {\n",
       "        text-align: right;\n",
       "    }\n",
       "</style>\n",
       "<table border=\"1\" class=\"dataframe\">\n",
       "  <thead>\n",
       "    <tr style=\"text-align: right;\">\n",
       "      <th></th>\n",
       "      <th>User Id</th>\n",
       "      <th>recenty</th>\n",
       "      <th>frequency</th>\n",
       "      <th>monetary</th>\n",
       "    </tr>\n",
       "  </thead>\n",
       "  <tbody>\n",
       "    <tr>\n",
       "      <th>0</th>\n",
       "      <td>271825045458</td>\n",
       "      <td>0</td>\n",
       "      <td>2</td>\n",
       "      <td>9.98</td>\n",
       "    </tr>\n",
       "    <tr>\n",
       "      <th>1</th>\n",
       "      <td>972738370998</td>\n",
       "      <td>0</td>\n",
       "      <td>9</td>\n",
       "      <td>44.91</td>\n",
       "    </tr>\n",
       "    <tr>\n",
       "      <th>2</th>\n",
       "      <td>593976069983</td>\n",
       "      <td>0</td>\n",
       "      <td>2</td>\n",
       "      <td>9.98</td>\n",
       "    </tr>\n",
       "    <tr>\n",
       "      <th>3</th>\n",
       "      <td>430792441847</td>\n",
       "      <td>0</td>\n",
       "      <td>8</td>\n",
       "      <td>39.92</td>\n",
       "    </tr>\n",
       "    <tr>\n",
       "      <th>4</th>\n",
       "      <td>143562289534</td>\n",
       "      <td>0</td>\n",
       "      <td>5</td>\n",
       "      <td>24.95</td>\n",
       "    </tr>\n",
       "  </tbody>\n",
       "</table>\n",
       "</div>"
      ],
      "text/plain": [
       "        User Id  recenty  frequency  monetary\n",
       "0  271825045458        0          2      9.98\n",
       "1  972738370998        0          9     44.91\n",
       "2  593976069983        0          2      9.98\n",
       "3  430792441847        0          8     39.92\n",
       "4  143562289534        0          5     24.95"
      ]
     },
     "execution_count": 8,
     "metadata": {},
     "output_type": "execute_result"
    }
   ],
   "source": [
    "rfm = recenty[['User Id', 'recenty']].merge(frequency, on='User Id').merge(monetary, on='User Id')\n",
    "rfm.head()"
   ]
  },
  {
   "cell_type": "markdown",
   "id": "ffe74acb-82c5-4352-9020-bf420696538d",
   "metadata": {},
   "source": [
    "#### Мы должны оценить каждый сегмент по трехбалльной шкале:\n",
    "\n",
    "Давность заказа: 1 — давние, 2 — «спящие», 3 — недавние;\n",
    "\n",
    "Частота покупок: 1 — разовые, 2 — редкие, 3 — частые;\n",
    "\n",
    "Сумма покупок: 1 — низкий чек, 2 — средний чек, 3 — высокий чек.\n",
    "\n",
    "\n",
    "**Исходя из баллов, названия сегментов такие:**\n",
    "* Champion - Лучшие покупатели\n",
    "* Loyal Customers - Лояльные покупатели\n",
    "* Potential Loyalists - Потенциальные лояльные покупатели\n",
    "* At Risk - \"Спящие\" покупатели, которые покупали товары\n",
    "* Lost - Давние покупатели с низким чеком"
   ]
  },
  {
   "cell_type": "code",
   "execution_count": 9,
   "id": "9285221e-ae2c-4c61-9030-47663e76a75e",
   "metadata": {},
   "outputs": [],
   "source": [
    "# Присвоение оценок по квантилям\n",
    "rfm['R_score'] = pd.qcut(rfm['recenty'], 3, labels=[3, 2, 1])\n",
    "rfm['F_score'] = pd.cut(rfm['frequency'], 3, labels=[1, 2, 3])\n",
    "rfm['M_score'] = pd.cut(rfm['monetary'], 3, labels=[1, 2, 3])\n",
    "\n",
    "# Итоговый RFM Score\n",
    "rfm['RFM_Score'] = rfm[['R_score', 'F_score', 'M_score']].sum(axis=1).astype(int)\n",
    "\n",
    "# Сегментация на группы\n",
    "rfm['Segment'] = rfm['RFM_Score'].apply(\n",
    "    lambda x: 'Champions' if x >= 9 else\n",
    "              'Loyal Customers' if x >= 7 else\n",
    "              'Potential Loyalists' if x >= 5 else\n",
    "              'At Risk' if x >= 4 else 'Lost'\n",
    ")"
   ]
  },
  {
   "cell_type": "code",
   "execution_count": 10,
   "id": "1b29bbaf-8938-4136-bfcb-dc271960ad22",
   "metadata": {},
   "outputs": [
    {
     "data": {
      "text/plain": [
       "Segment\n",
       "Potential Loyalists    2847\n",
       "Lost                   2750\n",
       "At Risk                2033\n",
       "Loyal Customers        1004\n",
       "Champions               114\n",
       "Name: count, dtype: int64"
      ]
     },
     "execution_count": 10,
     "metadata": {},
     "output_type": "execute_result"
    }
   ],
   "source": [
    "# Распределение покупателей\n",
    "rfm['Segment'].value_counts()"
   ]
  },
  {
   "cell_type": "markdown",
   "id": "843ad4c2-2c9e-4389-a67e-ae27c9365fe6",
   "metadata": {},
   "source": [
    "### Добавляем параметр \"конверсия\""
   ]
  },
  {
   "cell_type": "code",
   "execution_count": 11,
   "id": "c6364a91-08c6-42d9-b6a7-a4bebfb9ead6",
   "metadata": {},
   "outputs": [],
   "source": [
    "rfm['conversion'] = (rfm['frequency'] > 1).astype('int64')"
   ]
  },
  {
   "cell_type": "code",
   "execution_count": 12,
   "id": "1c997228-8641-4288-8668-31845deb0d21",
   "metadata": {},
   "outputs": [
    {
     "data": {
      "text/html": [
       "<div>\n",
       "<style scoped>\n",
       "    .dataframe tbody tr th:only-of-type {\n",
       "        vertical-align: middle;\n",
       "    }\n",
       "\n",
       "    .dataframe tbody tr th {\n",
       "        vertical-align: top;\n",
       "    }\n",
       "\n",
       "    .dataframe thead th {\n",
       "        text-align: right;\n",
       "    }\n",
       "</style>\n",
       "<table border=\"1\" class=\"dataframe\">\n",
       "  <thead>\n",
       "    <tr style=\"text-align: right;\">\n",
       "      <th></th>\n",
       "      <th>User Id</th>\n",
       "      <th>recenty</th>\n",
       "      <th>frequency</th>\n",
       "      <th>monetary</th>\n",
       "      <th>R_score</th>\n",
       "      <th>F_score</th>\n",
       "      <th>M_score</th>\n",
       "      <th>RFM_Score</th>\n",
       "      <th>Segment</th>\n",
       "      <th>conversion</th>\n",
       "    </tr>\n",
       "  </thead>\n",
       "  <tbody>\n",
       "    <tr>\n",
       "      <th>0</th>\n",
       "      <td>271825045458</td>\n",
       "      <td>0</td>\n",
       "      <td>2</td>\n",
       "      <td>9.98</td>\n",
       "      <td>3</td>\n",
       "      <td>1</td>\n",
       "      <td>1</td>\n",
       "      <td>5</td>\n",
       "      <td>Potential Loyalists</td>\n",
       "      <td>1</td>\n",
       "    </tr>\n",
       "    <tr>\n",
       "      <th>1</th>\n",
       "      <td>972738370998</td>\n",
       "      <td>0</td>\n",
       "      <td>9</td>\n",
       "      <td>44.91</td>\n",
       "      <td>3</td>\n",
       "      <td>2</td>\n",
       "      <td>2</td>\n",
       "      <td>7</td>\n",
       "      <td>Loyal Customers</td>\n",
       "      <td>1</td>\n",
       "    </tr>\n",
       "    <tr>\n",
       "      <th>2</th>\n",
       "      <td>593976069983</td>\n",
       "      <td>0</td>\n",
       "      <td>2</td>\n",
       "      <td>9.98</td>\n",
       "      <td>3</td>\n",
       "      <td>1</td>\n",
       "      <td>1</td>\n",
       "      <td>5</td>\n",
       "      <td>Potential Loyalists</td>\n",
       "      <td>1</td>\n",
       "    </tr>\n",
       "    <tr>\n",
       "      <th>3</th>\n",
       "      <td>430792441847</td>\n",
       "      <td>0</td>\n",
       "      <td>8</td>\n",
       "      <td>39.92</td>\n",
       "      <td>3</td>\n",
       "      <td>2</td>\n",
       "      <td>2</td>\n",
       "      <td>7</td>\n",
       "      <td>Loyal Customers</td>\n",
       "      <td>1</td>\n",
       "    </tr>\n",
       "    <tr>\n",
       "      <th>4</th>\n",
       "      <td>143562289534</td>\n",
       "      <td>0</td>\n",
       "      <td>5</td>\n",
       "      <td>24.95</td>\n",
       "      <td>3</td>\n",
       "      <td>1</td>\n",
       "      <td>1</td>\n",
       "      <td>5</td>\n",
       "      <td>Potential Loyalists</td>\n",
       "      <td>1</td>\n",
       "    </tr>\n",
       "  </tbody>\n",
       "</table>\n",
       "</div>"
      ],
      "text/plain": [
       "        User Id  recenty  frequency  monetary R_score F_score M_score  \\\n",
       "0  271825045458        0          2      9.98       3       1       1   \n",
       "1  972738370998        0          9     44.91       3       2       2   \n",
       "2  593976069983        0          2      9.98       3       1       1   \n",
       "3  430792441847        0          8     39.92       3       2       2   \n",
       "4  143562289534        0          5     24.95       3       1       1   \n",
       "\n",
       "   RFM_Score              Segment  conversion  \n",
       "0          5  Potential Loyalists           1  \n",
       "1          7      Loyal Customers           1  \n",
       "2          5  Potential Loyalists           1  \n",
       "3          7      Loyal Customers           1  \n",
       "4          5  Potential Loyalists           1  "
      ]
     },
     "execution_count": 12,
     "metadata": {},
     "output_type": "execute_result"
    }
   ],
   "source": [
    "rfm.head()"
   ]
  },
  {
   "cell_type": "markdown",
   "id": "c3822a50-0829-47db-82ad-3a9263dfbf19",
   "metadata": {},
   "source": [
    "## Проверка гипотезы различий между сегментами"
   ]
  },
  {
   "cell_type": "code",
   "execution_count": 13,
   "id": "e16c0054-d8fd-4f3c-92bd-9a237a3a5059",
   "metadata": {},
   "outputs": [
    {
     "name": "stdout",
     "output_type": "stream",
     "text": [
      "ANOVA p-value: 0.0\n"
     ]
    }
   ],
   "source": [
    "anova_result = f_oneway(\n",
    "    *[rfm.loc[rfm['Segment'] == seg, 'conversion'] for seg in rfm['Segment'].unique()]\n",
    ")\n",
    "print(f\"ANOVA p-value: {anova_result.pvalue}\")"
   ]
  },
  {
   "cell_type": "markdown",
   "id": "0593cdd1-bcaf-4ab7-a169-c6dc3d90d74b",
   "metadata": {},
   "source": [
    "#### P-value < 0.05, различия значимы. Это означает, что мы провели хорошую сегментацию, которая отлично различает пользователей между собой. Сегмент пользователя даст возможность регрессионной модели лучше предсказывать целевую переменную, что поможет в оптимизации работы приложения "
   ]
  },
  {
   "cell_type": "markdown",
   "id": "dc93bc20-c8f5-43ac-b65f-fb0c3fab7d72",
   "metadata": {},
   "source": [
    "#"
   ]
  },
  {
   "cell_type": "markdown",
   "id": "fc659fde-df00-4324-9da3-b5f266033e7d",
   "metadata": {},
   "source": [
    "# 3.2 Построение регрессионной модели"
   ]
  },
  {
   "cell_type": "code",
   "execution_count": 94,
   "id": "422cd35b-3f4b-41dc-b938-f44457005301",
   "metadata": {},
   "outputs": [],
   "source": [
    "# Добавляем сегмент в обучающий датасет\n",
    "df = df.merge(rfm[['User Id', 'Segment']], on='User Id')"
   ]
  },
  {
   "cell_type": "markdown",
   "id": "7c3d52c7-fec5-4dde-9c8a-4330e4fd9bf4",
   "metadata": {},
   "source": [
    "#### На основе проведеннного анализа и специфики задачи, могу сделать вывод, что нам необходимо модель регрессии."
   ]
  },
  {
   "cell_type": "markdown",
   "id": "7ca834ca-5d97-4597-b9b8-aeeeb1209131",
   "metadata": {},
   "source": [
    "### Делим выборку на обучающую и тестовую"
   ]
  },
  {
   "cell_type": "code",
   "execution_count": 151,
   "id": "2233bcc7-bde7-40c4-b62e-495fd596b6a1",
   "metadata": {},
   "outputs": [],
   "source": [
    "# выделяем необходимые параметры\n",
    "X = df.drop(['User Id', 'Session Start', 'Session End', 'date', 'mean'], axis=1)\n",
    "# выделяем целевую переменую, предсказываем затраты на привлечение\n",
    "y = df['mean']\n",
    "\n",
    "# 25 процентов выборку уходит на тест модели, остальное на обучение\n",
    "X_train, X_test, y_train, y_test = train_test_split(X, y, test_size=0.25, random_state=4)"
   ]
  },
  {
   "cell_type": "code",
   "execution_count": 152,
   "id": "6f1e1d18-d174-44af-bd95-3b43821ec39c",
   "metadata": {},
   "outputs": [
    {
     "data": {
      "text/html": [
       "<div>\n",
       "<style scoped>\n",
       "    .dataframe tbody tr th:only-of-type {\n",
       "        vertical-align: middle;\n",
       "    }\n",
       "\n",
       "    .dataframe tbody tr th {\n",
       "        vertical-align: top;\n",
       "    }\n",
       "\n",
       "    .dataframe thead th {\n",
       "        text-align: right;\n",
       "    }\n",
       "</style>\n",
       "<table border=\"1\" class=\"dataframe\">\n",
       "  <thead>\n",
       "    <tr style=\"text-align: right;\">\n",
       "      <th></th>\n",
       "      <th>Device</th>\n",
       "      <th>Region</th>\n",
       "      <th>Channel</th>\n",
       "      <th>Revenue</th>\n",
       "      <th>Segment</th>\n",
       "    </tr>\n",
       "  </thead>\n",
       "  <tbody>\n",
       "    <tr>\n",
       "      <th>0</th>\n",
       "      <td>Android</td>\n",
       "      <td>Turkey</td>\n",
       "      <td>AdNonSense</td>\n",
       "      <td>9.98</td>\n",
       "      <td>Lost</td>\n",
       "    </tr>\n",
       "    <tr>\n",
       "      <th>1</th>\n",
       "      <td>Android</td>\n",
       "      <td>Russia</td>\n",
       "      <td>TipTop</td>\n",
       "      <td>64.87</td>\n",
       "      <td>Potential Loyalists</td>\n",
       "    </tr>\n",
       "    <tr>\n",
       "      <th>2</th>\n",
       "      <td>PC</td>\n",
       "      <td>Turkey</td>\n",
       "      <td>organic</td>\n",
       "      <td>39.92</td>\n",
       "      <td>Loyal Customers</td>\n",
       "    </tr>\n",
       "    <tr>\n",
       "      <th>3</th>\n",
       "      <td>iPhone</td>\n",
       "      <td>Russia</td>\n",
       "      <td>TipTop</td>\n",
       "      <td>59.88</td>\n",
       "      <td>Loyal Customers</td>\n",
       "    </tr>\n",
       "    <tr>\n",
       "      <th>4</th>\n",
       "      <td>iPhone</td>\n",
       "      <td>Russia</td>\n",
       "      <td>organic</td>\n",
       "      <td>39.92</td>\n",
       "      <td>Potential Loyalists</td>\n",
       "    </tr>\n",
       "  </tbody>\n",
       "</table>\n",
       "</div>"
      ],
      "text/plain": [
       "    Device  Region     Channel  Revenue              Segment\n",
       "0  Android  Turkey  AdNonSense     9.98                 Lost\n",
       "1  Android  Russia      TipTop    64.87  Potential Loyalists\n",
       "2       PC  Turkey     organic    39.92      Loyal Customers\n",
       "3   iPhone  Russia      TipTop    59.88      Loyal Customers\n",
       "4   iPhone  Russia     organic    39.92  Potential Loyalists"
      ]
     },
     "execution_count": 152,
     "metadata": {},
     "output_type": "execute_result"
    }
   ],
   "source": [
    "X.head()"
   ]
  },
  {
   "cell_type": "markdown",
   "id": "b3764a95-c328-445b-9739-612b3f97d4c8",
   "metadata": {},
   "source": [
    "## Выбор алгоритма машинного обучения\n",
    "### Оценивать модели будем с помощью метрики MAE. \n",
    "**MAE (Mean Absolute Error)** — это средняя абсолютная ошибка в машинном обучении. \n",
    "Она измеряет среднее абсолютное отклонение каждого прогноза от соответствующего фактического значения и показывает, насколько в среднем предсказания модели отклоняются от истинных значений."
   ]
  },
  {
   "cell_type": "markdown",
   "id": "7a6b4dd0-bca3-4684-9e52-a04f6aaae22f",
   "metadata": {},
   "source": [
    "###"
   ]
  },
  {
   "cell_type": "markdown",
   "id": "69ff072b-e70f-4619-9e10-3243732a6ba5",
   "metadata": {},
   "source": [
    "**CatBoost (Categorical Boosting)** — это алгоритм машинного обучения, разработанный компанией Яндекс. Он предназначен для работы с табличными данными и особенно эффективен в задачах, где важную роль играют категориальные признаки. Основной механизм работы CatBoost — градиентный бустинг на деревьях решений."
   ]
  },
  {
   "cell_type": "code",
   "execution_count": 159,
   "id": "bfd6c489-fa26-44cd-95ab-bf84f5f8d632",
   "metadata": {},
   "outputs": [
    {
     "name": "stdout",
     "output_type": "stream",
     "text": [
      "Метрика MAE равна: 0.26\n"
     ]
    }
   ],
   "source": [
    "# CatBoostRegressor сам преобразует категориальные признаки, поэтому сразу передаем их в модель\n",
    "cat_features = ['Device', 'Region', 'Channel', 'Segment']\n",
    "\n",
    "# Обучаем модель\n",
    "model = CatBoostRegressor(cat_features=cat_features, verbose=0)\n",
    "model.fit(X_train, y_train)\n",
    "pred = model.predict(X_test)\n",
    "\n",
    "print(f'Метрика MAE равна: {mean_absolute_percentage_error(y_test, pred):.2f}')"
   ]
  },
  {
   "cell_type": "markdown",
   "id": "3680d457-f330-4274-ac06-7f7e8560e8a9",
   "metadata": {},
   "source": [
    "**Линейная регрессия** — это используемая в статистике регрессионная модель зависимости одной переменной от другой или нескольких других переменных с линейной функцией зависимости."
   ]
  },
  {
   "cell_type": "code",
   "execution_count": 160,
   "id": "a9fce06b-f57d-4d81-b646-62e00666facd",
   "metadata": {},
   "outputs": [
    {
     "name": "stdout",
     "output_type": "stream",
     "text": [
      "Метрика MAE равна: 0.26\n"
     ]
    }
   ],
   "source": [
    "# LinearRegressor не преобразует категориальные признаки, поэтому предобрабатываем данные\n",
    "drop_enc = OneHotEncoder(drop='first').fit(X_train)\n",
    "X_preprossess = drop_enc.transform(X_train).toarray()\n",
    "\n",
    "# Обучаем модель\n",
    "model = LinearRegression()\n",
    "model.fit(X_preprossess, y_train)\n",
    "pred = model.predict(drop_enc.transform(X_test).toarray())\n",
    "\n",
    "print(f'Метрика MAE равна: {mean_absolute_percentage_error(y_test, pred):.2f}')"
   ]
  },
  {
   "cell_type": "markdown",
   "id": "98ccd6c4-f4c2-401d-bec8-d57aedddb24f",
   "metadata": {},
   "source": [
    "**Случайный лес (random forest)** — это алгоритм машинного обучения, который заключается в использовании ансамбля (совокупности) деревьев решений (decision trees). Ключевая идея заключается в том, что качество классификации в случайном лесу повышается за счет большого количества ансамблей деревьев решений."
   ]
  },
  {
   "cell_type": "code",
   "execution_count": 144,
   "id": "80f861c8-0e10-4a7a-8de8-b99f1398cc49",
   "metadata": {},
   "outputs": [
    {
     "name": "stdout",
     "output_type": "stream",
     "text": [
      "Метрика MAE равна: 0.27\n"
     ]
    }
   ],
   "source": [
    "# RandomForestRegressor не преобразует категориальные признаки, поэтому предобрабатываем данные\n",
    "drop_enc = OneHotEncoder(drop='first').fit(X_train)\n",
    "X_preprossess = drop_enc.transform(X_train).toarray()\n",
    "\n",
    "# Обучаем модель\n",
    "model = RandomForestRegressor()\n",
    "model.fit(X_preprossess, y_train)\n",
    "pred = model.predict(drop_enc.transform(X_test).toarray())\n",
    "\n",
    "print(f'Метрика MAE равна: {mean_absolute_percentage_error(y_test, pred):.2f}')"
   ]
  },
  {
   "cell_type": "markdown",
   "id": "8ee9ce50-2873-4533-899c-1232716ed22e",
   "metadata": {},
   "source": [
    "### CatBoostRegressor и LinearRegression показали одинаковую минимальную ошибку, но берем CatBoostRegressor для дальнейшего анализа, потому что эта модель имеет больший потенциал для оптимизации, что в конечном счете даст еще лучшее качество модели"
   ]
  },
  {
   "cell_type": "markdown",
   "id": "c65557f7-c5b1-4af4-bc02-cd8086a08fea",
   "metadata": {},
   "source": [
    "#"
   ]
  },
  {
   "cell_type": "markdown",
   "id": "7843a4af-38d2-4dd8-878c-8e95fdfac6ff",
   "metadata": {},
   "source": [
    "# 3.3 Оптимизация модели"
   ]
  },
  {
   "cell_type": "markdown",
   "id": "670e02eb-9043-45c0-8315-666bd6bda302",
   "metadata": {},
   "source": [
    "## Преобразование набора данных"
   ]
  },
  {
   "cell_type": "markdown",
   "id": "d83b1f69-87de-442d-8ddc-713f616dd85c",
   "metadata": {},
   "source": [
    "Хоть CatBoostRegressor имеет встроенную предобработку категориальных признаков, самостоятельное кодирование даст больше возможностей для преобразования набора. После кодирования будем масштабировать данные для лучшей производительности.  "
   ]
  },
  {
   "cell_type": "markdown",
   "id": "cd421a71-9d2f-4269-88e4-abcc46b1d001",
   "metadata": {},
   "source": [
    "### Кодирование параметров"
   ]
  },
  {
   "cell_type": "code",
   "execution_count": 161,
   "id": "95d542c5-227a-4497-95f5-a903504fdeef",
   "metadata": {},
   "outputs": [],
   "source": [
    "# кодируем данные\n",
    "cat_features = ['Device', 'Region', 'Channel', 'Segment']\n",
    "\n",
    "drop_enc = OneHotEncoder(drop='first').fit(X[cat_features])\n",
    "X_preprossess = drop_enc.transform(X[cat_features]).toarray()\n",
    "X_preprossess = pd.DataFrame(X_preprossess, columns=drop_enc.get_feature_names_out())\n",
    "\n",
    "X_cat_preprossess = pd.DataFrame(X_preprossess, columns=(list(drop_enc.get_feature_names_out())))"
   ]
  },
  {
   "cell_type": "code",
   "execution_count": 162,
   "id": "a16ccb84-087a-47bf-bec6-d72ebc37a383",
   "metadata": {},
   "outputs": [],
   "source": [
    "X_cat_preprossess['revenue'] = df.Revenue"
   ]
  },
  {
   "cell_type": "markdown",
   "id": "ecfc9cf6-233c-450c-ad1a-1c33fbe1c1d0",
   "metadata": {},
   "source": [
    "### Генерация новых параметров"
   ]
  },
  {
   "cell_type": "markdown",
   "id": "99538acc-7f61-4254-b030-868b7e2da361",
   "metadata": {},
   "source": [
    "Для генерации возьмем параметры времени, а именно день, неделя и месяц обзвона. Это поможет предсказывать цену на привлечение, так как в прошлых модулях мы видели, что цена меняется со временем"
   ]
  },
  {
   "cell_type": "code",
   "execution_count": 163,
   "id": "c565c607-c8cb-4cd0-bbae-33cc1d8f788c",
   "metadata": {},
   "outputs": [],
   "source": [
    "X_cat_preprossess['day'] = df['Session Start'].dt.day\n",
    "X_cat_preprossess['week'] = df['Session Start'].dt.isocalendar().week\n",
    "X_cat_preprossess['month'] = df['Session Start'].dt.month"
   ]
  },
  {
   "cell_type": "markdown",
   "id": "897e313a-706c-402d-821e-32d635fc3dbc",
   "metadata": {},
   "source": [
    "### Масштабирование признаков"
   ]
  },
  {
   "cell_type": "code",
   "execution_count": 164,
   "id": "085fdefc-05a9-4414-b883-c1594e9b577d",
   "metadata": {},
   "outputs": [
    {
     "data": {
      "text/html": [
       "<div>\n",
       "<style scoped>\n",
       "    .dataframe tbody tr th:only-of-type {\n",
       "        vertical-align: middle;\n",
       "    }\n",
       "\n",
       "    .dataframe tbody tr th {\n",
       "        vertical-align: top;\n",
       "    }\n",
       "\n",
       "    .dataframe thead th {\n",
       "        text-align: right;\n",
       "    }\n",
       "</style>\n",
       "<table border=\"1\" class=\"dataframe\">\n",
       "  <thead>\n",
       "    <tr style=\"text-align: right;\">\n",
       "      <th></th>\n",
       "      <th>Device_Mac</th>\n",
       "      <th>Device_PC</th>\n",
       "      <th>Device_iPhone</th>\n",
       "      <th>Region_Russia</th>\n",
       "      <th>Region_Thailand</th>\n",
       "      <th>Region_Turkey</th>\n",
       "      <th>Channel_FaceBoom</th>\n",
       "      <th>Channel_LeapBob</th>\n",
       "      <th>Channel_MediaTornado</th>\n",
       "      <th>Channel_OppleCreativeMedia</th>\n",
       "      <th>...</th>\n",
       "      <th>Channel_lambdaMediaAds</th>\n",
       "      <th>Channel_organic</th>\n",
       "      <th>Segment_Champions</th>\n",
       "      <th>Segment_Lost</th>\n",
       "      <th>Segment_Loyal Customers</th>\n",
       "      <th>Segment_Potential Loyalists</th>\n",
       "      <th>revenue</th>\n",
       "      <th>day</th>\n",
       "      <th>week</th>\n",
       "      <th>month</th>\n",
       "    </tr>\n",
       "  </thead>\n",
       "  <tbody>\n",
       "    <tr>\n",
       "      <th>0</th>\n",
       "      <td>-0.52355</td>\n",
       "      <td>-0.458760</td>\n",
       "      <td>-0.783406</td>\n",
       "      <td>-1.856713</td>\n",
       "      <td>-0.285193</td>\n",
       "      <td>3.409307</td>\n",
       "      <td>-0.805805</td>\n",
       "      <td>-0.175019</td>\n",
       "      <td>-0.134305</td>\n",
       "      <td>-0.165419</td>\n",
       "      <td>...</td>\n",
       "      <td>-0.162478</td>\n",
       "      <td>-0.390407</td>\n",
       "      <td>-0.114907</td>\n",
       "      <td>1.476852</td>\n",
       "      <td>-0.360068</td>\n",
       "      <td>-0.694594</td>\n",
       "      <td>-0.635809</td>\n",
       "      <td>-1.645928</td>\n",
       "      <td>-1.870036</td>\n",
       "      <td>-1.540499</td>\n",
       "    </tr>\n",
       "    <tr>\n",
       "      <th>1</th>\n",
       "      <td>-0.52355</td>\n",
       "      <td>-0.458760</td>\n",
       "      <td>-0.783406</td>\n",
       "      <td>0.538586</td>\n",
       "      <td>-0.285193</td>\n",
       "      <td>-0.293315</td>\n",
       "      <td>-0.805805</td>\n",
       "      <td>-0.175019</td>\n",
       "      <td>-0.134305</td>\n",
       "      <td>-0.165419</td>\n",
       "      <td>...</td>\n",
       "      <td>-0.162478</td>\n",
       "      <td>-0.390407</td>\n",
       "      <td>-0.114907</td>\n",
       "      <td>-0.677116</td>\n",
       "      <td>-0.360068</td>\n",
       "      <td>1.439690</td>\n",
       "      <td>2.259041</td>\n",
       "      <td>-1.645928</td>\n",
       "      <td>-1.870036</td>\n",
       "      <td>-1.540499</td>\n",
       "    </tr>\n",
       "    <tr>\n",
       "      <th>2</th>\n",
       "      <td>-0.52355</td>\n",
       "      <td>2.179789</td>\n",
       "      <td>-0.783406</td>\n",
       "      <td>-1.856713</td>\n",
       "      <td>-0.285193</td>\n",
       "      <td>3.409307</td>\n",
       "      <td>-0.805805</td>\n",
       "      <td>-0.175019</td>\n",
       "      <td>-0.134305</td>\n",
       "      <td>-0.165419</td>\n",
       "      <td>...</td>\n",
       "      <td>-0.162478</td>\n",
       "      <td>2.561432</td>\n",
       "      <td>-0.114907</td>\n",
       "      <td>-0.677116</td>\n",
       "      <td>2.777255</td>\n",
       "      <td>-0.694594</td>\n",
       "      <td>0.943200</td>\n",
       "      <td>-1.645928</td>\n",
       "      <td>-1.870036</td>\n",
       "      <td>-1.540499</td>\n",
       "    </tr>\n",
       "    <tr>\n",
       "      <th>3</th>\n",
       "      <td>-0.52355</td>\n",
       "      <td>-0.458760</td>\n",
       "      <td>1.276478</td>\n",
       "      <td>0.538586</td>\n",
       "      <td>-0.285193</td>\n",
       "      <td>-0.293315</td>\n",
       "      <td>-0.805805</td>\n",
       "      <td>-0.175019</td>\n",
       "      <td>-0.134305</td>\n",
       "      <td>-0.165419</td>\n",
       "      <td>...</td>\n",
       "      <td>-0.162478</td>\n",
       "      <td>-0.390407</td>\n",
       "      <td>-0.114907</td>\n",
       "      <td>-0.677116</td>\n",
       "      <td>2.777255</td>\n",
       "      <td>-0.694594</td>\n",
       "      <td>1.995873</td>\n",
       "      <td>-1.645928</td>\n",
       "      <td>-1.870036</td>\n",
       "      <td>-1.540499</td>\n",
       "    </tr>\n",
       "    <tr>\n",
       "      <th>4</th>\n",
       "      <td>-0.52355</td>\n",
       "      <td>-0.458760</td>\n",
       "      <td>1.276478</td>\n",
       "      <td>0.538586</td>\n",
       "      <td>-0.285193</td>\n",
       "      <td>-0.293315</td>\n",
       "      <td>-0.805805</td>\n",
       "      <td>-0.175019</td>\n",
       "      <td>-0.134305</td>\n",
       "      <td>-0.165419</td>\n",
       "      <td>...</td>\n",
       "      <td>-0.162478</td>\n",
       "      <td>2.561432</td>\n",
       "      <td>-0.114907</td>\n",
       "      <td>-0.677116</td>\n",
       "      <td>-0.360068</td>\n",
       "      <td>1.439690</td>\n",
       "      <td>0.943200</td>\n",
       "      <td>-1.645928</td>\n",
       "      <td>-1.870036</td>\n",
       "      <td>-1.540499</td>\n",
       "    </tr>\n",
       "  </tbody>\n",
       "</table>\n",
       "<p>5 rows × 24 columns</p>\n",
       "</div>"
      ],
      "text/plain": [
       "   Device_Mac  Device_PC  Device_iPhone  Region_Russia  Region_Thailand  \\\n",
       "0    -0.52355  -0.458760      -0.783406      -1.856713        -0.285193   \n",
       "1    -0.52355  -0.458760      -0.783406       0.538586        -0.285193   \n",
       "2    -0.52355   2.179789      -0.783406      -1.856713        -0.285193   \n",
       "3    -0.52355  -0.458760       1.276478       0.538586        -0.285193   \n",
       "4    -0.52355  -0.458760       1.276478       0.538586        -0.285193   \n",
       "\n",
       "   Region_Turkey  Channel_FaceBoom  Channel_LeapBob  Channel_MediaTornado  \\\n",
       "0       3.409307         -0.805805        -0.175019             -0.134305   \n",
       "1      -0.293315         -0.805805        -0.175019             -0.134305   \n",
       "2       3.409307         -0.805805        -0.175019             -0.134305   \n",
       "3      -0.293315         -0.805805        -0.175019             -0.134305   \n",
       "4      -0.293315         -0.805805        -0.175019             -0.134305   \n",
       "\n",
       "   Channel_OppleCreativeMedia  ...  Channel_lambdaMediaAds  Channel_organic  \\\n",
       "0                   -0.165419  ...               -0.162478        -0.390407   \n",
       "1                   -0.165419  ...               -0.162478        -0.390407   \n",
       "2                   -0.165419  ...               -0.162478         2.561432   \n",
       "3                   -0.165419  ...               -0.162478        -0.390407   \n",
       "4                   -0.165419  ...               -0.162478         2.561432   \n",
       "\n",
       "   Segment_Champions  Segment_Lost  Segment_Loyal Customers  \\\n",
       "0          -0.114907      1.476852                -0.360068   \n",
       "1          -0.114907     -0.677116                -0.360068   \n",
       "2          -0.114907     -0.677116                 2.777255   \n",
       "3          -0.114907     -0.677116                 2.777255   \n",
       "4          -0.114907     -0.677116                -0.360068   \n",
       "\n",
       "   Segment_Potential Loyalists   revenue       day      week     month  \n",
       "0                    -0.694594 -0.635809 -1.645928 -1.870036 -1.540499  \n",
       "1                     1.439690  2.259041 -1.645928 -1.870036 -1.540499  \n",
       "2                    -0.694594  0.943200 -1.645928 -1.870036 -1.540499  \n",
       "3                    -0.694594  1.995873 -1.645928 -1.870036 -1.540499  \n",
       "4                     1.439690  0.943200 -1.645928 -1.870036 -1.540499  \n",
       "\n",
       "[5 rows x 24 columns]"
      ]
     },
     "execution_count": 164,
     "metadata": {},
     "output_type": "execute_result"
    }
   ],
   "source": [
    "scaler = StandardScaler().fit(X_cat_preprossess)\n",
    "X_preprossess = scaler.transform(X_cat_preprossess)\n",
    "X_preprossess = pd.DataFrame(X_preprossess, columns=X_cat_preprossess.columns)\n",
    "\n",
    "# итоговый набор данных выглядит так\n",
    "X_preprossess.head()"
   ]
  },
  {
   "cell_type": "markdown",
   "id": "1f50f25d-af46-4a1d-a503-c010e439de47",
   "metadata": {},
   "source": [
    "## Оценка качества модели после преобразования данных"
   ]
  },
  {
   "cell_type": "code",
   "execution_count": 165,
   "id": "e73b0823-4783-4169-99c8-20cd79134060",
   "metadata": {},
   "outputs": [
    {
     "name": "stdout",
     "output_type": "stream",
     "text": [
      "Метрика MAE равна: 0.01\n"
     ]
    }
   ],
   "source": [
    "# 25 процентов выборку уходит на тест модели, остальное на обучение\n",
    "X_train, X_test, y_train, y_test = train_test_split(X_preprossess, y, test_size=0.25, random_state=2)\n",
    "\n",
    "# Обучаем модель\n",
    "model = CatBoostRegressor(verbose=0)\n",
    "model.fit(X_train, y_train)\n",
    "pred = model.predict(X_test)\n",
    "\n",
    "print(f'Метрика MAE равна: {mean_absolute_percentage_error(y_test, pred):.2f}')"
   ]
  },
  {
   "cell_type": "markdown",
   "id": "10d18e9f-7266-4df0-8cb0-cb316dc31c3a",
   "metadata": {},
   "source": [
    "Вывод: мы получили отличное качество после предобработки и генерации новых признаков! "
   ]
  },
  {
   "cell_type": "markdown",
   "id": "2194d3f2-4a94-4b0a-bfb3-6de16d4389f9",
   "metadata": {},
   "source": [
    "## Оптимизация гиперпараметров"
   ]
  },
  {
   "cell_type": "markdown",
   "id": "6990a6b0-32c0-42b5-a1aa-cd1b60643cfc",
   "metadata": {},
   "source": [
    "#### Подбирать гиперпараметры будем с помощью RandomizedSearchCV "
   ]
  },
  {
   "cell_type": "code",
   "execution_count": 174,
   "id": "b81f8717-8795-493e-baef-99970f73d87d",
   "metadata": {},
   "outputs": [
    {
     "data": {
      "text/plain": [
       "{'learning_rate': 0.0984, 'l2_leaf_reg': 0.381, 'depth': 7}"
      ]
     },
     "execution_count": 174,
     "metadata": {},
     "output_type": "execute_result"
    }
   ],
   "source": [
    "# гиперпараметры для подбора\n",
    "params = {'learning_rate': np.arange(0.0001, 0.1, 0.0001),\n",
    "         'depth': range(2, 10),\n",
    "         'l2_leaf_reg': np.arange(0, 1, 0.001)}\n",
    "\n",
    "cv = RandomizedSearchCV(CatBoostRegressor(thread_count=-1, random_state=1, verbose=0), params, n_jobs=-1, cv=5)\n",
    "cv.fit(X_train, y_train)\n",
    "\n",
    "best_params = cv.best_params_\n",
    "best_params"
   ]
  },
  {
   "cell_type": "markdown",
   "id": "553e795a-a1ee-47e8-8110-e0d235ad79a2",
   "metadata": {},
   "source": [
    "## Оценка качества итоговой модели"
   ]
  },
  {
   "cell_type": "code",
   "execution_count": 177,
   "id": "e720bcbc-b924-470b-aa02-2f21e07e7cb9",
   "metadata": {},
   "outputs": [
    {
     "name": "stdout",
     "output_type": "stream",
     "text": [
      "Метрика MAE равна: 0.0016\n"
     ]
    }
   ],
   "source": [
    "# Обучаем модель\n",
    "model = CatBoostRegressor(**best_params, verbose=0)\n",
    "model.fit(X_train, y_train)\n",
    "pred = model.predict(X_test)\n",
    "\n",
    "print(f'Метрика MAE равна: {mean_absolute_percentage_error(y_test, pred):.4f}')"
   ]
  },
  {
   "cell_type": "markdown",
   "id": "52369fcc-6c53-479e-9ce0-c5d2b6533cb5",
   "metadata": {},
   "source": [
    "Ошибка снизилась еще больше, это отличный показатель для итоговой модели!"
   ]
  },
  {
   "cell_type": "markdown",
   "id": "8a96e3c5-5af5-4680-9613-ed2922468ee8",
   "metadata": {},
   "source": [
    "## Кривые валидации и обучения"
   ]
  },
  {
   "cell_type": "code",
   "execution_count": 185,
   "id": "7618d1fb-1874-43fe-994f-c384f492cd92",
   "metadata": {},
   "outputs": [],
   "source": [
    "train = model.get_evals_result()['learn']['RMSE']"
   ]
  },
  {
   "cell_type": "code",
   "execution_count": 194,
   "id": "771c57b7-3b0b-4b87-ae51-9a30a89f6590",
   "metadata": {},
   "outputs": [
    {
     "data": {
      "text/plain": [
       "Text(0, 0.5, 'Ошибка модели')"
      ]
     },
     "execution_count": 194,
     "metadata": {},
     "output_type": "execute_result"
    },
    {
     "data": {
      "image/png": "[encoded data removed]",
      "text/plain": [
       "<Figure size 640x480 with 1 Axes>"
      ]
     },
     "metadata": {},
     "output_type": "display_data"
    }
   ],
   "source": [
    "ax = plt.plot(train)\n",
    "plt.xlabel('Количество итераций')\n",
    "plt.ylabel('Ошибка модели')"
   ]
  },
  {
   "cell_type": "markdown",
   "id": "73a50dc6-fd37-4c73-932e-d13c53cb75bf",
   "metadata": {},
   "source": [
    "### Интерпретация результатов\n",
    "Из графика видно, как с ростом количества итераций уменьшается ошибка модели. Это связано с обучением модели на больших итерациях, а следовательно, улучшении модели со временем."
   ]
  },
  {
   "cell_type": "markdown",
   "id": "f0c1099a-fa22-4c6f-ae54-c008ca2de436",
   "metadata": {},
   "source": [
    "## Сохранение модели в файл"
   ]
  },
  {
   "cell_type": "code",
   "execution_count": 197,
   "id": "33afb9e3-0cb0-4d10-8335-dfb97154bea5",
   "metadata": {},
   "outputs": [],
   "source": [
    "model.save_model('model.cbm')"
   ]
  },
  {
   "cell_type": "markdown",
   "id": "5a1ed565-9aea-4256-87ed-9fa9d0cab043",
   "metadata": {},
   "source": [
    "#"
   ]
  },
  {
   "cell_type": "markdown",
   "id": "8316f963-e1e9-4271-bc3a-d6a7c77620d6",
   "metadata": {},
   "source": [
    "# Отчет"
   ]
  },
  {
   "cell_type": "markdown",
   "id": "24fbc338-8cda-4668-8a53-4558eb523cdc",
   "metadata": {},
   "source": [
    "В ходе Модуля В, были сделаны следующие действия:\n",
    "* проведена сегментация пользователей\n",
    "* была выбрана и построена модель регрессии\n",
    "* была оптимизирована модель регрессии"
   ]
  }
 ],
 "metadata": {
  "kernelspec": {
   "display_name": "Python 3 (ipykernel)",
   "language": "python",
   "name": "python3"
  },
  "language_info": {
   "codemirror_mode": {
    "name": "ipython",
    "version": 3
   },
   "file_extension": ".py",
   "mimetype": "text/x-python",
   "name": "python",
   "nbconvert_exporter": "python",
   "pygments_lexer": "ipython3",
   "version": "3.12.7"
  }
 },
 "nbformat": 4,
 "nbformat_minor": 5
}
