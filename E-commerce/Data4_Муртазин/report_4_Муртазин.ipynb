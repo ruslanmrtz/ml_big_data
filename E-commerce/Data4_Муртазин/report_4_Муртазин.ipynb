{
 "cells": [
  {
   "cell_type": "markdown",
   "id": "b8d074dc-96ee-4df6-9240-d583c5a1d1b8",
   "metadata": {},
   "source": [
    "## Для создания приложения и предсказания целевой переменой модель, созданная в модуле В не подходит, поэтому стоит обучить новую модель для этих целей"
   ]
  },
  {
   "cell_type": "markdown",
   "id": "fac1c481-ecbd-443a-bf1c-aef8cfae28e4",
   "metadata": {},
   "source": [
    "# Установка библиотек"
   ]
  },
  {
   "cell_type": "code",
   "execution_count": 6,
   "id": "a303cea3-8e2e-4ec9-95f5-c23c99bd756f",
   "metadata": {},
   "outputs": [],
   "source": [
    "!pip install catboost -q"
   ]
  },
  {
   "cell_type": "markdown",
   "id": "8b5d7ec9-3e64-4c71-a190-0b6df9ea94ed",
   "metadata": {},
   "source": [
    "# Импорт библиотек"
   ]
  },
  {
   "cell_type": "code",
   "execution_count": 48,
   "id": "1408f3a5-8fb4-4f38-ad78-e7b6fe31551d",
   "metadata": {},
   "outputs": [],
   "source": [
    "import pandas as pd\n",
    "\n",
    "from catboost import CatBoostRegressor\n",
    "\n",
    "from sklearn.pipeline import Pipeline\n",
    "from sklearn.preprocessing import OneHotEncoder\n",
    "\n",
    "import pickle"
   ]
  },
  {
   "cell_type": "markdown",
   "id": "99f01b76-da29-4b15-904e-723e3a974a3d",
   "metadata": {},
   "source": [
    "# Импорт данных"
   ]
  },
  {
   "cell_type": "code",
   "execution_count": 24,
   "id": "4ca54299-ca42-497b-b48a-e5f10fa5b7b3",
   "metadata": {},
   "outputs": [
    {
     "data": {
      "text/html": [
       "<div>\n",
       "<style scoped>\n",
       "    .dataframe tbody tr th:only-of-type {\n",
       "        vertical-align: middle;\n",
       "    }\n",
       "\n",
       "    .dataframe tbody tr th {\n",
       "        vertical-align: top;\n",
       "    }\n",
       "\n",
       "    .dataframe thead th {\n",
       "        text-align: right;\n",
       "    }\n",
       "</style>\n",
       "<table border=\"1\" class=\"dataframe\">\n",
       "  <thead>\n",
       "    <tr style=\"text-align: right;\">\n",
       "      <th></th>\n",
       "      <th>User Id</th>\n",
       "      <th>Session Start</th>\n",
       "      <th>Session End</th>\n",
       "      <th>Device</th>\n",
       "      <th>Region</th>\n",
       "      <th>Channel</th>\n",
       "      <th>date</th>\n",
       "      <th>mean</th>\n",
       "      <th>Revenue</th>\n",
       "    </tr>\n",
       "  </thead>\n",
       "  <tbody>\n",
       "    <tr>\n",
       "      <th>0</th>\n",
       "      <td>382394863972</td>\n",
       "      <td>2022-05-01 00:00:41</td>\n",
       "      <td>2022-05-01 01:13:45</td>\n",
       "      <td>Mac</td>\n",
       "      <td>Russia</td>\n",
       "      <td>MediaTornado</td>\n",
       "      <td>2022-05-01</td>\n",
       "      <td>30.482</td>\n",
       "      <td>0.0</td>\n",
       "    </tr>\n",
       "    <tr>\n",
       "      <th>1</th>\n",
       "      <td>428935481941</td>\n",
       "      <td>2022-05-01 00:01:35</td>\n",
       "      <td>2022-05-01 02:30:30</td>\n",
       "      <td>PC</td>\n",
       "      <td>Turkey</td>\n",
       "      <td>AdNonSense</td>\n",
       "      <td>2022-05-01</td>\n",
       "      <td>30.482</td>\n",
       "      <td>0.0</td>\n",
       "    </tr>\n",
       "    <tr>\n",
       "      <th>2</th>\n",
       "      <td>86266511938</td>\n",
       "      <td>2022-05-01 00:02:38</td>\n",
       "      <td>2022-05-01 01:22:33</td>\n",
       "      <td>Android</td>\n",
       "      <td>China</td>\n",
       "      <td>organic</td>\n",
       "      <td>2022-05-01</td>\n",
       "      <td>30.482</td>\n",
       "      <td>0.0</td>\n",
       "    </tr>\n",
       "    <tr>\n",
       "      <th>3</th>\n",
       "      <td>763000657462</td>\n",
       "      <td>2022-05-01 00:04:21</td>\n",
       "      <td>2022-05-01 00:24:15</td>\n",
       "      <td>PC</td>\n",
       "      <td>Turkey</td>\n",
       "      <td>organic</td>\n",
       "      <td>2022-05-01</td>\n",
       "      <td>30.482</td>\n",
       "      <td>0.0</td>\n",
       "    </tr>\n",
       "    <tr>\n",
       "      <th>4</th>\n",
       "      <td>791058813280</td>\n",
       "      <td>2022-05-01 00:05:17</td>\n",
       "      <td>2022-05-01 01:14:51</td>\n",
       "      <td>Android</td>\n",
       "      <td>Thailand</td>\n",
       "      <td>LeapBob</td>\n",
       "      <td>2022-05-01</td>\n",
       "      <td>30.482</td>\n",
       "      <td>0.0</td>\n",
       "    </tr>\n",
       "  </tbody>\n",
       "</table>\n",
       "</div>"
      ],
      "text/plain": [
       "        User Id        Session Start          Session End   Device    Region  \\\n",
       "0  382394863972  2022-05-01 00:00:41  2022-05-01 01:13:45      Mac    Russia   \n",
       "1  428935481941  2022-05-01 00:01:35  2022-05-01 02:30:30       PC    Turkey   \n",
       "2   86266511938  2022-05-01 00:02:38  2022-05-01 01:22:33  Android     China   \n",
       "3  763000657462  2022-05-01 00:04:21  2022-05-01 00:24:15       PC    Turkey   \n",
       "4  791058813280  2022-05-01 00:05:17  2022-05-01 01:14:51  Android  Thailand   \n",
       "\n",
       "        Channel        date    mean  Revenue  \n",
       "0  MediaTornado  2022-05-01  30.482      0.0  \n",
       "1    AdNonSense  2022-05-01  30.482      0.0  \n",
       "2       organic  2022-05-01  30.482      0.0  \n",
       "3       organic  2022-05-01  30.482      0.0  \n",
       "4       LeapBob  2022-05-01  30.482      0.0  "
      ]
     },
     "execution_count": 24,
     "metadata": {},
     "output_type": "execute_result"
    }
   ],
   "source": [
    "df = pd.read_csv('profiles.csv')\n",
    "df.head()"
   ]
  },
  {
   "cell_type": "code",
   "execution_count": 51,
   "id": "3b039ad8-926d-4ad8-b292-a19ca699a7d7",
   "metadata": {},
   "outputs": [
    {
     "data": {
      "text/plain": [
       "array(['MediaTornado', 'AdNonSense', 'organic', 'LeapBob', 'FaceBoom',\n",
       "       'TipTop', 'OppleCreativeMedia', 'RocketSuperAds', 'WahooNetBanner',\n",
       "       'lambdaMediaAds', 'YRabbit'], dtype=object)"
      ]
     },
     "execution_count": 51,
     "metadata": {},
     "output_type": "execute_result"
    }
   ],
   "source": [
    "df.Channel.unique()"
   ]
  },
  {
   "cell_type": "markdown",
   "id": "81d44071-a6b5-4dc5-a2d9-0f24ed9d9d37",
   "metadata": {},
   "source": [
    "# Предобработка данных"
   ]
  },
  {
   "cell_type": "code",
   "execution_count": 55,
   "id": "3ae2669a-0f35-407d-995d-f10a6bfa9a55",
   "metadata": {},
   "outputs": [],
   "source": [
    "def preprocess_data(df):\n",
    "    df['date'] = pd.to_datetime(df['date'])\n",
    "    cat_features = ['Channel', 'Device', 'Region']\n",
    "    # Обработка категориальных признаков\n",
    "    encoder = OneHotEncoder(drop='first')\n",
    "    encoder.fit(df[cat_features])\n",
    "    X_preprocess = encoder.transform(df[cat_features])\n",
    "    X = pd.DataFrame(X_preprocess.toarray(), columns=encoder.get_feature_names_out())\n",
    "    # добавляем дату\n",
    "    X['day'] = df['date'].dt.day\n",
    "    X['month'] = df['date'].dt.month\n",
    "    X['day'] = df['date'].dt.year\n",
    "    with open('encoder.pkl', 'wb') as file:\n",
    "    # загружаем кодировщик в файл\n",
    "        pickle.dump(encoder, file)\n",
    "    return X"
   ]
  },
  {
   "cell_type": "code",
   "execution_count": 56,
   "id": "10eb8945-a491-4c06-ac90-e3d7ae6f0620",
   "metadata": {},
   "outputs": [
    {
     "data": {
      "text/html": [
       "<div>\n",
       "<style scoped>\n",
       "    .dataframe tbody tr th:only-of-type {\n",
       "        vertical-align: middle;\n",
       "    }\n",
       "\n",
       "    .dataframe tbody tr th {\n",
       "        vertical-align: top;\n",
       "    }\n",
       "\n",
       "    .dataframe thead th {\n",
       "        text-align: right;\n",
       "    }\n",
       "</style>\n",
       "<table border=\"1\" class=\"dataframe\">\n",
       "  <thead>\n",
       "    <tr style=\"text-align: right;\">\n",
       "      <th></th>\n",
       "      <th>Channel_FaceBoom</th>\n",
       "      <th>Channel_LeapBob</th>\n",
       "      <th>Channel_MediaTornado</th>\n",
       "      <th>Channel_OppleCreativeMedia</th>\n",
       "      <th>Channel_RocketSuperAds</th>\n",
       "      <th>Channel_TipTop</th>\n",
       "      <th>Channel_WahooNetBanner</th>\n",
       "      <th>Channel_YRabbit</th>\n",
       "      <th>Channel_lambdaMediaAds</th>\n",
       "      <th>Channel_organic</th>\n",
       "      <th>Device_Mac</th>\n",
       "      <th>Device_PC</th>\n",
       "      <th>Device_iPhone</th>\n",
       "      <th>Region_Russia</th>\n",
       "      <th>Region_Thailand</th>\n",
       "      <th>Region_Turkey</th>\n",
       "      <th>day</th>\n",
       "      <th>month</th>\n",
       "    </tr>\n",
       "  </thead>\n",
       "  <tbody>\n",
       "    <tr>\n",
       "      <th>0</th>\n",
       "      <td>0.0</td>\n",
       "      <td>0.0</td>\n",
       "      <td>1.0</td>\n",
       "      <td>0.0</td>\n",
       "      <td>0.0</td>\n",
       "      <td>0.0</td>\n",
       "      <td>0.0</td>\n",
       "      <td>0.0</td>\n",
       "      <td>0.0</td>\n",
       "      <td>0.0</td>\n",
       "      <td>1.0</td>\n",
       "      <td>0.0</td>\n",
       "      <td>0.0</td>\n",
       "      <td>1.0</td>\n",
       "      <td>0.0</td>\n",
       "      <td>0.0</td>\n",
       "      <td>2022</td>\n",
       "      <td>5</td>\n",
       "    </tr>\n",
       "    <tr>\n",
       "      <th>1</th>\n",
       "      <td>0.0</td>\n",
       "      <td>0.0</td>\n",
       "      <td>0.0</td>\n",
       "      <td>0.0</td>\n",
       "      <td>0.0</td>\n",
       "      <td>0.0</td>\n",
       "      <td>0.0</td>\n",
       "      <td>0.0</td>\n",
       "      <td>0.0</td>\n",
       "      <td>0.0</td>\n",
       "      <td>0.0</td>\n",
       "      <td>1.0</td>\n",
       "      <td>0.0</td>\n",
       "      <td>0.0</td>\n",
       "      <td>0.0</td>\n",
       "      <td>1.0</td>\n",
       "      <td>2022</td>\n",
       "      <td>5</td>\n",
       "    </tr>\n",
       "    <tr>\n",
       "      <th>2</th>\n",
       "      <td>0.0</td>\n",
       "      <td>0.0</td>\n",
       "      <td>0.0</td>\n",
       "      <td>0.0</td>\n",
       "      <td>0.0</td>\n",
       "      <td>0.0</td>\n",
       "      <td>0.0</td>\n",
       "      <td>0.0</td>\n",
       "      <td>0.0</td>\n",
       "      <td>1.0</td>\n",
       "      <td>0.0</td>\n",
       "      <td>0.0</td>\n",
       "      <td>0.0</td>\n",
       "      <td>0.0</td>\n",
       "      <td>0.0</td>\n",
       "      <td>0.0</td>\n",
       "      <td>2022</td>\n",
       "      <td>5</td>\n",
       "    </tr>\n",
       "    <tr>\n",
       "      <th>3</th>\n",
       "      <td>0.0</td>\n",
       "      <td>0.0</td>\n",
       "      <td>0.0</td>\n",
       "      <td>0.0</td>\n",
       "      <td>0.0</td>\n",
       "      <td>0.0</td>\n",
       "      <td>0.0</td>\n",
       "      <td>0.0</td>\n",
       "      <td>0.0</td>\n",
       "      <td>1.0</td>\n",
       "      <td>0.0</td>\n",
       "      <td>1.0</td>\n",
       "      <td>0.0</td>\n",
       "      <td>0.0</td>\n",
       "      <td>0.0</td>\n",
       "      <td>1.0</td>\n",
       "      <td>2022</td>\n",
       "      <td>5</td>\n",
       "    </tr>\n",
       "    <tr>\n",
       "      <th>4</th>\n",
       "      <td>0.0</td>\n",
       "      <td>1.0</td>\n",
       "      <td>0.0</td>\n",
       "      <td>0.0</td>\n",
       "      <td>0.0</td>\n",
       "      <td>0.0</td>\n",
       "      <td>0.0</td>\n",
       "      <td>0.0</td>\n",
       "      <td>0.0</td>\n",
       "      <td>0.0</td>\n",
       "      <td>0.0</td>\n",
       "      <td>0.0</td>\n",
       "      <td>0.0</td>\n",
       "      <td>0.0</td>\n",
       "      <td>1.0</td>\n",
       "      <td>0.0</td>\n",
       "      <td>2022</td>\n",
       "      <td>5</td>\n",
       "    </tr>\n",
       "  </tbody>\n",
       "</table>\n",
       "</div>"
      ],
      "text/plain": [
       "   Channel_FaceBoom  Channel_LeapBob  Channel_MediaTornado  \\\n",
       "0               0.0              0.0                   1.0   \n",
       "1               0.0              0.0                   0.0   \n",
       "2               0.0              0.0                   0.0   \n",
       "3               0.0              0.0                   0.0   \n",
       "4               0.0              1.0                   0.0   \n",
       "\n",
       "   Channel_OppleCreativeMedia  Channel_RocketSuperAds  Channel_TipTop  \\\n",
       "0                         0.0                     0.0             0.0   \n",
       "1                         0.0                     0.0             0.0   \n",
       "2                         0.0                     0.0             0.0   \n",
       "3                         0.0                     0.0             0.0   \n",
       "4                         0.0                     0.0             0.0   \n",
       "\n",
       "   Channel_WahooNetBanner  Channel_YRabbit  Channel_lambdaMediaAds  \\\n",
       "0                     0.0              0.0                     0.0   \n",
       "1                     0.0              0.0                     0.0   \n",
       "2                     0.0              0.0                     0.0   \n",
       "3                     0.0              0.0                     0.0   \n",
       "4                     0.0              0.0                     0.0   \n",
       "\n",
       "   Channel_organic  Device_Mac  Device_PC  Device_iPhone  Region_Russia  \\\n",
       "0              0.0         1.0        0.0            0.0            1.0   \n",
       "1              0.0         0.0        1.0            0.0            0.0   \n",
       "2              1.0         0.0        0.0            0.0            0.0   \n",
       "3              1.0         0.0        1.0            0.0            0.0   \n",
       "4              0.0         0.0        0.0            0.0            0.0   \n",
       "\n",
       "   Region_Thailand  Region_Turkey   day  month  \n",
       "0              0.0            0.0  2022      5  \n",
       "1              0.0            1.0  2022      5  \n",
       "2              0.0            0.0  2022      5  \n",
       "3              0.0            1.0  2022      5  \n",
       "4              1.0            0.0  2022      5  "
      ]
     },
     "execution_count": 56,
     "metadata": {},
     "output_type": "execute_result"
    }
   ],
   "source": [
    "X = preprocess_data(df)\n",
    "y = df['Revenue']\n",
    "X.head()"
   ]
  },
  {
   "cell_type": "markdown",
   "id": "67d3159c-11f2-4f39-9137-88035a207c72",
   "metadata": {},
   "source": [
    "# Обучение модели"
   ]
  },
  {
   "cell_type": "code",
   "execution_count": 33,
   "id": "e420beb7-ca2d-41fb-9501-033224780651",
   "metadata": {},
   "outputs": [
    {
     "data": {
      "text/plain": [
       "<catboost.core.CatBoostRegressor at 0x270583a2390>"
      ]
     },
     "execution_count": 33,
     "metadata": {},
     "output_type": "execute_result"
    }
   ],
   "source": [
    "model = CatBoostRegressor(thread_count=-1,\n",
    "                         verbose=0,\n",
    "                         random_state=1)\n",
    "\n",
    "model.fit(X, y)"
   ]
  },
  {
   "cell_type": "markdown",
   "id": "4ef53803-b07d-4803-898e-2a4190cc1711",
   "metadata": {},
   "source": [
    "# Предсказание по контрольной выборке"
   ]
  },
  {
   "cell_type": "code",
   "execution_count": 38,
   "id": "2473ae66-c13a-43b1-bae8-2718ea276031",
   "metadata": {},
   "outputs": [
    {
     "data": {
      "text/plain": [
       "0    1.785259\n",
       "1    0.999401\n",
       "2    1.381444\n",
       "3    1.011229\n",
       "4    0.402079\n",
       "dtype: float64"
      ]
     },
     "execution_count": 38,
     "metadata": {},
     "output_type": "execute_result"
    }
   ],
   "source": [
    "test = pd.read_csv('control_for_competitors.csv').rename(columns=\n",
    "                                                         {'channel': 'Channel', 'device': 'Device', 'region': 'Region', 'dt': 'date'})\n",
    "X_test = preprocess_data(test)\n",
    "pred = pd.Series(model.predict(X))\n",
    "pred.to_csv('predictions.csv')\n",
    "pred.head()"
   ]
  },
  {
   "cell_type": "markdown",
   "id": "bda30f26-84ae-4e36-a7e5-0ade29bfce95",
   "metadata": {},
   "source": [
    "# Сохранение модели в файл"
   ]
  },
  {
   "cell_type": "code",
   "execution_count": 39,
   "id": "46a547b4-668b-437b-9814-edc5ed3a1d3d",
   "metadata": {},
   "outputs": [],
   "source": [
    "model.save_model('model.cbm')"
   ]
  },
  {
   "cell_type": "markdown",
   "id": "88933867-62f6-4d27-97c5-2bd24912af85",
   "metadata": {},
   "source": [
    "#"
   ]
  },
  {
   "cell_type": "markdown",
   "id": "9875b815-b2a9-44f9-96f6-10502114682b",
   "metadata": {},
   "source": [
    "# Отчет\n",
    "\n",
    "В рамках работы над модулем Г были сделаны следующие действия:\n",
    "- Обучена новая модель и сделано предсказание по контрольной выборке\n",
    "- Создан API для предсказания по параметрам\n",
    "- Создан интерфейс для работы с API"
   ]
  }
 ],
 "metadata": {
  "kernelspec": {
   "display_name": "Python 3 (ipykernel)",
   "language": "python",
   "name": "python3"
  },
  "language_info": {
   "codemirror_mode": {
    "name": "ipython",
    "version": 3
   },
   "file_extension": ".py",
   "mimetype": "text/x-python",
   "name": "python",
   "nbconvert_exporter": "python",
   "pygments_lexer": "ipython3",
   "version": "3.12.7"
  }
 },
 "nbformat": 4,
 "nbformat_minor": 5
}
