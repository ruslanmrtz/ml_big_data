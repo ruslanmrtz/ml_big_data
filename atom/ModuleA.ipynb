{
 "cells": [
  {
   "cell_type": "markdown",
   "id": "bc987923-21c6-4e17-85d4-086741c59354",
   "metadata": {},
   "source": [
    "# A1. Загрузка данных"
   ]
  },
  {
   "cell_type": "markdown",
   "id": "629e7be7-9acf-417a-9a1d-ce79f622883d",
   "metadata": {},
   "source": [
    "### Загружены все исходные изображения.  Сформирован набор снимков, загружен в рабочую область"
   ]
  },
  {
   "cell_type": "markdown",
   "id": "e749cd85-fefd-41e7-b069-67564dc5809d",
   "metadata": {},
   "source": [
    "### \tНабор данных расширен за счет добавления похожих снимков с результатами контроля, найденных в сети Интернет."
   ]
  },
  {
   "cell_type": "markdown",
   "id": "df550c51-d86f-4a38-b15c-e7b186e4df07",
   "metadata": {},
   "source": [
    "### Для каждого типа дефектов найдено в сети интернет не менее 5 снимков"
   ]
  },
  {
   "cell_type": "markdown",
   "id": "18426e21-f89d-4a78-b0bf-ec5a6cb2e655",
   "metadata": {},
   "source": [
    "```PIL/cv2/albumentations```"
   ]
  },
  {
   "cell_type": "markdown",
   "id": "6e74cd5e-924a-4344-9659-b2315a7eda6a",
   "metadata": {},
   "source": [
    " "
   ]
  },
  {
   "cell_type": "markdown",
   "id": "4583c71f-e981-4e96-b0be-32eab27bb983",
   "metadata": {},
   "source": [
    "### Загружены файлы, содержащие акустические данные, полученные с образцов с дефектами и без."
   ]
  },
  {
   "cell_type": "markdown",
   "id": "01ce80bf-2cdb-4587-aca9-9d399b8b20c1",
   "metadata": {},
   "source": [
    "```librosa```"
   ]
  },
  {
   "cell_type": "markdown",
   "id": "c85d1951-8496-4782-b5dc-c66f33fbbf7c",
   "metadata": {},
   "source": [
    " "
   ]
  },
  {
   "cell_type": "markdown",
   "id": "aa54d107-b8ab-466c-b4e6-c1e55e6d7204",
   "metadata": {},
   "source": [
    "# A2. Предобработка данных"
   ]
  },
  {
   "cell_type": "markdown",
   "id": "7e87462b-cc7d-4aa8-a498-50c94671ed7f",
   "metadata": {},
   "source": [
    "### Выполнена разметка неразмеченных данных по типу дефекта"
   ]
  },
  {
   "cell_type": "markdown",
   "id": "40479292-41a8-4f6f-8c53-4420e3e1ab0b",
   "metadata": {},
   "source": [
    "### Сформирована целевая переменная (ЦП) с разметкой по всем изображениям."
   ]
  },
  {
   "cell_type": "markdown",
   "id": "2ecaede6-a735-435f-8a67-a2c0d6eeb849",
   "metadata": {},
   "source": [
    "### \tЦелевая переменная содержит информацию по типам дефектов для каждого изображения"
   ]
  },
  {
   "cell_type": "markdown",
   "id": "28c7edae-1864-4613-b862-ac2ad57bc855",
   "metadata": {},
   "source": [
    "### Целевая переменная содержит информацию – координаты дефекта (в пикселях, bounding box) для каждого изображения"
   ]
  },
  {
   "cell_type": "markdown",
   "id": "53e4be15-0235-42a6-89a6-53834fdf8aa7",
   "metadata": {},
   "source": [
    "В контексте обнаружения объектов **«bounding box»** чаще всего представляет собой прямоугольник или параллелепипед, который служит для ограничения контуров более сложных фигур, таких как машины или силуэты людей и тп. Эти прямоугольные рамки действуют как объемлющие рамки вокруг модели. В качестве грубой приближенной модели сложных форм, такой «контейнер» используется для быстрого и удобного определения положения объекта в пространстве."
   ]
  },
  {
   "cell_type": "markdown",
   "id": "5c74d700-3f32-4303-a158-375b7d60daf6",
   "metadata": {},
   "source": [
    "```Вручную, в итоге 2 целевые переменные: для классификации и регрессии.```"
   ]
  },
  {
   "cell_type": "markdown",
   "id": "068991e4-8743-43de-ad84-1bb8638ed012",
   "metadata": {},
   "source": [
    "### Сформирован и сохранен итоговый набор снимков с целевой переменной (в формате архива .zip)"
   ]
  },
  {
   "cell_type": "markdown",
   "id": "8f513239-6359-41ca-aa2d-b1290b98d66d",
   "metadata": {},
   "source": [
    "<code>zip myfile.zip Folder <code>"
   ]
  },
  {
   "cell_type": "markdown",
   "id": "ebfdab6a-7ef9-47f5-8b4f-6657f3fbb221",
   "metadata": {},
   "source": [
    "# A3. Подготовка предварительной версии технического задания (ТЗ)"
   ]
  },
  {
   "cell_type": "markdown",
   "id": "4be5d50e-4b76-48b2-9657-6e1e67225b16",
   "metadata": {},
   "source": [
    "Тема ТЗ: *Обнаружение дефектов по типам на фотографии, предсказание координат дефекта. Распознование дефекта по акустическим данным.*"
   ]
  },
  {
   "cell_type": "markdown",
   "id": "ddb92ddd-146f-4b01-9ddf-da51490f55f7",
   "metadata": {},
   "source": [
    "### ПВ ТЗ оформлено, согласно п. 5 ГОСТ 34.602— 2020."
   ]
  },
  {
   "cell_type": "markdown",
   "id": "98f97d8b-2278-45bc-bf34-b07975114537",
   "metadata": {},
   "source": [
    "https://habr.com/ru/articles/769648/"
   ]
  },
  {
   "cell_type": "markdown",
   "id": "94ca7c8c-70df-4a5e-a298-9e57d44699ef",
   "metadata": {},
   "source": [
    "https://disk.yandex.ru/i/ehuIPoqZ_0F6aw"
   ]
  }
 ],
 "metadata": {
  "kernelspec": {
   "display_name": "Python 3 (ipykernel)",
   "language": "python",
   "name": "python3"
  },
  "language_info": {
   "codemirror_mode": {
    "name": "ipython",
    "version": 3
   },
   "file_extension": ".py",
   "mimetype": "text/x-python",
   "name": "python",
   "nbconvert_exporter": "python",
   "pygments_lexer": "ipython3",
   "version": "3.12.7"
  }
 },
 "nbformat": 4,
 "nbformat_minor": 5
}
