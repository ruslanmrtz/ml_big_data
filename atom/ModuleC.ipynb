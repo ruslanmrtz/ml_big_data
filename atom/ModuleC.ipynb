{
 "cells": [
  {
   "cell_type": "markdown",
   "id": "b86ce773-5b6c-4b09-ace0-88ccdf9d0cd3",
   "metadata": {},
   "source": [
    "# \tC1. Выбор переменных для построения модели (обработка изображений)"
   ]
  },
  {
   "cell_type": "markdown",
   "id": "55aabdaa-0d31-4c88-9f74-ab7b9ffd123b",
   "metadata": {},
   "source": [
    "### Сформирована целевая переменная для обучения и оценки точности модели(ей)\n",
    "- Целевая переменная содержит информацию по типам дефектов для каждого изображения\n",
    "- Целевая переменная содержит информацию – координаты дефекта (в пикселях, bounding box) для каждого изображения"
   ]
  },
  {
   "cell_type": "code",
   "execution_count": null,
   "id": "fbc5beac-3297-4192-8d69-9d1d615ef3a5",
   "metadata": {},
   "outputs": [],
   "source": [
    "import cv2\n",
    "import numpy as np\n",
    "import pandas as pd\n",
    "from catboost import CatBoostRegressor\n",
    "from sklearn.model_selection import train_test_split\n",
    "\n",
    "# Загружаем размеченные данные (CSV с координатами bounding box)\n",
    "df = pd.read_csv('bounding_box_data.csv')\n",
    "\n",
    "# Разделяем данные на признаки (X) и метки (y - координаты bounding box)\n",
    "X = df.drop(columns=['x_min', 'y_min', 'x_max', 'y_max'])  # Признаки изображения\n",
    "y = df[['x_min', 'y_min', 'x_max', 'y_max']]  # Координаты рамки\n",
    "\n",
    "# Разделяем данные на обучающую и тестовую выборки\n",
    "X_train, X_test, y_train, y_test = train_test_split(X, y, test_size=0.2, random_state=42)\n",
    "\n",
    "# Обучаем модель CatBoost для предсказания координат рамки\n",
    "model = CatBoostRegressor(iterations=500, depth=6, learning_rate=0.1, loss_function='RMSE', verbose=False)\n",
    "model.fit(X_train, y_train)\n",
    "\n",
    "# Функция для обработки изображения и предсказания bounding box\n",
    "def detect_bounding_box(image_path):\n",
    "    image = cv2.imread(image_path)  # Загружаем изображение\n",
    "    features = extract_features(image)  # Извлекаем признаки (замени на свою функцию)\n",
    "    predicted_box = model.predict([features])  # Предсказываем координаты рамки\n",
    "    \n",
    "    # Рисуем bounding box на изображении\n",
    "    x_min, y_min, x_max, y_max = map(int, predicted_box[0])\n",
    "    cv2.rectangle(image, (x_min, y_min), (x_max, y_max), (0, 255, 0), 2)\n",
    "    \n",
    "    # Сохраняем и показываем результат\n",
    "    cv2.imwrite('output.jpg', image)\n",
    "    cv2.imshow(\"Detected Object\", image)\n",
    "    cv2.waitKey(0)\n",
    "    cv2.destroyAllWindows()\n",
    "\n",
    "# Вызов функции для нового изображения\n",
    "detect_bounding_box('new_image.jpg')"
   ]
  },
  {
   "cell_type": "markdown",
   "id": "832b3e1d-7381-4bbd-bd2e-d76f7896dce7",
   "metadata": {},
   "source": [
    "### \tСформирована выборка для обучения модели\n",
    "- \tВыбран метод для разбиения данных на обучающую, валидационную и тестовую выборки\n",
    "- Подготовлены выборки для обучения, валидации, тестирования\n",
    "- Выбор пропорций разбиения аргументирова"
   ]
  },
  {
   "cell_type": "markdown",
   "id": "93300928-1ff1-4d6c-96e7-561e3a125513",
   "metadata": {},
   "source": [
    "Rлассический подход — 70% на обучение, 15% на валидацию и 15% на тест. Такой баланс обеспечивает достаточный объём данных для обучения модели, предотвращает переобучение (через настройку гиперпараметров на валидационной выборке) и позволяет объективно оценить её качество на тестовой выборке."
   ]
  },
  {
   "cell_type": "markdown",
   "id": "21c8bf15-b99b-4cb8-8dda-1a1aacf97d40",
   "metadata": {},
   "source": [
    "# C2. Выбор функции потерь"
   ]
  },
  {
   "cell_type": "markdown",
   "id": "611fc4d8-6d6e-4f40-8236-07a7be398a89",
   "metadata": {},
   "source": [
    "### Выбрана функция потерь для модели. Аргументация."
   ]
  },
  {
   "cell_type": "markdown",
   "id": "ca91a1ef-d3af-44a8-aa57-a5edee7a705f",
   "metadata": {},
   "source": [
    "В коде выбрана MSE  (Mean Squared Error) как функция потерь, поскольку она наиболее подходит для задачи предсказания координат bounding box. penalизирует большие ошибки сильнее, чем MAE (Mean Absolute Error), что важно для точного определения границ объектов. Также MSE обеспечивает более гладкую оптимизацию в градиентных методах, таких как CatBoost, помогая модели быстрее сходиться к оптимальному решению."
   ]
  },
  {
   "cell_type": "markdown",
   "id": "a7c04be0-152e-48f6-b55a-8b00336fa7be",
   "metadata": {},
   "source": [
    "Для задач предсказания класса дефекта будем использовать Log Loss в классических моделях машинного обучения (например, логистическая регрессия или градиентный бустинг), так как эта функция потерь эффективно минимизирует разницу между предсказанными вероятностями и реальными метками классов. В нейронных сетях для многоклассовых задач будем использовать CrossEntropyLoss, которая помогает модели точно оценивать вероятности классов дефектов, минимизируя ошибку между предсказаниями и истинными метками."
   ]
  },
  {
   "cell_type": "markdown",
   "id": "693da65c-f838-4967-970f-2bbd0b858a69",
   "metadata": {},
   "source": [
    "# \tC3. Обучение модели(ей), выбор и настройка параметров модели(ей) обработки изображений"
   ]
  },
  {
   "cell_type": "markdown",
   "id": "fb92f28d-d327-435a-96e4-654fecd2d5e6",
   "metadata": {},
   "source": [
    "### Предложено и рассмотрено не менее 3-х алгоритмов\n",
    "- Как минимум, один из трех рассмотренных алгоритмов - нейронная сеть\n",
    "- По выбранным метрикам определен лучший алгоритм (из сравнения точности).\n",
    "- После подбора гиперпараметров точность модели была увеличена\n",
    "- Подбор гиперпараметров обоснован\n",
    "- Произведена финальная оценка точности разработанной модели на тестовой выборке"
   ]
  },
  {
   "cell_type": "markdown",
   "id": "a47f7e8a-05e9-4398-ad6b-867b7cbf0802",
   "metadata": {},
   "source": [
    "### Для оценки качества модели(ей) использованы следующие метрики относительно каждого типа дефекта, включая случаи без дефекта: PRECISION, RECALL, F1."
   ]
  },
  {
   "cell_type": "code",
   "execution_count": 3,
   "id": "9e91d1d9-d630-4815-a9e0-94325c56de7f",
   "metadata": {},
   "outputs": [
    {
     "name": "stdout",
     "output_type": "stream",
     "text": [
      "Metrics for Defect A:\n",
      "  Precision: 1.00\n",
      "  Recall: 0.50\n",
      "  F1-Score: 0.67\n",
      "\n",
      "Metrics for Defect B:\n",
      "  Precision: 1.00\n",
      "  Recall: 1.00\n",
      "  F1-Score: 1.00\n",
      "\n",
      "Metrics for Defect C:\n",
      "  Precision: 1.00\n",
      "  Recall: 1.00\n",
      "  F1-Score: 1.00\n",
      "\n",
      "Metrics for No Defect:\n",
      "  Precision: 0.50\n",
      "  Recall: 1.00\n",
      "  F1-Score: 0.67\n",
      "\n"
     ]
    }
   ],
   "source": [
    "from sklearn.metrics import precision_score, recall_score, f1_score\n",
    "\n",
    "# Пример истинных меток (y_true) и предсказанных меток (y_pred)\n",
    "y_true = ['Defect A', 'Defect B', 'Defect C', 'No Defect', 'Defect A', 'Defect C']\n",
    "y_pred = ['Defect A', 'Defect B', 'Defect C', 'No Defect', 'No Defect', 'Defect C']\n",
    "\n",
    "# Список всех классов\n",
    "classes = ['Defect A', 'Defect B', 'Defect C', 'No Defect']\n",
    "\n",
    "# Для каждого типа дефекта (класса) рассчитываем метрики\n",
    "for cls in classes:\n",
    "    precision = precision_score(y_true, y_pred, labels=[cls], average='micro')\n",
    "    recall = recall_score(y_true, y_pred, labels=[cls], average='micro')\n",
    "    f1 = f1_score(y_true, y_pred, labels=[cls], average='micro')\n",
    "    \n",
    "    print(f\"Metrics for {cls}:\")\n",
    "    print(f\"  Precision: {precision:.2f}\")\n",
    "    print(f\"  Recall: {recall:.2f}\")\n",
    "    print(f\"  F1-Score: {f1:.2f}\")\n",
    "    print()"
   ]
  },
  {
   "cell_type": "markdown",
   "id": "0a48b55d-3617-442d-929e-1839536ee15d",
   "metadata": {},
   "source": [
    "### \tДля оценки качества модели(ей) относительно координат дефекта использована метрика IoU"
   ]
  },
  {
   "cell_type": "code",
   "execution_count": 4,
   "id": "536fa2d2-da83-4663-a20e-97eb5a990f48",
   "metadata": {},
   "outputs": [
    {
     "name": "stdout",
     "output_type": "stream",
     "text": [
      "IoU: 0.29\n"
     ]
    }
   ],
   "source": [
    "def calculate_iou(box1, box2):\n",
    "    # box1 и box2 - это координаты прямоугольников (x1, y1, x2, y2)\n",
    "    # где (x1, y1) - это верхний левый угол, а (x2, y2) - нижний правый угол\n",
    "\n",
    "    # Находим координаты пересечения прямоугольников\n",
    "    xi1 = max(box1[0], box2[0])  # Левый верхний угол пересечения\n",
    "    yi1 = max(box1[1], box2[1])  # Левый верхний угол пересечения\n",
    "    xi2 = min(box1[2], box2[2])  # Правый нижний угол пересечения\n",
    "    yi2 = min(box1[3], box2[3])  # Правый нижний угол пересечения\n",
    "    \n",
    "    # Если прямоугольники не пересекаются, возвращаем IoU = 0\n",
    "    inter_width = max(0, xi2 - xi1)\n",
    "    inter_height = max(0, yi2 - yi1)\n",
    "    intersection_area = inter_width * inter_height\n",
    "    \n",
    "    # Площадь каждого прямоугольника\n",
    "    area_box1 = (box1[2] - box1[0]) * (box1[3] - box1[1])\n",
    "    area_box2 = (box2[2] - box2[0]) * (box2[3] - box2[1])\n",
    "    \n",
    "    # Площадь объединения прямоугольников\n",
    "    union_area = area_box1 + area_box2 - intersection_area\n",
    "    \n",
    "    # Вычисляем IoU\n",
    "    iou = intersection_area / union_area\n",
    "    return iou\n",
    "\n",
    "# Пример использования\n",
    "box1 = (50, 50, 200, 200)  # Прямоугольник 1 (x1, y1, x2, y2)\n",
    "box2 = (100, 100, 250, 250)  # Прямоугольник 2 (x1, y1, x2, y2)\n",
    "\n",
    "iou = calculate_iou(box1, box2)\n",
    "print(f\"IoU: {iou:.2f}\")"
   ]
  },
  {
   "cell_type": "markdown",
   "id": "0ace335f-7b16-4c83-9da7-e110848b50af",
   "metadata": {},
   "source": [
    "### \tЗначения полученных метрик проинтерпретированы с точки зрения точности модели."
   ]
  },
  {
   "cell_type": "markdown",
   "id": "527d8e8e-6939-4465-a5fc-63242c32ee43",
   "metadata": {},
   "source": [
    "### Построена матрица ошибок"
   ]
  },
  {
   "cell_type": "code",
   "execution_count": 5,
   "id": "932a8d89-9da4-4c7e-90b3-1fd83bfe5248",
   "metadata": {},
   "outputs": [
    {
     "data": {
      "text/plain": [
       "array([[[3, 1],\n",
       "        [0, 2]],\n",
       "\n",
       "       [[5, 0],\n",
       "        [1, 0]],\n",
       "\n",
       "       [[2, 1],\n",
       "        [1, 2]]])"
      ]
     },
     "execution_count": 5,
     "metadata": {},
     "output_type": "execute_result"
    }
   ],
   "source": [
    "from sklearn.metrics import multilabel_confusion_matrix\n",
    "\n",
    "y_true = [\"cat\", \"ant\", \"cat\", \"cat\", \"ant\", \"bird\"]\n",
    "y_pred = [\"ant\", \"ant\", \"cat\", \"cat\", \"ant\", \"cat\"]\n",
    "multilabel_confusion_matrix(y_true, y_pred,\n",
    "                            labels=[\"ant\", \"bird\", \"cat\"])"
   ]
  },
  {
   "cell_type": "markdown",
   "id": "c464871c-9e20-4c66-b09b-d6b8422aa15b",
   "metadata": {},
   "source": [
    "### \tРазработан и реализован алгоритм вывода уверенности модели (вероятность правильности определения типа дефекта)."
   ]
  },
  {
   "cell_type": "markdown",
   "id": "71cd7a41-9213-4374-ba26-d96a8de49c81",
   "metadata": {},
   "source": [
    "```predict_proba```"
   ]
  },
  {
   "cell_type": "markdown",
   "id": "3e843555-9fd3-42a0-aa8a-efe355a800cb",
   "metadata": {},
   "source": [
    "# C4. Подготовка выборок для обучения модели обработки акустических данных"
   ]
  },
  {
   "cell_type": "markdown",
   "id": "b083d8d9-4e67-42ec-96c9-fd7b552a22ed",
   "metadata": {},
   "source": [
    "# C5. Модель обнаружения дефектов на акустических данных"
   ]
  },
  {
   "cell_type": "markdown",
   "id": "fd736851-faaa-48a2-a0b2-ba23ea5b67f2",
   "metadata": {},
   "source": [
    "```Аналогично```"
   ]
  }
 ],
 "metadata": {
  "kernelspec": {
   "display_name": "Python 3 (ipykernel)",
   "language": "python",
   "name": "python3"
  },
  "language_info": {
   "codemirror_mode": {
    "name": "ipython",
    "version": 3
   },
   "file_extension": ".py",
   "mimetype": "text/x-python",
   "name": "python",
   "nbconvert_exporter": "python",
   "pygments_lexer": "ipython3",
   "version": "3.11.8"
  }
 },
 "nbformat": 4,
 "nbformat_minor": 5
}
