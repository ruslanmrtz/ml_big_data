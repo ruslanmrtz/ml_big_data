{
  "nbformat": 4,
  "nbformat_minor": 0,
  "metadata": {
    "colab": {
      "provenance": []
    },
    "kernelspec": {
      "name": "python3",
      "display_name": "Python 3"
    },
    "language_info": {
      "name": "python"
    }
  },
  "cells": [
    {
      "cell_type": "markdown",
      "source": [
        "# Module D\n",
        "\n",
        "**Определение достоверности на основе уверенности модели**"
      ],
      "metadata": {
        "id": "Zb4JFdRFnHv8"
      }
    },
    {
      "cell_type": "markdown",
      "source": [
        "# Module E\n",
        "\n",
        "### Отбраковка аудио"
      ],
      "metadata": {
        "id": "j7Ck96HvnLHs"
      }
    },
    {
      "cell_type": "code",
      "source": [
        "import librosa\n",
        "import numpy as np\n",
        "\n",
        "def detect_bad_audio_mfcc(audio_path, threshold_mfcc_range=50):\n",
        "    try:\n",
        "        # Загрузка аудиофайла с использованием librosa.\n",
        "        y, sr = librosa.load(audio_path)\n",
        "    except Exception as e:\n",
        "        # Если не удалось загрузить файл, возвращаем сообщение об ошибке.\n",
        "        return f\"ERROR: Не удалось загрузить аудиофайл: {e}\"\n",
        "\n",
        "    # Вычисление MFCC (Mel-Frequency Cepstral Coefficients) для аудиосигнала.\n",
        "    mfccs = librosa.feature.mfcc(y=y, sr=sr, n_mfcc=13)\n",
        "\n",
        "    # Вычисление дельт (первых производных) MFCC, отражающих изменения MFCC во времени.\n",
        "    mfccs_delta = librosa.feature.delta(mfccs)\n",
        "\n",
        "    # Вычисление разницы между максимальным и минимальным значениями дельт MFCC.\n",
        "    # Это дает представление о динамическом диапазоне изменений спектральных характеристик звука.\n",
        "    mfcc_range = np.max(mfccs_delta) - np.min(mfccs_delta)\n",
        "\n",
        "    # Проверка, превышает ли разница MFCC заданный порог.\n",
        "    if mfcc_range > threshold_mfcc_range:\n",
        "        # Если разница превышает порог, аудио считается некачественным.\n",
        "        return \"REJECTED: Большие колебания MFCC дельт - возможно, шум или нестабильный звук.\"\n",
        "    else:\n",
        "        # Если разница не превышает порог, аудио считается соответствующим критериям.\n",
        "        return \"GOOD: Качество аудио соответствует критериям (MFCC).\"\n",
        "\n",
        "# Пример использования:\n",
        "audio_file = \"path/to/your/audio.wav\"  # Замените на путь к вашему аудиофайлу\n",
        "result = detect_bad_audio_mfcc(audio_file)\n",
        "print(result)"
      ],
      "metadata": {
        "id": "HPPjUpJYnHcs"
      },
      "execution_count": null,
      "outputs": []
    }
  ]
}