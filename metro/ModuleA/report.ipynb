{
 "cells": [
  {
   "cell_type": "markdown",
   "id": "44428fce-5b6b-43cc-81c7-d32a69d5e92f",
   "metadata": {},
   "source": [
    "# Импорт библиотек\n"
   ]
  },
  {
   "cell_type": "code",
   "execution_count": 1,
   "id": "b0febfa2-f410-446a-8aa8-2b59f9f30fb1",
   "metadata": {},
   "outputs": [],
   "source": [
    "import pandas as pd\n",
    "\n",
    "from scipy.stats import shapiro\n",
    "\n",
    "from sklearn.preprocessing import StandardScaler\n",
    "from sklearn.cluster import KMeans\n",
    "from sklearn.impute import SimpleImputer\n",
    "from sklearn.pipeline import Pipeline\n",
    "\n",
    "import phik\n",
    "\n",
    "import seaborn as sns\n",
    "import matplotlib.pyplot as plt\n",
    "\n",
    "import sqlite3"
   ]
  },
  {
   "cell_type": "markdown",
   "id": "db7c0b91-9cf3-4026-9f91-ef5adb1a9295",
   "metadata": {},
   "source": [
    "# 1.1 Загрузка данных"
   ]
  },
  {
   "cell_type": "markdown",
   "id": "c51a2f1b-cafb-4450-a807-0a1e56b55787",
   "metadata": {},
   "source": [
    "Загрузим данные из предоставленных ресурсов."
   ]
  },
  {
   "cell_type": "code",
   "execution_count": 2,
   "id": "4065deab-f7ba-4223-a30b-88f2eecb29b5",
   "metadata": {},
   "outputs": [],
   "source": [
    "trips = pd.read_csv('../data/Dataset_с_данными_о_пассажирских_потоках_за_выделенный_период_по.csv', encoding='cp1251', delimiter=';')\n",
    "stations = pd.read_excel('../data/Dataset_с_параметрами_пропускной_способности_станций.xls')"
   ]
  },
  {
   "cell_type": "markdown",
   "id": "554f8d5f-9ab5-46ea-b0f1-bd297a876783",
   "metadata": {},
   "source": [
    "Дополним данные информацией об станциях из источника (https://www.kaggle.com/datasets/samoilovmikhail/moscow-metro-stations?resource=download) "
   ]
  },
  {
   "cell_type": "code",
   "execution_count": 3,
   "id": "80f2ea58-b5f9-4775-9660-7f1bdb483d10",
   "metadata": {},
   "outputs": [
    {
     "data": {
      "text/html": [
       "<div>\n",
       "<style scoped>\n",
       "    .dataframe tbody tr th:only-of-type {\n",
       "        vertical-align: middle;\n",
       "    }\n",
       "\n",
       "    .dataframe tbody tr th {\n",
       "        vertical-align: top;\n",
       "    }\n",
       "\n",
       "    .dataframe thead th {\n",
       "        text-align: right;\n",
       "    }\n",
       "</style>\n",
       "<table border=\"1\" class=\"dataframe\">\n",
       "  <thead>\n",
       "    <tr style=\"text-align: right;\">\n",
       "      <th></th>\n",
       "      <th>Station_index</th>\n",
       "      <th>English_name</th>\n",
       "      <th>Line</th>\n",
       "      <th>Russian_name</th>\n",
       "      <th>Depth</th>\n",
       "      <th>Line_Neighbors</th>\n",
       "      <th>Transfers</th>\n",
       "      <th>Opened_Date</th>\n",
       "      <th>Lat</th>\n",
       "      <th>Lon</th>\n",
       "      <th>Station_Type</th>\n",
       "    </tr>\n",
       "  </thead>\n",
       "  <tbody>\n",
       "    <tr>\n",
       "      <th>0</th>\n",
       "      <td>1</td>\n",
       "      <td>Bulvar Rokossovskogo</td>\n",
       "      <td>1</td>\n",
       "      <td>Бульвар Рокоссовского</td>\n",
       "      <td>-8.0</td>\n",
       "      <td>2</td>\n",
       "      <td>266</td>\n",
       "      <td>1990-08-01</td>\n",
       "      <td>55.8147</td>\n",
       "      <td>37.7342</td>\n",
       "      <td>column triple-span</td>\n",
       "    </tr>\n",
       "    <tr>\n",
       "      <th>1</th>\n",
       "      <td>2</td>\n",
       "      <td>Cherkizovskaya</td>\n",
       "      <td>1</td>\n",
       "      <td>Черкизовская</td>\n",
       "      <td>-9.0</td>\n",
       "      <td>1 3</td>\n",
       "      <td>267</td>\n",
       "      <td>1990-08-01</td>\n",
       "      <td>55.8039</td>\n",
       "      <td>37.7447</td>\n",
       "      <td>single-vault shallow</td>\n",
       "    </tr>\n",
       "    <tr>\n",
       "      <th>2</th>\n",
       "      <td>3</td>\n",
       "      <td>Preobrazhenskaya Ploshchad</td>\n",
       "      <td>1</td>\n",
       "      <td>Преображенская площадь</td>\n",
       "      <td>-8.0</td>\n",
       "      <td>2 4</td>\n",
       "      <td>NaN</td>\n",
       "      <td>1965-12-31</td>\n",
       "      <td>55.7964</td>\n",
       "      <td>37.7150</td>\n",
       "      <td>column triple-span</td>\n",
       "    </tr>\n",
       "    <tr>\n",
       "      <th>3</th>\n",
       "      <td>4</td>\n",
       "      <td>Sokolniki</td>\n",
       "      <td>1</td>\n",
       "      <td>Сокольники</td>\n",
       "      <td>-9.0</td>\n",
       "      <td>3 5</td>\n",
       "      <td>221</td>\n",
       "      <td>1935-05-15</td>\n",
       "      <td>55.7889</td>\n",
       "      <td>37.6803</td>\n",
       "      <td>single-vault shallow</td>\n",
       "    </tr>\n",
       "    <tr>\n",
       "      <th>4</th>\n",
       "      <td>5</td>\n",
       "      <td>Krasnoselskaya</td>\n",
       "      <td>1</td>\n",
       "      <td>Красносельская</td>\n",
       "      <td>-8.0</td>\n",
       "      <td>4 6</td>\n",
       "      <td>NaN</td>\n",
       "      <td>1935-05-15</td>\n",
       "      <td>55.7799</td>\n",
       "      <td>37.6673</td>\n",
       "      <td>column double-span</td>\n",
       "    </tr>\n",
       "  </tbody>\n",
       "</table>\n",
       "</div>"
      ],
      "text/plain": [
       "   Station_index                English_name  Line            Russian_name  \\\n",
       "0              1        Bulvar Rokossovskogo     1   Бульвар Рокоссовского   \n",
       "1              2              Cherkizovskaya     1            Черкизовская   \n",
       "2              3  Preobrazhenskaya Ploshchad     1  Преображенская площадь   \n",
       "3              4                   Sokolniki     1              Сокольники   \n",
       "4              5              Krasnoselskaya     1          Красносельская   \n",
       "\n",
       "   Depth Line_Neighbors Transfers Opened_Date      Lat      Lon  \\\n",
       "0   -8.0              2       266  1990-08-01  55.8147  37.7342   \n",
       "1   -9.0            1 3       267  1990-08-01  55.8039  37.7447   \n",
       "2   -8.0            2 4       NaN  1965-12-31  55.7964  37.7150   \n",
       "3   -9.0            3 5       221  1935-05-15  55.7889  37.6803   \n",
       "4   -8.0            4 6       NaN  1935-05-15  55.7799  37.6673   \n",
       "\n",
       "           Station_Type  \n",
       "0    column triple-span  \n",
       "1  single-vault shallow  \n",
       "2    column triple-span  \n",
       "3  single-vault shallow  \n",
       "4    column double-span  "
      ]
     },
     "execution_count": 3,
     "metadata": {},
     "output_type": "execute_result"
    }
   ],
   "source": [
    "metro_stations_extra = pd.read_csv('../data/metro_stations.csv')\n",
    "metro_stations_extra.head()"
   ]
  },
  {
   "cell_type": "markdown",
   "id": "6c83ae99-e84b-4ca1-9591-af27f815509c",
   "metadata": {},
   "source": [
    "Объединяем наборы данных"
   ]
  },
  {
   "cell_type": "code",
   "execution_count": 4,
   "id": "423853bd-3ef1-42b4-9a3c-a284d120d8eb",
   "metadata": {},
   "outputs": [
    {
     "data": {
      "text/html": [
       "<div>\n",
       "<style scoped>\n",
       "    .dataframe tbody tr th:only-of-type {\n",
       "        vertical-align: middle;\n",
       "    }\n",
       "\n",
       "    .dataframe tbody tr th {\n",
       "        vertical-align: top;\n",
       "    }\n",
       "\n",
       "    .dataframe thead th {\n",
       "        text-align: right;\n",
       "    }\n",
       "</style>\n",
       "<table border=\"1\" class=\"dataframe\">\n",
       "  <thead>\n",
       "    <tr style=\"text-align: right;\">\n",
       "      <th></th>\n",
       "      <th>date</th>\n",
       "      <th>hour</th>\n",
       "      <th>line</th>\n",
       "      <th>station</th>\n",
       "      <th>num_val</th>\n",
       "      <th>line_id</th>\n",
       "      <th>line_name</th>\n",
       "      <th>station_id</th>\n",
       "      <th>station_name</th>\n",
       "      <th>entry_id</th>\n",
       "      <th>...</th>\n",
       "      <th>Station_index</th>\n",
       "      <th>English_name</th>\n",
       "      <th>Russian_name</th>\n",
       "      <th>Depth</th>\n",
       "      <th>Line_Neighbors</th>\n",
       "      <th>Transfers</th>\n",
       "      <th>Opened_Date</th>\n",
       "      <th>Lat</th>\n",
       "      <th>Lon</th>\n",
       "      <th>Station_Type</th>\n",
       "    </tr>\n",
       "  </thead>\n",
       "  <tbody>\n",
       "    <tr>\n",
       "      <th>0</th>\n",
       "      <td>2023-01-01</td>\n",
       "      <td>0.0</td>\n",
       "      <td>КАЛИНИНСКАЯ</td>\n",
       "      <td>Авиамотор-я КалЛ</td>\n",
       "      <td>127.0</td>\n",
       "      <td>14.0</td>\n",
       "      <td>КАЛИНИНСКАЯ</td>\n",
       "      <td>224.0</td>\n",
       "      <td>Авиамотор-я КалЛ</td>\n",
       "      <td>5.0</td>\n",
       "      <td>...</td>\n",
       "      <td>NaN</td>\n",
       "      <td>NaN</td>\n",
       "      <td>NaN</td>\n",
       "      <td>NaN</td>\n",
       "      <td>NaN</td>\n",
       "      <td>NaN</td>\n",
       "      <td>NaN</td>\n",
       "      <td>NaN</td>\n",
       "      <td>NaN</td>\n",
       "      <td>NaN</td>\n",
       "    </tr>\n",
       "    <tr>\n",
       "      <th>1</th>\n",
       "      <td>2023-01-01</td>\n",
       "      <td>1.0</td>\n",
       "      <td>КАЛИНИНСКАЯ</td>\n",
       "      <td>Авиамотор-я КалЛ</td>\n",
       "      <td>5.0</td>\n",
       "      <td>14.0</td>\n",
       "      <td>КАЛИНИНСКАЯ</td>\n",
       "      <td>224.0</td>\n",
       "      <td>Авиамотор-я КалЛ</td>\n",
       "      <td>5.0</td>\n",
       "      <td>...</td>\n",
       "      <td>NaN</td>\n",
       "      <td>NaN</td>\n",
       "      <td>NaN</td>\n",
       "      <td>NaN</td>\n",
       "      <td>NaN</td>\n",
       "      <td>NaN</td>\n",
       "      <td>NaN</td>\n",
       "      <td>NaN</td>\n",
       "      <td>NaN</td>\n",
       "      <td>NaN</td>\n",
       "    </tr>\n",
       "    <tr>\n",
       "      <th>2</th>\n",
       "      <td>2023-01-01</td>\n",
       "      <td>5.0</td>\n",
       "      <td>КАЛИНИНСКАЯ</td>\n",
       "      <td>Авиамотор-я КалЛ</td>\n",
       "      <td>18.0</td>\n",
       "      <td>14.0</td>\n",
       "      <td>КАЛИНИНСКАЯ</td>\n",
       "      <td>224.0</td>\n",
       "      <td>Авиамотор-я КалЛ</td>\n",
       "      <td>5.0</td>\n",
       "      <td>...</td>\n",
       "      <td>NaN</td>\n",
       "      <td>NaN</td>\n",
       "      <td>NaN</td>\n",
       "      <td>NaN</td>\n",
       "      <td>NaN</td>\n",
       "      <td>NaN</td>\n",
       "      <td>NaN</td>\n",
       "      <td>NaN</td>\n",
       "      <td>NaN</td>\n",
       "      <td>NaN</td>\n",
       "    </tr>\n",
       "    <tr>\n",
       "      <th>3</th>\n",
       "      <td>2023-01-01</td>\n",
       "      <td>6.0</td>\n",
       "      <td>КАЛИНИНСКАЯ</td>\n",
       "      <td>Авиамотор-я КалЛ</td>\n",
       "      <td>160.0</td>\n",
       "      <td>14.0</td>\n",
       "      <td>КАЛИНИНСКАЯ</td>\n",
       "      <td>224.0</td>\n",
       "      <td>Авиамотор-я КалЛ</td>\n",
       "      <td>5.0</td>\n",
       "      <td>...</td>\n",
       "      <td>NaN</td>\n",
       "      <td>NaN</td>\n",
       "      <td>NaN</td>\n",
       "      <td>NaN</td>\n",
       "      <td>NaN</td>\n",
       "      <td>NaN</td>\n",
       "      <td>NaN</td>\n",
       "      <td>NaN</td>\n",
       "      <td>NaN</td>\n",
       "      <td>NaN</td>\n",
       "    </tr>\n",
       "    <tr>\n",
       "      <th>4</th>\n",
       "      <td>2023-01-01</td>\n",
       "      <td>7.0</td>\n",
       "      <td>КАЛИНИНСКАЯ</td>\n",
       "      <td>Авиамотор-я КалЛ</td>\n",
       "      <td>338.0</td>\n",
       "      <td>14.0</td>\n",
       "      <td>КАЛИНИНСКАЯ</td>\n",
       "      <td>224.0</td>\n",
       "      <td>Авиамотор-я КалЛ</td>\n",
       "      <td>5.0</td>\n",
       "      <td>...</td>\n",
       "      <td>NaN</td>\n",
       "      <td>NaN</td>\n",
       "      <td>NaN</td>\n",
       "      <td>NaN</td>\n",
       "      <td>NaN</td>\n",
       "      <td>NaN</td>\n",
       "      <td>NaN</td>\n",
       "      <td>NaN</td>\n",
       "      <td>NaN</td>\n",
       "      <td>NaN</td>\n",
       "    </tr>\n",
       "  </tbody>\n",
       "</table>\n",
       "<p>5 rows × 54 columns</p>\n",
       "</div>"
      ],
      "text/plain": [
       "         date  hour         line           station  num_val  line_id  \\\n",
       "0  2023-01-01   0.0  КАЛИНИНСКАЯ  Авиамотор-я КалЛ    127.0     14.0   \n",
       "1  2023-01-01   1.0  КАЛИНИНСКАЯ  Авиамотор-я КалЛ      5.0     14.0   \n",
       "2  2023-01-01   5.0  КАЛИНИНСКАЯ  Авиамотор-я КалЛ     18.0     14.0   \n",
       "3  2023-01-01   6.0  КАЛИНИНСКАЯ  Авиамотор-я КалЛ    160.0     14.0   \n",
       "4  2023-01-01   7.0  КАЛИНИНСКАЯ  Авиамотор-я КалЛ    338.0     14.0   \n",
       "\n",
       "     line_name  station_id      station_name  entry_id  ... Station_index  \\\n",
       "0  КАЛИНИНСКАЯ       224.0  Авиамотор-я КалЛ       5.0  ...           NaN   \n",
       "1  КАЛИНИНСКАЯ       224.0  Авиамотор-я КалЛ       5.0  ...           NaN   \n",
       "2  КАЛИНИНСКАЯ       224.0  Авиамотор-я КалЛ       5.0  ...           NaN   \n",
       "3  КАЛИНИНСКАЯ       224.0  Авиамотор-я КалЛ       5.0  ...           NaN   \n",
       "4  КАЛИНИНСКАЯ       224.0  Авиамотор-я КалЛ       5.0  ...           NaN   \n",
       "\n",
       "   English_name Russian_name Depth  Line_Neighbors  Transfers  Opened_Date  \\\n",
       "0           NaN          NaN   NaN             NaN        NaN          NaN   \n",
       "1           NaN          NaN   NaN             NaN        NaN          NaN   \n",
       "2           NaN          NaN   NaN             NaN        NaN          NaN   \n",
       "3           NaN          NaN   NaN             NaN        NaN          NaN   \n",
       "4           NaN          NaN   NaN             NaN        NaN          NaN   \n",
       "\n",
       "   Lat  Lon Station_Type  \n",
       "0  NaN  NaN          NaN  \n",
       "1  NaN  NaN          NaN  \n",
       "2  NaN  NaN          NaN  \n",
       "3  NaN  NaN          NaN  \n",
       "4  NaN  NaN          NaN  \n",
       "\n",
       "[5 rows x 54 columns]"
      ]
     },
     "execution_count": 4,
     "metadata": {},
     "output_type": "execute_result"
    }
   ],
   "source": [
    "stations_total = stations.merge(metro_stations_extra, left_on='station_name', right_on='Russian_name', how='outer')\\\n",
    "   .dropna(subset=['line_name', 'station_name'])\n",
    "data = trips.merge(stations_total, left_on='station', right_on='station_name', how='outer')\\\n",
    "                                .drop_duplicates().drop('Line', axis=1)\n",
    "data.head()"
   ]
  },
  {
   "cell_type": "markdown",
   "id": "4fd86e89-c739-49cf-9e37-f8b890fc2008",
   "metadata": {},
   "source": [
    "Сохраняем данные в базу, попутно обрабатываем возможные ошибки."
   ]
  },
  {
   "cell_type": "code",
   "execution_count": 69,
   "id": "177bc1f6-d17b-47bb-b870-21a6c722cf67",
   "metadata": {},
   "outputs": [
    {
     "name": "stdout",
     "output_type": "stream",
     "text": [
      "Успешно!\n"
     ]
    }
   ],
   "source": [
    "try:\n",
    "    con = sqlite3.connect('../data/db.db')\n",
    "    data.to_sql('trips', con=con, index=False, if_exists='replace')\n",
    "except Exception as e:\n",
    "    print('Ошибка при добавлении данных в базу!')\n",
    "    print(e)\n",
    "else:\n",
    "    print('Успешно!')"
   ]
  },
  {
   "cell_type": "markdown",
   "id": "5ca63d6f-be0e-4cd4-8234-d6555514452a",
   "metadata": {},
   "source": [
    "# 1.2 Предобработка данных и выделение значимых атрибутов"
   ]
  },
  {
   "cell_type": "markdown",
   "id": "e6ee1fff-7d49-41de-a653-eaf655ab0980",
   "metadata": {},
   "source": [
    "Для представленного набора данных применим методы кластерного анализа для создания групп, схожих по характеристикам."
   ]
  },
  {
   "cell_type": "code",
   "execution_count": 5,
   "id": "ebbbad03-7896-4c42-94b8-ff4a98acac1f",
   "metadata": {},
   "outputs": [],
   "source": [
    "# Исключим колонки, где много пропусков\n",
    "data = data.iloc[:, ((data.isna().sum() / data.shape[0] * 100) <= 30).tolist()]"
   ]
  },
  {
   "cell_type": "code",
   "execution_count": 6,
   "id": "81445584-601e-4340-ba86-76825d99a221",
   "metadata": {},
   "outputs": [],
   "source": [
    "# Для кластеризации на этапе предобработки данных берем только численные признаки\n",
    "num_features = data.describe().columns"
   ]
  },
  {
   "cell_type": "code",
   "execution_count": 7,
   "id": "3dc99ab9-3eb8-45f8-908f-9f7855d157b3",
   "metadata": {},
   "outputs": [],
   "source": [
    "# Масштабируем данные и исключаем пропуски для корректности кластеризации\n",
    "preprocessor = Pipeline([\n",
    "    ('imputer', SimpleImputer(strategy='median')),\n",
    "    ('scaler', StandardScaler())\n",
    "]\n",
    ")\n",
    "preprocessor.fit(data[num_features])\n",
    "X = preprocessor.transform(data[num_features])\n",
    "# Для кластеризации используем метод KMeans\n",
    "kmeans = KMeans(n_clusters=3, random_state=1)\n",
    "cluster = kmeans.fit_predict(X)"
   ]
  },
  {
   "cell_type": "code",
   "execution_count": 8,
   "id": "b82ee0bb-27c6-46ea-b920-795e8f1e7929",
   "metadata": {},
   "outputs": [],
   "source": [
    "X = pd.DataFrame(X, columns=num_features)\n",
    "X['cluster'] = cluster"
   ]
  },
  {
   "cell_type": "markdown",
   "id": "ffb183be-9aa4-438c-ac2b-e057a9acfc1a",
   "metadata": {},
   "source": [
    "С помощью корреляции Пирсона определим наиболее значимые атрибуты, влияющие на образование кластера ('cluster')."
   ]
  },
  {
   "cell_type": "code",
   "execution_count": 9,
   "id": "051af370-0979-47f9-bd33-29af8c88b3ee",
   "metadata": {},
   "outputs": [
    {
     "name": "stdout",
     "output_type": "stream",
     "text": [
      "Знaчимые атрибуты:  ['output_escalator_count', 'output_doors_count', 'output_turnstile_count', 'hour', 'input_turnstile_total_bandwidth', 'input_turnstile_count', 'num_val', 'input_doors_count', 'entry_id']\n"
     ]
    },
    {
     "data": {
      "text/plain": [
       "<Axes: >"
      ]
     },
     "execution_count": 9,
     "metadata": {},
     "output_type": "execute_result"
    },
    {
     "data": {
      "image/png": "[encoded data removed]",
      "text/plain": [
       "<Figure size 640x480 with 2 Axes>"
      ]
     },
     "metadata": {},
     "output_type": "display_data"
    }
   ],
   "source": [
    "data_corr = X.corr()\n",
    "\n",
    "selected_columns = data_corr['cluster'].sort_values(ascending=False).iloc[2:11].index.tolist()\n",
    "print('Знaчимые атрибуты: ', selected_columns)\n",
    "sns.heatmap(data_corr)"
   ]
  },
  {
   "cell_type": "markdown",
   "id": "c88fcee2-24e6-4dff-b7fc-d2b376ad3a7f",
   "metadata": {},
   "source": [
    "Также добавим атрибуты даты и информации о станции."
   ]
  },
  {
   "cell_type": "code",
   "execution_count": 10,
   "id": "378149be-23be-4e5c-ab30-7dd7d5a7a3e3",
   "metadata": {},
   "outputs": [],
   "source": [
    "selected_columns += ['date', 'line', 'station']"
   ]
  },
  {
   "cell_type": "markdown",
   "id": "a81ccb7e-9e6c-4f74-a2a6-3cc231d8de81",
   "metadata": {},
   "source": [
    "# 1.3 Описание структуры набора данных"
   ]
  },
  {
   "cell_type": "markdown",
   "id": "0a4728fe-6d3c-4ced-b64c-54dba7441ef0",
   "metadata": {},
   "source": [
    "Подготовим текстовую расшифровку атрибутов, для анализа плотности распределения используем kde график, а для анализа нормальности распределения используем тест Шапиро-Уилка. Эти методы широко используются для анализа данных, поэтому я их и использую."
   ]
  },
  {
   "cell_type": "code",
   "execution_count": 11,
   "id": "68cc6ae1-999c-4755-ab07-9ab6bc77a1e8",
   "metadata": {},
   "outputs": [],
   "source": [
    "col_desc = {\n",
    "    'output_escalator_count': 'Количество эскалаторов на выход',\n",
    "    'date': 'Дата',\n",
    "    'line': 'Ветка',\n",
    "    'station': 'Станция',\n",
    "    'output_doors_count': 'Количество дверей на выход',\n",
    "    'output_turnstile_count': 'Количество турникетов на выход',\n",
    "    'hour': 'Час',\n",
    "    'input_turnstile_total_bandwidth': 'Входная пропускная способность турникета',\n",
    "    'input_turnstile_count': 'Входное количество турникетов',\n",
    "    'num_val': 'Загруженность станции',\n",
    "    'input_doors_count': 'Количество дверей на вход',\n",
    "    'entry_id': 'ID входа',\n",
    "}"
   ]
  },
  {
   "cell_type": "code",
   "execution_count": 12,
   "id": "8fae3bfb-990c-4f51-92c0-a832f53de2e3",
   "metadata": {
    "scrolled": true
   },
   "outputs": [
    {
     "name": "stdout",
     "output_type": "stream",
     "text": [
      "output_escalator_count - Количество эскалаторов на выход\n",
      "Пустых значений: 815102\n"
     ]
    },
    {
     "ename": "KeyboardInterrupt",
     "evalue": "",
     "output_type": "error",
     "traceback": [
      "\u001b[0;31m---------------------------------------------------------------------------\u001b[0m",
      "\u001b[0;31mKeyboardInterrupt\u001b[0m                         Traceback (most recent call last)",
      "Cell \u001b[0;32mIn[12], line 9\u001b[0m\n\u001b[1;32m      5\u001b[0m \u001b[38;5;28mprint\u001b[39m(\u001b[38;5;124mf\u001b[39m\u001b[38;5;124m'\u001b[39m\u001b[38;5;124mПустых значений: \u001b[39m\u001b[38;5;132;01m{\u001b[39;00mdata[col]\u001b[38;5;241m.\u001b[39misna()\u001b[38;5;241m.\u001b[39msum()\u001b[38;5;132;01m}\u001b[39;00m\u001b[38;5;124m'\u001b[39m)\n\u001b[1;32m      7\u001b[0m \u001b[38;5;28;01mif\u001b[39;00m col \u001b[38;5;129;01min\u001b[39;00m num_features:\n\u001b[1;32m      8\u001b[0m     \u001b[38;5;66;03m# Проверка плотности распределения\u001b[39;00m\n\u001b[0;32m----> 9\u001b[0m     \u001b[43mdata\u001b[49m\u001b[43m[\u001b[49m\u001b[43mcol\u001b[49m\u001b[43m]\u001b[49m\u001b[38;5;241;43m.\u001b[39;49m\u001b[43mplot\u001b[49m\u001b[38;5;241;43m.\u001b[39;49m\u001b[43mkde\u001b[49m\u001b[43m(\u001b[49m\u001b[43m)\u001b[49m\n\u001b[1;32m     10\u001b[0m     plt\u001b[38;5;241m.\u001b[39mtitle(\u001b[38;5;124mf\u001b[39m\u001b[38;5;124m'\u001b[39m\u001b[38;5;124mГрафический анализ плотности распределения для атрибута \u001b[39m\u001b[38;5;132;01m{\u001b[39;00mcol\u001b[38;5;132;01m}\u001b[39;00m\u001b[38;5;124m'\u001b[39m)\n\u001b[1;32m     11\u001b[0m     plt\u001b[38;5;241m.\u001b[39mshow()\n",
      "File \u001b[0;32m~/.local/lib/python3.10/site-packages/pandas/plotting/_core.py:1522\u001b[0m, in \u001b[0;36mPlotAccessor.kde\u001b[0;34m(self, bw_method, ind, **kwargs)\u001b[0m\n\u001b[1;32m   1411\u001b[0m \u001b[38;5;28;01mdef\u001b[39;00m\u001b[38;5;250m \u001b[39m\u001b[38;5;21mkde\u001b[39m(\n\u001b[1;32m   1412\u001b[0m     \u001b[38;5;28mself\u001b[39m,\n\u001b[1;32m   1413\u001b[0m     bw_method: Literal[\u001b[38;5;124m\"\u001b[39m\u001b[38;5;124mscott\u001b[39m\u001b[38;5;124m\"\u001b[39m, \u001b[38;5;124m\"\u001b[39m\u001b[38;5;124msilverman\u001b[39m\u001b[38;5;124m\"\u001b[39m] \u001b[38;5;241m|\u001b[39m \u001b[38;5;28mfloat\u001b[39m \u001b[38;5;241m|\u001b[39m Callable \u001b[38;5;241m|\u001b[39m \u001b[38;5;28;01mNone\u001b[39;00m \u001b[38;5;241m=\u001b[39m \u001b[38;5;28;01mNone\u001b[39;00m,\n\u001b[1;32m   1414\u001b[0m     ind: np\u001b[38;5;241m.\u001b[39mndarray \u001b[38;5;241m|\u001b[39m \u001b[38;5;28mint\u001b[39m \u001b[38;5;241m|\u001b[39m \u001b[38;5;28;01mNone\u001b[39;00m \u001b[38;5;241m=\u001b[39m \u001b[38;5;28;01mNone\u001b[39;00m,\n\u001b[1;32m   1415\u001b[0m     \u001b[38;5;241m*\u001b[39m\u001b[38;5;241m*\u001b[39mkwargs,\n\u001b[1;32m   1416\u001b[0m ) \u001b[38;5;241m-\u001b[39m\u001b[38;5;241m>\u001b[39m PlotAccessor:\n\u001b[1;32m   1417\u001b[0m \u001b[38;5;250m    \u001b[39m\u001b[38;5;124;03m\"\"\"\u001b[39;00m\n\u001b[1;32m   1418\u001b[0m \u001b[38;5;124;03m    Generate Kernel Density Estimate plot using Gaussian kernels.\u001b[39;00m\n\u001b[1;32m   1419\u001b[0m \n\u001b[0;32m   (...)\u001b[0m\n\u001b[1;32m   1520\u001b[0m \u001b[38;5;124;03m        >>> ax = df.plot.kde(ind=[1, 2, 3, 4, 5, 6])\u001b[39;00m\n\u001b[1;32m   1521\u001b[0m \u001b[38;5;124;03m    \"\"\"\u001b[39;00m\n\u001b[0;32m-> 1522\u001b[0m     \u001b[38;5;28;01mreturn\u001b[39;00m \u001b[38;5;28;43mself\u001b[39;49m\u001b[43m(\u001b[49m\u001b[43mkind\u001b[49m\u001b[38;5;241;43m=\u001b[39;49m\u001b[38;5;124;43m\"\u001b[39;49m\u001b[38;5;124;43mkde\u001b[39;49m\u001b[38;5;124;43m\"\u001b[39;49m\u001b[43m,\u001b[49m\u001b[43m \u001b[49m\u001b[43mbw_method\u001b[49m\u001b[38;5;241;43m=\u001b[39;49m\u001b[43mbw_method\u001b[49m\u001b[43m,\u001b[49m\u001b[43m \u001b[49m\u001b[43mind\u001b[49m\u001b[38;5;241;43m=\u001b[39;49m\u001b[43mind\u001b[49m\u001b[43m,\u001b[49m\u001b[43m \u001b[49m\u001b[38;5;241;43m*\u001b[39;49m\u001b[38;5;241;43m*\u001b[39;49m\u001b[43mkwargs\u001b[49m\u001b[43m)\u001b[49m\n",
      "File \u001b[0;32m~/.local/lib/python3.10/site-packages/pandas/plotting/_core.py:1030\u001b[0m, in \u001b[0;36mPlotAccessor.__call__\u001b[0;34m(self, *args, **kwargs)\u001b[0m\n\u001b[1;32m   1027\u001b[0m             label_name \u001b[38;5;241m=\u001b[39m label_kw \u001b[38;5;129;01mor\u001b[39;00m data\u001b[38;5;241m.\u001b[39mcolumns\n\u001b[1;32m   1028\u001b[0m             data\u001b[38;5;241m.\u001b[39mcolumns \u001b[38;5;241m=\u001b[39m label_name\n\u001b[0;32m-> 1030\u001b[0m \u001b[38;5;28;01mreturn\u001b[39;00m \u001b[43mplot_backend\u001b[49m\u001b[38;5;241;43m.\u001b[39;49m\u001b[43mplot\u001b[49m\u001b[43m(\u001b[49m\u001b[43mdata\u001b[49m\u001b[43m,\u001b[49m\u001b[43m \u001b[49m\u001b[43mkind\u001b[49m\u001b[38;5;241;43m=\u001b[39;49m\u001b[43mkind\u001b[49m\u001b[43m,\u001b[49m\u001b[43m \u001b[49m\u001b[38;5;241;43m*\u001b[39;49m\u001b[38;5;241;43m*\u001b[39;49m\u001b[43mkwargs\u001b[49m\u001b[43m)\u001b[49m\n",
      "File \u001b[0;32m~/.local/lib/python3.10/site-packages/pandas/plotting/_matplotlib/__init__.py:71\u001b[0m, in \u001b[0;36mplot\u001b[0;34m(data, kind, **kwargs)\u001b[0m\n\u001b[1;32m     69\u001b[0m         kwargs[\u001b[38;5;124m\"\u001b[39m\u001b[38;5;124max\u001b[39m\u001b[38;5;124m\"\u001b[39m] \u001b[38;5;241m=\u001b[39m \u001b[38;5;28mgetattr\u001b[39m(ax, \u001b[38;5;124m\"\u001b[39m\u001b[38;5;124mleft_ax\u001b[39m\u001b[38;5;124m\"\u001b[39m, ax)\n\u001b[1;32m     70\u001b[0m plot_obj \u001b[38;5;241m=\u001b[39m PLOT_CLASSES[kind](data, \u001b[38;5;241m*\u001b[39m\u001b[38;5;241m*\u001b[39mkwargs)\n\u001b[0;32m---> 71\u001b[0m \u001b[43mplot_obj\u001b[49m\u001b[38;5;241;43m.\u001b[39;49m\u001b[43mgenerate\u001b[49m\u001b[43m(\u001b[49m\u001b[43m)\u001b[49m\n\u001b[1;32m     72\u001b[0m plot_obj\u001b[38;5;241m.\u001b[39mdraw()\n\u001b[1;32m     73\u001b[0m \u001b[38;5;28;01mreturn\u001b[39;00m plot_obj\u001b[38;5;241m.\u001b[39mresult\n",
      "File \u001b[0;32m~/.local/lib/python3.10/site-packages/pandas/plotting/_matplotlib/core.py:501\u001b[0m, in \u001b[0;36mMPLPlot.generate\u001b[0;34m(self)\u001b[0m\n\u001b[1;32m    499\u001b[0m \u001b[38;5;28mself\u001b[39m\u001b[38;5;241m.\u001b[39m_compute_plot_data()\n\u001b[1;32m    500\u001b[0m fig \u001b[38;5;241m=\u001b[39m \u001b[38;5;28mself\u001b[39m\u001b[38;5;241m.\u001b[39mfig\n\u001b[0;32m--> 501\u001b[0m \u001b[38;5;28;43mself\u001b[39;49m\u001b[38;5;241;43m.\u001b[39;49m\u001b[43m_make_plot\u001b[49m\u001b[43m(\u001b[49m\u001b[43mfig\u001b[49m\u001b[43m)\u001b[49m\n\u001b[1;32m    502\u001b[0m \u001b[38;5;28mself\u001b[39m\u001b[38;5;241m.\u001b[39m_add_table()\n\u001b[1;32m    503\u001b[0m \u001b[38;5;28mself\u001b[39m\u001b[38;5;241m.\u001b[39m_make_legend()\n",
      "File \u001b[0;32m~/.local/lib/python3.10/site-packages/pandas/plotting/_matplotlib/hist.py:168\u001b[0m, in \u001b[0;36mHistPlot._make_plot\u001b[0;34m(self, fig)\u001b[0m\n\u001b[1;32m    164\u001b[0m     kwds[\u001b[38;5;124m\"\u001b[39m\u001b[38;5;124mweights\u001b[39m\u001b[38;5;124m\"\u001b[39m] \u001b[38;5;241m=\u001b[39m \u001b[38;5;28mtype\u001b[39m(\u001b[38;5;28mself\u001b[39m)\u001b[38;5;241m.\u001b[39m_get_column_weights(\u001b[38;5;28mself\u001b[39m\u001b[38;5;241m.\u001b[39mweights, i, y)\n\u001b[1;32m    166\u001b[0m y \u001b[38;5;241m=\u001b[39m reformat_hist_y_given_by(y, \u001b[38;5;28mself\u001b[39m\u001b[38;5;241m.\u001b[39mby)\n\u001b[0;32m--> 168\u001b[0m artists \u001b[38;5;241m=\u001b[39m \u001b[38;5;28;43mself\u001b[39;49m\u001b[38;5;241;43m.\u001b[39;49m\u001b[43m_plot\u001b[49m\u001b[43m(\u001b[49m\u001b[43max\u001b[49m\u001b[43m,\u001b[49m\u001b[43m \u001b[49m\u001b[43my\u001b[49m\u001b[43m,\u001b[49m\u001b[43m \u001b[49m\u001b[43mcolumn_num\u001b[49m\u001b[38;5;241;43m=\u001b[39;49m\u001b[43mi\u001b[49m\u001b[43m,\u001b[49m\u001b[43m \u001b[49m\u001b[43mstacking_id\u001b[49m\u001b[38;5;241;43m=\u001b[39;49m\u001b[43mstacking_id\u001b[49m\u001b[43m,\u001b[49m\u001b[43m \u001b[49m\u001b[38;5;241;43m*\u001b[39;49m\u001b[38;5;241;43m*\u001b[39;49m\u001b[43mkwds\u001b[49m\u001b[43m)\u001b[49m\n\u001b[1;32m    170\u001b[0m \u001b[38;5;66;03m# when by is applied, show title for subplots to know which group it is\u001b[39;00m\n\u001b[1;32m    171\u001b[0m \u001b[38;5;28;01mif\u001b[39;00m \u001b[38;5;28mself\u001b[39m\u001b[38;5;241m.\u001b[39mby \u001b[38;5;129;01mis\u001b[39;00m \u001b[38;5;129;01mnot\u001b[39;00m \u001b[38;5;28;01mNone\u001b[39;00m:\n",
      "File \u001b[0;32m~/.local/lib/python3.10/site-packages/pandas/plotting/_matplotlib/hist.py:281\u001b[0m, in \u001b[0;36mKdePlot._plot\u001b[0;34m(cls, ax, y, style, bw_method, ind, column_num, stacking_id, **kwds)\u001b[0m\n\u001b[1;32m    278\u001b[0m y \u001b[38;5;241m=\u001b[39m remove_na_arraylike(y)\n\u001b[1;32m    279\u001b[0m gkde \u001b[38;5;241m=\u001b[39m gaussian_kde(y, bw_method\u001b[38;5;241m=\u001b[39mbw_method)\n\u001b[0;32m--> 281\u001b[0m y \u001b[38;5;241m=\u001b[39m \u001b[43mgkde\u001b[49m\u001b[38;5;241;43m.\u001b[39;49m\u001b[43mevaluate\u001b[49m\u001b[43m(\u001b[49m\u001b[43mind\u001b[49m\u001b[43m)\u001b[49m\n\u001b[1;32m    282\u001b[0m lines \u001b[38;5;241m=\u001b[39m MPLPlot\u001b[38;5;241m.\u001b[39m_plot(ax, ind, y, style\u001b[38;5;241m=\u001b[39mstyle, \u001b[38;5;241m*\u001b[39m\u001b[38;5;241m*\u001b[39mkwds)\n\u001b[1;32m    283\u001b[0m \u001b[38;5;28;01mreturn\u001b[39;00m lines\n",
      "File \u001b[0;32m~/.local/lib/python3.10/site-packages/scipy/stats/_kde.py:271\u001b[0m, in \u001b[0;36mgaussian_kde.evaluate\u001b[0;34m(self, points)\u001b[0m\n\u001b[1;32m    268\u001b[0m         \u001b[38;5;28;01mraise\u001b[39;00m \u001b[38;5;167;01mValueError\u001b[39;00m(msg)\n\u001b[1;32m    270\u001b[0m output_dtype, spec \u001b[38;5;241m=\u001b[39m _get_output_dtype(\u001b[38;5;28mself\u001b[39m\u001b[38;5;241m.\u001b[39mcovariance, points)\n\u001b[0;32m--> 271\u001b[0m result \u001b[38;5;241m=\u001b[39m \u001b[43mgaussian_kernel_estimate\u001b[49m\u001b[43m[\u001b[49m\u001b[43mspec\u001b[49m\u001b[43m]\u001b[49m\u001b[43m(\u001b[49m\n\u001b[1;32m    272\u001b[0m \u001b[43m    \u001b[49m\u001b[38;5;28;43mself\u001b[39;49m\u001b[38;5;241;43m.\u001b[39;49m\u001b[43mdataset\u001b[49m\u001b[38;5;241;43m.\u001b[39;49m\u001b[43mT\u001b[49m\u001b[43m,\u001b[49m\u001b[43m \u001b[49m\u001b[38;5;28;43mself\u001b[39;49m\u001b[38;5;241;43m.\u001b[39;49m\u001b[43mweights\u001b[49m\u001b[43m[\u001b[49m\u001b[43m:\u001b[49m\u001b[43m,\u001b[49m\u001b[43m \u001b[49m\u001b[38;5;28;43;01mNone\u001b[39;49;00m\u001b[43m]\u001b[49m\u001b[43m,\u001b[49m\n\u001b[1;32m    273\u001b[0m \u001b[43m    \u001b[49m\u001b[43mpoints\u001b[49m\u001b[38;5;241;43m.\u001b[39;49m\u001b[43mT\u001b[49m\u001b[43m,\u001b[49m\u001b[43m \u001b[49m\u001b[38;5;28;43mself\u001b[39;49m\u001b[38;5;241;43m.\u001b[39;49m\u001b[43mcho_cov\u001b[49m\u001b[43m,\u001b[49m\u001b[43m \u001b[49m\u001b[43moutput_dtype\u001b[49m\u001b[43m)\u001b[49m\n\u001b[1;32m    275\u001b[0m \u001b[38;5;28;01mreturn\u001b[39;00m result[:, \u001b[38;5;241m0\u001b[39m]\n",
      "\u001b[0;31mKeyboardInterrupt\u001b[0m: "
     ]
    },
    {
     "data": {
      "image/png": "[encoded data removed]",
      "text/plain": [
       "<Figure size 640x480 with 1 Axes>"
      ]
     },
     "metadata": {},
     "output_type": "display_data"
    }
   ],
   "source": [
    "for col in col_desc:\n",
    "    # Текстовое представление \n",
    "    print(f'{col} - {col_desc[col]}')\n",
    "    # Пустые значения\n",
    "    print(f'Пустых значений: {data[col].isna().sum()}')\n",
    "\n",
    "    if col in num_features:\n",
    "        # Проверка плотности распределения\n",
    "        data[col].plot.kde()\n",
    "        plt.title(f'Графический анализ плотности распределения для атрибута {col}')\n",
    "        plt.show()\n",
    "    \n",
    "        # Проверка нормальности\n",
    "        data[col].hist()\n",
    "        plt.title(f'Графический анализ нормальности распределения для атрибута {col}')\n",
    "        plt.show()\n",
    "\n",
    "        stat, p = shapiro(data[col].fillna(data[col].median()))\n",
    "        print(f'Статистика: {stat}\\nP-value: {p}')\n",
    "        \n",
    "        # Вывод о типе рапределения\n",
    "        if p < 0.05:\n",
    "            print('Распределение ненормально')\n",
    "        else:\n",
    "            print('Распределение нормально')\n",
    "    \n",
    "    print('\\n\\n')"
   ]
  },
  {
   "cell_type": "markdown",
   "id": "4eda38a8-82b0-4a6f-ad0c-3e32f41ce3f0",
   "metadata": {},
   "source": [
    "# 1.4 Определение численных характеристик наборов данных"
   ]
  },
  {
   "cell_type": "markdown",
   "id": "da89e74a-abd8-437b-bb21-cf78fde7aad2",
   "metadata": {},
   "source": [
    "## Общая загруженность станции"
   ]
  },
  {
   "cell_type": "code",
   "execution_count": null,
   "id": "da82e625-466d-40aa-95ec-2b3579cc42fc",
   "metadata": {},
   "outputs": [],
   "source": [
    "data.groupby('station')['num_val'].sum()"
   ]
  },
  {
   "cell_type": "markdown",
   "id": "186e5d0d-2da8-474b-922f-46a4c10e0cd4",
   "metadata": {},
   "source": [
    "## Пропускная способность в процентах по отношению к средней пропускной способности"
   ]
  },
  {
   "cell_type": "code",
   "execution_count": 79,
   "id": "07f34ff7-a4c0-4636-81ca-8d151769ad12",
   "metadata": {},
   "outputs": [
    {
     "data": {
      "text/plain": [
       "station\n",
       "Авиамотор-я КалЛ    31.707317\n",
       "Авиамоторная         0.000000\n",
       "Авиамоторная БКЛ     0.000000\n",
       "Автозавод. МЦК       0.000000\n",
       "Автозаводская       19.512195\n",
       "                      ...    \n",
       "Юго-Восточная        0.000000\n",
       "Юго-западная        24.390244\n",
       "Южная               19.512195\n",
       "Южный речной в-л     0.000000\n",
       "Ясенево             19.512195\n",
       "Name: input_turnstile_total_bandwidth, Length: 340, dtype: float64"
      ]
     },
     "execution_count": 79,
     "metadata": {},
     "output_type": "execute_result"
    }
   ],
   "source": [
    "# Колонки пропускной способности\n",
    "max_bandwidth = data.groupby('station')['input_turnstile_total_bandwidth'].max().max()\n",
    "\n",
    "data.groupby('station')['input_turnstile_total_bandwidth'].max().fillna(0) / max_bandwidth * 100"
   ]
  },
  {
   "cell_type": "markdown",
   "id": "aae2268b-2f27-4cf9-8875-bfbfe5e775e6",
   "metadata": {},
   "source": [
    "## Количественные характеристики входного и выходного оборудования"
   ]
  },
  {
   "cell_type": "markdown",
   "id": "b63b4df6-73bc-4985-8bf0-f2d8a9e5bf86",
   "metadata": {},
   "source": [
    "..."
   ]
  },
  {
   "cell_type": "markdown",
   "id": "042688b4-ecaf-4bb0-9a6a-c17ed9ca9a32",
   "metadata": {},
   "source": [
    "## Временные интервалы поездки"
   ]
  },
  {
   "cell_type": "markdown",
   "id": "7cce643a-2c60-4d15-9056-5155044e71a6",
   "metadata": {},
   "source": [
    "..."
   ]
  },
  {
   "cell_type": "markdown",
   "id": "d59808b0-ff06-4acf-a843-5f6ccf413a6b",
   "metadata": {},
   "source": [
    "## Продолжительность поездки"
   ]
  },
  {
   "cell_type": "markdown",
   "id": "f8c664fa-3798-48f3-a52f-2a01fce50ce3",
   "metadata": {},
   "source": [
    "..."
   ]
  },
  {
   "cell_type": "markdown",
   "id": "f3f628ef-aefa-4031-9e3c-7f7030094f78",
   "metadata": {},
   "source": [
    "# 1.5 Формирование итогового набора данных"
   ]
  },
  {
   "cell_type": "code",
   "execution_count": 85,
   "id": "2608af1c-fd44-4fe4-b133-36af10857773",
   "metadata": {},
   "outputs": [
    {
     "data": {
      "text/html": [
       "<div>\n",
       "<style scoped>\n",
       "    .dataframe tbody tr th:only-of-type {\n",
       "        vertical-align: middle;\n",
       "    }\n",
       "\n",
       "    .dataframe tbody tr th {\n",
       "        vertical-align: top;\n",
       "    }\n",
       "\n",
       "    .dataframe thead th {\n",
       "        text-align: right;\n",
       "    }\n",
       "</style>\n",
       "<table border=\"1\" class=\"dataframe\">\n",
       "  <thead>\n",
       "    <tr style=\"text-align: right;\">\n",
       "      <th></th>\n",
       "      <th>date</th>\n",
       "      <th>hour</th>\n",
       "      <th>line</th>\n",
       "      <th>station</th>\n",
       "      <th>num_val</th>\n",
       "      <th>line_id</th>\n",
       "      <th>line_name</th>\n",
       "      <th>station_id</th>\n",
       "      <th>station_name</th>\n",
       "      <th>entry_id</th>\n",
       "      <th>...</th>\n",
       "      <th>Russian_name</th>\n",
       "      <th>Depth</th>\n",
       "      <th>Line_Neighbors</th>\n",
       "      <th>Transfers</th>\n",
       "      <th>Opened_Date</th>\n",
       "      <th>Lat</th>\n",
       "      <th>Lon</th>\n",
       "      <th>Station_Type</th>\n",
       "      <th>station_end</th>\n",
       "      <th>trip</th>\n",
       "    </tr>\n",
       "  </thead>\n",
       "  <tbody>\n",
       "    <tr>\n",
       "      <th>1</th>\n",
       "      <td>2023-01-01</td>\n",
       "      <td>1.0</td>\n",
       "      <td>КАЛИНИНСКАЯ</td>\n",
       "      <td>Авиамотор-я КалЛ</td>\n",
       "      <td>5.0</td>\n",
       "      <td>14.0</td>\n",
       "      <td>КАЛИНИНСКАЯ</td>\n",
       "      <td>224.0</td>\n",
       "      <td>Авиамотор-я КалЛ</td>\n",
       "      <td>5.0</td>\n",
       "      <td>...</td>\n",
       "      <td>NaN</td>\n",
       "      <td>NaN</td>\n",
       "      <td>NaN</td>\n",
       "      <td>NaN</td>\n",
       "      <td>NaN</td>\n",
       "      <td>NaN</td>\n",
       "      <td>NaN</td>\n",
       "      <td>NaN</td>\n",
       "      <td>Авиамотор-я КалЛ</td>\n",
       "      <td>Авиамотор-я КалЛ - Авиамотор-я КалЛ</td>\n",
       "    </tr>\n",
       "    <tr>\n",
       "      <th>2</th>\n",
       "      <td>2023-01-01</td>\n",
       "      <td>5.0</td>\n",
       "      <td>КАЛИНИНСКАЯ</td>\n",
       "      <td>Авиамотор-я КалЛ</td>\n",
       "      <td>18.0</td>\n",
       "      <td>14.0</td>\n",
       "      <td>КАЛИНИНСКАЯ</td>\n",
       "      <td>224.0</td>\n",
       "      <td>Авиамотор-я КалЛ</td>\n",
       "      <td>5.0</td>\n",
       "      <td>...</td>\n",
       "      <td>NaN</td>\n",
       "      <td>NaN</td>\n",
       "      <td>NaN</td>\n",
       "      <td>NaN</td>\n",
       "      <td>NaN</td>\n",
       "      <td>NaN</td>\n",
       "      <td>NaN</td>\n",
       "      <td>NaN</td>\n",
       "      <td>Авиамотор-я КалЛ</td>\n",
       "      <td>Авиамотор-я КалЛ - Авиамотор-я КалЛ</td>\n",
       "    </tr>\n",
       "    <tr>\n",
       "      <th>3</th>\n",
       "      <td>2023-01-01</td>\n",
       "      <td>6.0</td>\n",
       "      <td>КАЛИНИНСКАЯ</td>\n",
       "      <td>Авиамотор-я КалЛ</td>\n",
       "      <td>160.0</td>\n",
       "      <td>14.0</td>\n",
       "      <td>КАЛИНИНСКАЯ</td>\n",
       "      <td>224.0</td>\n",
       "      <td>Авиамотор-я КалЛ</td>\n",
       "      <td>5.0</td>\n",
       "      <td>...</td>\n",
       "      <td>NaN</td>\n",
       "      <td>NaN</td>\n",
       "      <td>NaN</td>\n",
       "      <td>NaN</td>\n",
       "      <td>NaN</td>\n",
       "      <td>NaN</td>\n",
       "      <td>NaN</td>\n",
       "      <td>NaN</td>\n",
       "      <td>Авиамотор-я КалЛ</td>\n",
       "      <td>Авиамотор-я КалЛ - Авиамотор-я КалЛ</td>\n",
       "    </tr>\n",
       "    <tr>\n",
       "      <th>4</th>\n",
       "      <td>2023-01-01</td>\n",
       "      <td>7.0</td>\n",
       "      <td>КАЛИНИНСКАЯ</td>\n",
       "      <td>Авиамотор-я КалЛ</td>\n",
       "      <td>338.0</td>\n",
       "      <td>14.0</td>\n",
       "      <td>КАЛИНИНСКАЯ</td>\n",
       "      <td>224.0</td>\n",
       "      <td>Авиамотор-я КалЛ</td>\n",
       "      <td>5.0</td>\n",
       "      <td>...</td>\n",
       "      <td>NaN</td>\n",
       "      <td>NaN</td>\n",
       "      <td>NaN</td>\n",
       "      <td>NaN</td>\n",
       "      <td>NaN</td>\n",
       "      <td>NaN</td>\n",
       "      <td>NaN</td>\n",
       "      <td>NaN</td>\n",
       "      <td>Авиамотор-я КалЛ</td>\n",
       "      <td>Авиамотор-я КалЛ - Авиамотор-я КалЛ</td>\n",
       "    </tr>\n",
       "    <tr>\n",
       "      <th>5</th>\n",
       "      <td>2023-01-01</td>\n",
       "      <td>8.0</td>\n",
       "      <td>КАЛИНИНСКАЯ</td>\n",
       "      <td>Авиамотор-я КалЛ</td>\n",
       "      <td>270.0</td>\n",
       "      <td>14.0</td>\n",
       "      <td>КАЛИНИНСКАЯ</td>\n",
       "      <td>224.0</td>\n",
       "      <td>Авиамотор-я КалЛ</td>\n",
       "      <td>5.0</td>\n",
       "      <td>...</td>\n",
       "      <td>NaN</td>\n",
       "      <td>NaN</td>\n",
       "      <td>NaN</td>\n",
       "      <td>NaN</td>\n",
       "      <td>NaN</td>\n",
       "      <td>NaN</td>\n",
       "      <td>NaN</td>\n",
       "      <td>NaN</td>\n",
       "      <td>Авиамотор-я КалЛ</td>\n",
       "      <td>Авиамотор-я КалЛ - Авиамотор-я КалЛ</td>\n",
       "    </tr>\n",
       "  </tbody>\n",
       "</table>\n",
       "<p>5 rows × 56 columns</p>\n",
       "</div>"
      ],
      "text/plain": [
       "         date  hour         line           station  num_val  line_id  \\\n",
       "1  2023-01-01   1.0  КАЛИНИНСКАЯ  Авиамотор-я КалЛ      5.0     14.0   \n",
       "2  2023-01-01   5.0  КАЛИНИНСКАЯ  Авиамотор-я КалЛ     18.0     14.0   \n",
       "3  2023-01-01   6.0  КАЛИНИНСКАЯ  Авиамотор-я КалЛ    160.0     14.0   \n",
       "4  2023-01-01   7.0  КАЛИНИНСКАЯ  Авиамотор-я КалЛ    338.0     14.0   \n",
       "5  2023-01-01   8.0  КАЛИНИНСКАЯ  Авиамотор-я КалЛ    270.0     14.0   \n",
       "\n",
       "     line_name  station_id      station_name  entry_id  ... Russian_name  \\\n",
       "1  КАЛИНИНСКАЯ       224.0  Авиамотор-я КалЛ       5.0  ...          NaN   \n",
       "2  КАЛИНИНСКАЯ       224.0  Авиамотор-я КалЛ       5.0  ...          NaN   \n",
       "3  КАЛИНИНСКАЯ       224.0  Авиамотор-я КалЛ       5.0  ...          NaN   \n",
       "4  КАЛИНИНСКАЯ       224.0  Авиамотор-я КалЛ       5.0  ...          NaN   \n",
       "5  КАЛИНИНСКАЯ       224.0  Авиамотор-я КалЛ       5.0  ...          NaN   \n",
       "\n",
       "   Depth Line_Neighbors Transfers  Opened_Date  Lat  Lon  Station_Type  \\\n",
       "1    NaN            NaN       NaN          NaN  NaN  NaN           NaN   \n",
       "2    NaN            NaN       NaN          NaN  NaN  NaN           NaN   \n",
       "3    NaN            NaN       NaN          NaN  NaN  NaN           NaN   \n",
       "4    NaN            NaN       NaN          NaN  NaN  NaN           NaN   \n",
       "5    NaN            NaN       NaN          NaN  NaN  NaN           NaN   \n",
       "\n",
       "        station_end                                 trip  \n",
       "1  Авиамотор-я КалЛ  Авиамотор-я КалЛ - Авиамотор-я КалЛ  \n",
       "2  Авиамотор-я КалЛ  Авиамотор-я КалЛ - Авиамотор-я КалЛ  \n",
       "3  Авиамотор-я КалЛ  Авиамотор-я КалЛ - Авиамотор-я КалЛ  \n",
       "4  Авиамотор-я КалЛ  Авиамотор-я КалЛ - Авиамотор-я КалЛ  \n",
       "5  Авиамотор-я КалЛ  Авиамотор-я КалЛ - Авиамотор-я КалЛ  \n",
       "\n",
       "[5 rows x 56 columns]"
      ]
     },
     "execution_count": 85,
     "metadata": {},
     "output_type": "execute_result"
    }
   ],
   "source": [
    "data.loc[:, 'station_end'] = data['station'].shift(1)\n",
    "data = data.dropna(subset='station_end')\n",
    "data['trip'] = data.apply(lambda row: f'{row['station_end']} - {row['station']}', axis=1)\n",
    "data.drop_duplicates(subset=('date', 'hour', 'trip'))\n",
    "data.head()"
   ]
  },
  {
   "cell_type": "markdown",
   "id": "c600afbc-c65b-4bc1-9e39-46fd18a3c58b",
   "metadata": {},
   "source": [
    "Сохраняем данные в базу данных для дальнейшей обработки."
   ]
  },
  {
   "cell_type": "code",
   "execution_count": 86,
   "id": "cde358b8-af3d-460c-89aa-234cab6b2f1e",
   "metadata": {},
   "outputs": [
    {
     "name": "stdout",
     "output_type": "stream",
     "text": [
      "Успешно!\n"
     ]
    }
   ],
   "source": [
    "try:\n",
    "    con = sqlite3.connect('../data/db.db')\n",
    "    data.to_sql('metro', con=con, index=False, if_exists='replace')\n",
    "except Exception as e:\n",
    "    print('Ошибка при добавлении данных в базу!')\n",
    "    print(e)\n",
    "else:\n",
    "    print('Успешно!')\n",
    "finally:\n",
    "    con.close()"
   ]
  },
  {
   "cell_type": "markdown",
   "id": "3970bd49-1e63-4465-a01b-f6ef03d97ffd",
   "metadata": {},
   "source": [
    "# Отчет\n",
    "В ходе выполнения модуля А было выполнено:\n",
    "- Загрузка данных из источника, последующая выгрузка данных в sqlite.\n",
    "- Предобработка данных и выделение значимых атрибутов.\n",
    "- Описание и анализ структуры набора данных.\n",
    "- Определение численных характеристик наборов данных.\n",
    "- Переформирование набора данных."
   ]
  }
 ],
 "metadata": {
  "kernelspec": {
   "display_name": "Python 3 (ipykernel)",
   "language": "python",
   "name": "python3"
  },
  "language_info": {
   "codemirror_mode": {
    "name": "ipython",
    "version": 3
   },
   "file_extension": ".py",
   "mimetype": "text/x-python",
   "name": "python",
   "nbconvert_exporter": "python",
   "pygments_lexer": "ipython3",
   "version": "3.10.12"
  }
 },
 "nbformat": 4,
 "nbformat_minor": 5
}
