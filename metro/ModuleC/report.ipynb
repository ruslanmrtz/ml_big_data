{
 "cells": [
  {
   "cell_type": "markdown",
   "id": "307115ac-38b5-4da2-baa5-59a49b7def1e",
   "metadata": {},
   "source": [
    "# Отчет по модулю С"
   ]
  },
  {
   "cell_type": "markdown",
   "id": "25892fef-9a57-427e-a279-140373fe48ae",
   "metadata": {},
   "source": [
    "## Импорт библиотек"
   ]
  },
  {
   "cell_type": "code",
   "execution_count": 1,
   "id": "43b1ac2d-4a54-4eb4-910b-d6d880a8e44f",
   "metadata": {},
   "outputs": [],
   "source": [
    "import pandas as pd\n",
    "\n",
    "from sklearn.pipeline import Pipeline\n",
    "from sklearn.compose import ColumnTransformer\n",
    "from sklearn.preprocessing import StandardScaler, LabelEncoder, FunctionTransformer\n",
    "from sklearn.impute import SimpleImputer\n",
    "from sklearn.model_selection import train_test_split\n",
    "\n",
    "from sklearn.linear_model import LogisticRegression, LinearRegression, Ridge, Lasso\n",
    "from sklearn.ensemble import RandomForestClassifier\n",
    "from sklearn.tree import DecisionTreeClassifier\n",
    "from sklearn.svm import SVC\n",
    "\n",
    "from sklearn.metrics import accuracy_score, recall_score, f1_score, r2_score\n",
    "\n",
    "import joblib\n",
    "\n",
    "import matplotlib.pyplot as plt\n",
    "import seaborn as sns\n",
    "\n",
    "import datetime"
   ]
  },
  {
   "cell_type": "markdown",
   "id": "d2c8f90e-0695-4729-9814-0e7775ae9198",
   "metadata": {},
   "source": [
    "## Импорт данных"
   ]
  },
  {
   "cell_type": "code",
   "execution_count": 2,
   "id": "f174f9da-746b-47e0-81b9-a89a84e44d3d",
   "metadata": {},
   "outputs": [
    {
     "data": {
      "text/html": [
       "<div>\n",
       "<style scoped>\n",
       "    .dataframe tbody tr th:only-of-type {\n",
       "        vertical-align: middle;\n",
       "    }\n",
       "\n",
       "    .dataframe tbody tr th {\n",
       "        vertical-align: top;\n",
       "    }\n",
       "\n",
       "    .dataframe thead th {\n",
       "        text-align: right;\n",
       "    }\n",
       "</style>\n",
       "<table border=\"1\" class=\"dataframe\">\n",
       "  <thead>\n",
       "    <tr style=\"text-align: right;\">\n",
       "      <th></th>\n",
       "      <th>line</th>\n",
       "      <th>trip</th>\n",
       "      <th>hour</th>\n",
       "      <th>num_val</th>\n",
       "      <th>output_escalator_count</th>\n",
       "      <th>output_doors_count</th>\n",
       "      <th>output_turnstile_count</th>\n",
       "      <th>input_turnstile_total_bandwidth</th>\n",
       "      <th>input_turnstile_count</th>\n",
       "      <th>input_doors_count</th>\n",
       "      <th>entry_id</th>\n",
       "      <th>year</th>\n",
       "      <th>month</th>\n",
       "      <th>day</th>\n",
       "      <th>cluster</th>\n",
       "    </tr>\n",
       "  </thead>\n",
       "  <tbody>\n",
       "    <tr>\n",
       "      <th>0</th>\n",
       "      <td>КАЛИНИНСКАЯ</td>\n",
       "      <td>Авиамотор-я КалЛ - Авиамотор-я КалЛ</td>\n",
       "      <td>1.0</td>\n",
       "      <td>5.0</td>\n",
       "      <td>0.0</td>\n",
       "      <td>5.0</td>\n",
       "      <td>8.0</td>\n",
       "      <td>13.0</td>\n",
       "      <td>13.0</td>\n",
       "      <td>5.0</td>\n",
       "      <td>5.0</td>\n",
       "      <td>2023</td>\n",
       "      <td>1</td>\n",
       "      <td>1</td>\n",
       "      <td>1</td>\n",
       "    </tr>\n",
       "    <tr>\n",
       "      <th>1</th>\n",
       "      <td>КАЛИНИНСКАЯ</td>\n",
       "      <td>Авиамотор-я КалЛ - Авиамотор-я КалЛ</td>\n",
       "      <td>5.0</td>\n",
       "      <td>18.0</td>\n",
       "      <td>0.0</td>\n",
       "      <td>5.0</td>\n",
       "      <td>8.0</td>\n",
       "      <td>13.0</td>\n",
       "      <td>13.0</td>\n",
       "      <td>5.0</td>\n",
       "      <td>5.0</td>\n",
       "      <td>2023</td>\n",
       "      <td>1</td>\n",
       "      <td>1</td>\n",
       "      <td>1</td>\n",
       "    </tr>\n",
       "    <tr>\n",
       "      <th>2</th>\n",
       "      <td>КАЛИНИНСКАЯ</td>\n",
       "      <td>Авиамотор-я КалЛ - Авиамотор-я КалЛ</td>\n",
       "      <td>6.0</td>\n",
       "      <td>160.0</td>\n",
       "      <td>0.0</td>\n",
       "      <td>5.0</td>\n",
       "      <td>8.0</td>\n",
       "      <td>13.0</td>\n",
       "      <td>13.0</td>\n",
       "      <td>5.0</td>\n",
       "      <td>5.0</td>\n",
       "      <td>2023</td>\n",
       "      <td>1</td>\n",
       "      <td>1</td>\n",
       "      <td>1</td>\n",
       "    </tr>\n",
       "  </tbody>\n",
       "</table>\n",
       "</div>"
      ],
      "text/plain": [
       "          line                                 trip  hour  num_val  \\\n",
       "0  КАЛИНИНСКАЯ  Авиамотор-я КалЛ - Авиамотор-я КалЛ   1.0      5.0   \n",
       "1  КАЛИНИНСКАЯ  Авиамотор-я КалЛ - Авиамотор-я КалЛ   5.0     18.0   \n",
       "2  КАЛИНИНСКАЯ  Авиамотор-я КалЛ - Авиамотор-я КалЛ   6.0    160.0   \n",
       "\n",
       "   output_escalator_count  output_doors_count  output_turnstile_count  \\\n",
       "0                     0.0                 5.0                     8.0   \n",
       "1                     0.0                 5.0                     8.0   \n",
       "2                     0.0                 5.0                     8.0   \n",
       "\n",
       "   input_turnstile_total_bandwidth  input_turnstile_count  input_doors_count  \\\n",
       "0                             13.0                   13.0                5.0   \n",
       "1                             13.0                   13.0                5.0   \n",
       "2                             13.0                   13.0                5.0   \n",
       "\n",
       "   entry_id  year  month  day  cluster  \n",
       "0       5.0  2023      1    1        1  \n",
       "1       5.0  2023      1    1        1  \n",
       "2       5.0  2023      1    1        1  "
      ]
     },
     "execution_count": 2,
     "metadata": {},
     "output_type": "execute_result"
    }
   ],
   "source": [
    "data = pd.read_csv('../data/data.csv')\n",
    "data.head(3)"
   ]
  },
  {
   "cell_type": "markdown",
   "id": "b864ff85-70cd-4165-a527-9cfed2b6c546",
   "metadata": {},
   "source": [
    "# 3.1 Обучение модели"
   ]
  },
  {
   "cell_type": "markdown",
   "id": "f3e79b26-4869-4296-bc23-f0dd8f4e4848",
   "metadata": {},
   "source": [
    "### Проверим исходные данные на сбалансированность. \n",
    "\n",
    "Выполним агрегацию по кластерам и отобразим в процентном соотношении."
   ]
  },
  {
   "cell_type": "code",
   "execution_count": 3,
   "id": "ffbbbeef-6b66-4a42-8c65-03a6a53f8a3f",
   "metadata": {},
   "outputs": [
    {
     "data": {
      "text/plain": [
       "cluster\n",
       "1    52.990199\n",
       "2    36.004749\n",
       "0    11.005052\n",
       "Name: proportion, dtype: float64"
      ]
     },
     "execution_count": 3,
     "metadata": {},
     "output_type": "execute_result"
    }
   ],
   "source": [
    "data['cluster'].value_counts(normalize=True) * 100"
   ]
  },
  {
   "cell_type": "markdown",
   "id": "65d18505-55ef-433f-87f4-1ccad707e8e8",
   "metadata": {},
   "source": [
    "В целом, у нас достаточное количество данных по каждому кластеру, но имеется дисбаланс. \n",
    "\n",
    "Проведем Oversampling для кластера под номером 0 – увеличим количество данных путем дублирования строк."
   ]
  },
  {
   "cell_type": "code",
   "execution_count": 4,
   "id": "8bac3383-8361-4302-ab65-36459881d6f5",
   "metadata": {},
   "outputs": [
    {
     "data": {
      "text/plain": [
       "cluster\n",
       "1    43.430993\n",
       "2    29.509645\n",
       "0    27.059362\n",
       "Name: proportion, dtype: float64"
      ]
     },
     "execution_count": 4,
     "metadata": {},
     "output_type": "execute_result"
    }
   ],
   "source": [
    "data = pd.concat([data, data[data['cluster'] == 0], data[data['cluster'] == 0]])\n",
    "data['cluster'].value_counts(normalize=True) * 100"
   ]
  },
  {
   "cell_type": "markdown",
   "id": "fbf87434-a9dc-4f9a-8201-aabc77a2c7f7",
   "metadata": {},
   "source": [
    "Теперь дисбаланс устранен – количество наблюдений для каждого кластера примерно равно."
   ]
  },
  {
   "cell_type": "markdown",
   "id": "5f18a8a1-482b-4eb5-9f6b-8b427ead603f",
   "metadata": {},
   "source": [
    "## Предобработка данных\n",
    "Для проведения классификации предобработаем данные: заполним пропуски, закодируем категориальные признаки, отмасштабируем данные."
   ]
  },
  {
   "cell_type": "code",
   "execution_count": 5,
   "id": "392ff6bd-6502-4bf3-84b9-b7ea159a1b3e",
   "metadata": {},
   "outputs": [
    {
     "data": {
      "text/html": [
       "<div>\n",
       "<style scoped>\n",
       "    .dataframe tbody tr th:only-of-type {\n",
       "        vertical-align: middle;\n",
       "    }\n",
       "\n",
       "    .dataframe tbody tr th {\n",
       "        vertical-align: top;\n",
       "    }\n",
       "\n",
       "    .dataframe thead th {\n",
       "        text-align: right;\n",
       "    }\n",
       "</style>\n",
       "<table border=\"1\" class=\"dataframe\">\n",
       "  <thead>\n",
       "    <tr style=\"text-align: right;\">\n",
       "      <th></th>\n",
       "      <th>line</th>\n",
       "      <th>trip</th>\n",
       "      <th>hour</th>\n",
       "      <th>num_val</th>\n",
       "      <th>output_escalator_count</th>\n",
       "      <th>output_doors_count</th>\n",
       "      <th>output_turnstile_count</th>\n",
       "      <th>input_turnstile_total_bandwidth</th>\n",
       "      <th>input_turnstile_count</th>\n",
       "      <th>input_doors_count</th>\n",
       "      <th>entry_id</th>\n",
       "      <th>year</th>\n",
       "      <th>month</th>\n",
       "      <th>day</th>\n",
       "    </tr>\n",
       "  </thead>\n",
       "  <tbody>\n",
       "    <tr>\n",
       "      <th>0</th>\n",
       "      <td>-0.837294</td>\n",
       "      <td>-1.564993</td>\n",
       "      <td>-1.654950</td>\n",
       "      <td>-1.146699</td>\n",
       "      <td>-0.28502</td>\n",
       "      <td>1.116194</td>\n",
       "      <td>1.46345</td>\n",
       "      <td>1.885103</td>\n",
       "      <td>1.886639</td>\n",
       "      <td>0.982929</td>\n",
       "      <td>-0.126283</td>\n",
       "      <td>0.0</td>\n",
       "      <td>-1.521568</td>\n",
       "      <td>-1.639671</td>\n",
       "    </tr>\n",
       "    <tr>\n",
       "      <th>1</th>\n",
       "      <td>-0.837294</td>\n",
       "      <td>-1.564993</td>\n",
       "      <td>-1.070716</td>\n",
       "      <td>-1.113858</td>\n",
       "      <td>-0.28502</td>\n",
       "      <td>1.116194</td>\n",
       "      <td>1.46345</td>\n",
       "      <td>1.885103</td>\n",
       "      <td>1.886639</td>\n",
       "      <td>0.982929</td>\n",
       "      <td>-0.126283</td>\n",
       "      <td>0.0</td>\n",
       "      <td>-1.521568</td>\n",
       "      <td>-1.639671</td>\n",
       "    </tr>\n",
       "    <tr>\n",
       "      <th>2</th>\n",
       "      <td>-0.837294</td>\n",
       "      <td>-1.564993</td>\n",
       "      <td>-0.924658</td>\n",
       "      <td>-0.755137</td>\n",
       "      <td>-0.28502</td>\n",
       "      <td>1.116194</td>\n",
       "      <td>1.46345</td>\n",
       "      <td>1.885103</td>\n",
       "      <td>1.886639</td>\n",
       "      <td>0.982929</td>\n",
       "      <td>-0.126283</td>\n",
       "      <td>0.0</td>\n",
       "      <td>-1.521568</td>\n",
       "      <td>-1.639671</td>\n",
       "    </tr>\n",
       "  </tbody>\n",
       "</table>\n",
       "</div>"
      ],
      "text/plain": [
       "       line      trip      hour   num_val  output_escalator_count  \\\n",
       "0 -0.837294 -1.564993 -1.654950 -1.146699                -0.28502   \n",
       "1 -0.837294 -1.564993 -1.070716 -1.113858                -0.28502   \n",
       "2 -0.837294 -1.564993 -0.924658 -0.755137                -0.28502   \n",
       "\n",
       "   output_doors_count  output_turnstile_count  \\\n",
       "0            1.116194                 1.46345   \n",
       "1            1.116194                 1.46345   \n",
       "2            1.116194                 1.46345   \n",
       "\n",
       "   input_turnstile_total_bandwidth  input_turnstile_count  input_doors_count  \\\n",
       "0                         1.885103               1.886639           0.982929   \n",
       "1                         1.885103               1.886639           0.982929   \n",
       "2                         1.885103               1.886639           0.982929   \n",
       "\n",
       "   entry_id  year     month       day  \n",
       "0 -0.126283   0.0 -1.521568 -1.639671  \n",
       "1 -0.126283   0.0 -1.521568 -1.639671  \n",
       "2 -0.126283   0.0 -1.521568 -1.639671  "
      ]
     },
     "execution_count": 5,
     "metadata": {},
     "output_type": "execute_result"
    }
   ],
   "source": [
    "num_features = data.describe().columns.tolist()\n",
    "cat_features = [col for col in data.columns if col not in num_features]\n",
    "\n",
    "\n",
    "X = data.drop(['cluster'], axis=1)\n",
    "y = data['cluster']\n",
    "\n",
    "encoder = LabelEncoder()\n",
    "X[cat_features] = X[cat_features].apply(encoder.fit_transform)\n",
    "\n",
    "preprocessor = Pipeline([\n",
    "    ('imputer', SimpleImputer(strategy='median')),\n",
    "    ('scaler', StandardScaler())\n",
    "])\n",
    "\n",
    "X = pd.DataFrame(preprocessor.fit_transform(X), columns=preprocessor.get_feature_names_out())\n",
    "X.head(3)"
   ]
  },
  {
   "cell_type": "code",
   "execution_count": 37,
   "id": "f2be553d-4fd4-423f-80d8-507c76d55e4e",
   "metadata": {},
   "outputs": [
    {
     "data": {
      "text/plain": [
       "['../preprocessor.pkl']"
      ]
     },
     "execution_count": 37,
     "metadata": {},
     "output_type": "execute_result"
    }
   ],
   "source": [
    "joblib.dump(encoder, '../encoder.pkl')\n",
    "joblib.dump(preprocessor, '../preprocessor.pkl')"
   ]
  },
  {
   "cell_type": "markdown",
   "id": "0b40af2a-0c52-48ef-8f39-078784aa4978",
   "metadata": {},
   "source": [
    "Разделим данные на обучающую и тестовую выборки в пропорции 80/20."
   ]
  },
  {
   "cell_type": "code",
   "execution_count": 20,
   "id": "2f7cec13-b827-4906-ab56-e3651a1a462d",
   "metadata": {},
   "outputs": [],
   "source": [
    "X_train, X_test, y_train, y_test = train_test_split(X, y, test_size=0.2, random_state=111)"
   ]
  },
  {
   "cell_type": "markdown",
   "id": "d9a1729e-ab4d-448e-a994-686e284dd59b",
   "metadata": {},
   "source": [
    "####"
   ]
  },
  {
   "cell_type": "markdown",
   "id": "31117ae9-429c-487f-8331-a5d7b830a500",
   "metadata": {},
   "source": [
    "### Проведем классификацию на выборке, сформированной в предыдущем модуле.\n",
    "\n",
    "Рассмотрим алгоритмы классификации:\n",
    "- **LogisticRegression** - статистическая модель, используемая для прогнозирования вероятности возникновения некоторого события путём его сравнения с логистической кривой.\n",
    "- **RandomForest** - строится на основе ансамбля деревьев решений. Основная идея заключается в том, чтобы создать множество деревьев решений и объединить их результаты для получения более точного прогноза.\n",
    "- **DecisionTree** -  метод представления решающих правил в определенной иерархии, включающей в себя элементы двух типов — узлов (node) и листьев (leaf). Узлы включают в себя решающие правила и производят проверку примеров на соответствие выбранного атрибута обучающего множества.\n",
    "\n",
    "Оценивать модели будем по 3 метрикам:\n",
    "- **accuracy**\n",
    "- **precision**\n",
    "- **f1**"
   ]
  },
  {
   "cell_type": "markdown",
   "id": "33ddb383-00db-471c-80c1-29fb2050a2dc",
   "metadata": {},
   "source": [
    "### LogisticRegression"
   ]
  },
  {
   "cell_type": "code",
   "execution_count": 23,
   "id": "7f03518f-ba60-401c-b2e9-3a1b9a42280a",
   "metadata": {},
   "outputs": [],
   "source": [
    "lr = LogisticRegression()\n",
    "lr.fit(X_train, y_train)\n",
    "lr_pred = lr.predict(X_test)"
   ]
  },
  {
   "cell_type": "markdown",
   "id": "bae7f5be-b001-45fc-b0e5-5f62ff07e748",
   "metadata": {},
   "source": [
    "#### Метрики"
   ]
  },
  {
   "cell_type": "code",
   "execution_count": 28,
   "id": "d397f299-00ba-4daa-9196-87d02ef430a9",
   "metadata": {},
   "outputs": [
    {
     "name": "stdout",
     "output_type": "stream",
     "text": [
      "Acccuracy для данной модели: 1.00\n",
      "Recall для данной модели: 1.00\n",
      "F1 для данной модели: 1.00\n"
     ]
    }
   ],
   "source": [
    "print(f'Acccuracy для данной модели: {accuracy_score(y_test, lr_pred):.2f}')\n",
    "print(f'Recall для данной модели: {recall_score(y_test, lr_pred, average='micro'):.2f}')\n",
    "print(f'F1 для данной модели: {f1_score(y_test, lr_pred, average='micro'):.2f}')"
   ]
  },
  {
   "cell_type": "markdown",
   "id": "06158f5f-6cbf-418b-b9da-6557a0ebadc4",
   "metadata": {},
   "source": [
    "### RandomForest"
   ]
  },
  {
   "cell_type": "code",
   "execution_count": 29,
   "id": "6e522307-427d-4db3-97ea-bd2644d3da19",
   "metadata": {},
   "outputs": [],
   "source": [
    "rf = RandomForestClassifier()\n",
    "rf.fit(X_train, y_train)\n",
    "rf_pred = rf.predict(X_test)"
   ]
  },
  {
   "cell_type": "markdown",
   "id": "37e916f4-948a-4b1d-a173-5fcbb56d6f2f",
   "metadata": {},
   "source": [
    "#### Метрики"
   ]
  },
  {
   "cell_type": "code",
   "execution_count": 30,
   "id": "1fcf9e96-678a-4a5f-bb24-515ead843541",
   "metadata": {},
   "outputs": [
    {
     "name": "stdout",
     "output_type": "stream",
     "text": [
      "Acccuracy для данной модели: 1.00\n",
      "Recall для данной модели: 1.00\n",
      "F1 для данной модели: 1.00\n"
     ]
    }
   ],
   "source": [
    "print(f'Acccuracy для данной модели: {accuracy_score(y_test, rf_pred):.2f}')\n",
    "print(f'Recall для данной модели: {recall_score(y_test, rf_pred, average='micro'):.2f}')\n",
    "print(f'F1 для данной модели: {f1_score(y_test, rf_pred, average='micro'):.2f}')"
   ]
  },
  {
   "cell_type": "markdown",
   "id": "23d73c2a-9bf6-496d-bb2d-ea79fb3e8f6d",
   "metadata": {},
   "source": [
    "### DecisionTree"
   ]
  },
  {
   "cell_type": "code",
   "execution_count": 31,
   "id": "9827d86b-9733-4cfc-bcc4-cc281b5bc101",
   "metadata": {},
   "outputs": [],
   "source": [
    "dt = DecisionTreeClassifier()\n",
    "dt.fit(X_train, y_train)\n",
    "dt_pred = dt.predict(X_test)"
   ]
  },
  {
   "cell_type": "markdown",
   "id": "b8f08e70-3fea-4c94-b5c9-8ef78b41712a",
   "metadata": {},
   "source": [
    "#### Метрики"
   ]
  },
  {
   "cell_type": "code",
   "execution_count": 32,
   "id": "00dfd0c8-c075-415c-bac7-95d02acea841",
   "metadata": {},
   "outputs": [
    {
     "name": "stdout",
     "output_type": "stream",
     "text": [
      "Acccuracy для данной модели: 1.00\n",
      "Recall для данной модели: 1.00\n",
      "F1 для данной модели: 1.00\n"
     ]
    }
   ],
   "source": [
    "print(f'Acccuracy для данной модели: {accuracy_score(y_test, dt_pred):.2f}')\n",
    "print(f'Recall для данной модели: {recall_score(y_test, dt_pred, average='micro'):.2f}')\n",
    "print(f'F1 для данной модели: {f1_score(y_test, dt_pred, average='micro'):.2f}')"
   ]
  },
  {
   "cell_type": "markdown",
   "id": "b7edb391-afca-4e28-9bcb-36e108721362",
   "metadata": {},
   "source": [
    "### Вывод\n",
    "\n",
    "Все модели показали отличную точность на тестовой выборке. Отдадим предпочтение модели **LogisticRegression** за ее скорость.\n",
    "\n",
    "Будем использовать эту модель для дальнейшей работы."
   ]
  },
  {
   "cell_type": "code",
   "execution_count": 36,
   "id": "27752ea7-2f62-4a58-94f1-a604520c50de",
   "metadata": {},
   "outputs": [
    {
     "data": {
      "text/plain": [
       "['../lr.pkl']"
      ]
     },
     "execution_count": 36,
     "metadata": {},
     "output_type": "execute_result"
    }
   ],
   "source": [
    "joblib.dump(lr, '../lr.pkl')"
   ]
  },
  {
   "cell_type": "markdown",
   "id": "bd7888c6-964b-498c-bdb1-0a84d7aed288",
   "metadata": {},
   "source": [
    "#"
   ]
  },
  {
   "cell_type": "markdown",
   "id": "bb6fb88e-e778-4c78-9c02-4f84633d974e",
   "metadata": {},
   "source": [
    "# 3.2 Организация непрерывного обучения\n",
    "\n",
    "Демонстрация непрерывного обучения представлена в каталоге ```stream_training```"
   ]
  },
  {
   "cell_type": "markdown",
   "id": "244f40c2-0519-4c34-8c30-22c6200c23a6",
   "metadata": {},
   "source": [
    "#"
   ]
  },
  {
   "cell_type": "markdown",
   "id": "c081af32-6e55-46bb-ac03-e1b67e1c1cc7",
   "metadata": {},
   "source": [
    "# 3.3 Прогнозирование динамики изменения характеристик"
   ]
  },
  {
   "cell_type": "markdown",
   "id": "432bc003-2df8-465d-bf1b-a18ba5f88fa4",
   "metadata": {},
   "source": [
    "Переформируем набор данных для обучения алгоритмов регрессии."
   ]
  },
  {
   "cell_type": "code",
   "execution_count": 6,
   "id": "3c63e1ad-d06e-4f5c-9551-9c952931b673",
   "metadata": {},
   "outputs": [
    {
     "data": {
      "text/html": [
       "<div>\n",
       "<style scoped>\n",
       "    .dataframe tbody tr th:only-of-type {\n",
       "        vertical-align: middle;\n",
       "    }\n",
       "\n",
       "    .dataframe tbody tr th {\n",
       "        vertical-align: top;\n",
       "    }\n",
       "\n",
       "    .dataframe thead th {\n",
       "        text-align: right;\n",
       "    }\n",
       "</style>\n",
       "<table border=\"1\" class=\"dataframe\">\n",
       "  <thead>\n",
       "    <tr style=\"text-align: right;\">\n",
       "      <th></th>\n",
       "      <th>year</th>\n",
       "      <th>month</th>\n",
       "      <th>day</th>\n",
       "      <th>cluster</th>\n",
       "    </tr>\n",
       "  </thead>\n",
       "  <tbody>\n",
       "    <tr>\n",
       "      <th>1980325</th>\n",
       "      <td>0.0</td>\n",
       "      <td>0.271089</td>\n",
       "      <td>0.552272</td>\n",
       "      <td>1.297679</td>\n",
       "    </tr>\n",
       "    <tr>\n",
       "      <th>1555626</th>\n",
       "      <td>0.0</td>\n",
       "      <td>1.167418</td>\n",
       "      <td>1.821291</td>\n",
       "      <td>-0.032595</td>\n",
       "    </tr>\n",
       "    <tr>\n",
       "      <th>1273168</th>\n",
       "      <td>0.0</td>\n",
       "      <td>-0.625239</td>\n",
       "      <td>-0.832113</td>\n",
       "      <td>1.297679</td>\n",
       "    </tr>\n",
       "  </tbody>\n",
       "</table>\n",
       "</div>"
      ],
      "text/plain": [
       "         year     month       day   cluster\n",
       "1980325   0.0  0.271089  0.552272  1.297679\n",
       "1555626   0.0  1.167418  1.821291 -0.032595\n",
       "1273168   0.0 -0.625239 -0.832113  1.297679"
      ]
     },
     "execution_count": 6,
     "metadata": {},
     "output_type": "execute_result"
    }
   ],
   "source": [
    "X = data.drop(['num_val'], axis=1)[['year', 'month', 'day', 'cluster']]\n",
    "y = data['num_val']\n",
    "\n",
    "preprocessor = Pipeline([\n",
    "    ('imputer', SimpleImputer(strategy='median')),\n",
    "    ('scaler', StandardScaler())\n",
    "])\n",
    "\n",
    "X = pd.DataFrame(preprocessor.fit_transform(X), columns=preprocessor.get_feature_names_out())\n",
    "\n",
    "joblib.dump(preprocessor, '../preprocessor_reg.pkl')\n",
    "\n",
    "X_train, X_test, y_train, y_test = train_test_split(X[['year', 'month', 'day', 'cluster']], y, test_size=0.2, random_state=111)\n",
    "\n",
    "X_train.head(3)"
   ]
  },
  {
   "cell_type": "markdown",
   "id": "7182e68d-92a2-4b28-9938-4f4193d883cd",
   "metadata": {},
   "source": [
    "### Рассмотрим алгоримты регрессии:\n",
    "- **LinearRegression**\n",
    "- **Ridge**\n",
    "- **Lasso**\n",
    "\n",
    "\n",
    "Выберем модель, согласно метрике **R2**."
   ]
  },
  {
   "cell_type": "markdown",
   "id": "4d3654d2-0978-4bcd-adb2-58ca108fe4f1",
   "metadata": {},
   "source": [
    "## LinearRegression"
   ]
  },
  {
   "cell_type": "code",
   "execution_count": 20,
   "id": "3870ecae-acec-4d35-bf70-80a192db9e69",
   "metadata": {},
   "outputs": [
    {
     "data": {
      "text/plain": [
       "['../linear_reg.pkl']"
      ]
     },
     "execution_count": 20,
     "metadata": {},
     "output_type": "execute_result"
    }
   ],
   "source": [
    "linear_reg = LinearRegression()\n",
    "linear_reg.fit(X_train, y_train)\n",
    "linear_reg_pred = linear_reg.predict(X_test)\n",
    "joblib.dump(linear_reg, '../linear_reg.pkl')"
   ]
  },
  {
   "cell_type": "markdown",
   "id": "80087a13-23f8-46df-a338-dd70b2fe7e4a",
   "metadata": {},
   "source": [
    "### Метрика"
   ]
  },
  {
   "cell_type": "code",
   "execution_count": 21,
   "id": "648c79c0-1797-47ae-9a44-0f82218e60f6",
   "metadata": {},
   "outputs": [
    {
     "name": "stdout",
     "output_type": "stream",
     "text": [
      "Метрика R2 для данной модели составяет: 0.07\n"
     ]
    }
   ],
   "source": [
    "print(f'Метрика R2 для данной модели составяет: {r2_score(y_test, linear_reg_pred):.2f}')"
   ]
  },
  {
   "cell_type": "markdown",
   "id": "2339eccb-87bb-45c0-a357-6a5e85d277c8",
   "metadata": {},
   "source": [
    "## Ridge"
   ]
  },
  {
   "cell_type": "code",
   "execution_count": 22,
   "id": "6fd1652f-e93a-4116-bcf4-65fc9d2ba552",
   "metadata": {},
   "outputs": [
    {
     "data": {
      "text/plain": [
       "['../ridge.pkl']"
      ]
     },
     "execution_count": 22,
     "metadata": {},
     "output_type": "execute_result"
    }
   ],
   "source": [
    "ridge = Ridge()\n",
    "ridge.fit(X_train, y_train)\n",
    "ridge_pred = ridge.predict(X_test)\n",
    "joblib.dump(ridge, '../ridge.pkl')"
   ]
  },
  {
   "cell_type": "markdown",
   "id": "a87d186a-5454-4b49-99f3-58074b0e1291",
   "metadata": {},
   "source": [
    "### Метрика"
   ]
  },
  {
   "cell_type": "code",
   "execution_count": 23,
   "id": "7c171c73-a9f1-4e66-b7b5-022c687e66b3",
   "metadata": {},
   "outputs": [
    {
     "name": "stdout",
     "output_type": "stream",
     "text": [
      "Метрика R2 для данной модели составяет: 0.07\n"
     ]
    }
   ],
   "source": [
    "print(f'Метрика R2 для данной модели составяет: {r2_score(y_test, ridge_pred):.2f}')"
   ]
  },
  {
   "cell_type": "markdown",
   "id": "7c1330dc-b564-4014-a5bb-65a29236bcd5",
   "metadata": {},
   "source": [
    "## Lasso"
   ]
  },
  {
   "cell_type": "code",
   "execution_count": 24,
   "id": "f0d053bf-701d-440d-bb97-524e0c41badd",
   "metadata": {},
   "outputs": [
    {
     "data": {
      "text/plain": [
       "['../lasso.pkl']"
      ]
     },
     "execution_count": 24,
     "metadata": {},
     "output_type": "execute_result"
    }
   ],
   "source": [
    "lasso = Lasso()\n",
    "lasso.fit(X_train, y_train)\n",
    "lasso_pred = lasso.predict(X_test)\n",
    "joblib.dump(lasso, '../lasso.pkl')"
   ]
  },
  {
   "cell_type": "markdown",
   "id": "4c05de21-c3f5-4148-81ee-8485e603fe0b",
   "metadata": {},
   "source": [
    "### Метрика"
   ]
  },
  {
   "cell_type": "code",
   "execution_count": 25,
   "id": "34eb3d7b-6697-43e4-8d10-73228abd6a4b",
   "metadata": {},
   "outputs": [
    {
     "name": "stdout",
     "output_type": "stream",
     "text": [
      "Метрика R2 для данной модели составяет: 0.07\n"
     ]
    }
   ],
   "source": [
    "print(f'Метрика R2 для данной модели составяет: {r2_score(y_test, lasso_pred):.2f}')"
   ]
  },
  {
   "cell_type": "markdown",
   "id": "0bfcf5b9-10af-42d1-9027-ded339e1d27c",
   "metadata": {},
   "source": [
    "### Вывод\n",
    "Для прогнозирования используем LinearRegression, так как при одинаковом качестве моделей, LinearRegression обучился быстрее всех."
   ]
  },
  {
   "cell_type": "markdown",
   "id": "18812cd8-e46f-4704-bb8c-f4a7f709abab",
   "metadata": {},
   "source": [
    "## Прогноз на 2 года"
   ]
  },
  {
   "cell_type": "code",
   "execution_count": 55,
   "id": "20bf4622-c558-4245-8c06-7a32ffd4d013",
   "metadata": {},
   "outputs": [
    {
     "data": {
      "text/html": [
       "<div>\n",
       "<style scoped>\n",
       "    .dataframe tbody tr th:only-of-type {\n",
       "        vertical-align: middle;\n",
       "    }\n",
       "\n",
       "    .dataframe tbody tr th {\n",
       "        vertical-align: top;\n",
       "    }\n",
       "\n",
       "    .dataframe thead th {\n",
       "        text-align: right;\n",
       "    }\n",
       "</style>\n",
       "<table border=\"1\" class=\"dataframe\">\n",
       "  <thead>\n",
       "    <tr style=\"text-align: right;\">\n",
       "      <th></th>\n",
       "      <th>date</th>\n",
       "      <th>cluster</th>\n",
       "      <th>year</th>\n",
       "      <th>month</th>\n",
       "      <th>day</th>\n",
       "    </tr>\n",
       "  </thead>\n",
       "  <tbody>\n",
       "    <tr>\n",
       "      <th>0</th>\n",
       "      <td>2023-09-01</td>\n",
       "      <td>0</td>\n",
       "      <td>-1.69553</td>\n",
       "      <td>0.719168</td>\n",
       "      <td>-1.674039</td>\n",
       "    </tr>\n",
       "    <tr>\n",
       "      <th>1</th>\n",
       "      <td>2023-09-02</td>\n",
       "      <td>0</td>\n",
       "      <td>-1.69553</td>\n",
       "      <td>0.719168</td>\n",
       "      <td>-1.560296</td>\n",
       "    </tr>\n",
       "    <tr>\n",
       "      <th>2</th>\n",
       "      <td>2023-09-03</td>\n",
       "      <td>0</td>\n",
       "      <td>-1.69553</td>\n",
       "      <td>0.719168</td>\n",
       "      <td>-1.446554</td>\n",
       "    </tr>\n",
       "    <tr>\n",
       "      <th>3</th>\n",
       "      <td>2023-09-04</td>\n",
       "      <td>0</td>\n",
       "      <td>-1.69553</td>\n",
       "      <td>0.719168</td>\n",
       "      <td>-1.332811</td>\n",
       "    </tr>\n",
       "    <tr>\n",
       "      <th>4</th>\n",
       "      <td>2023-09-05</td>\n",
       "      <td>0</td>\n",
       "      <td>-1.69553</td>\n",
       "      <td>0.719168</td>\n",
       "      <td>-1.219069</td>\n",
       "    </tr>\n",
       "  </tbody>\n",
       "</table>\n",
       "</div>"
      ],
      "text/plain": [
       "        date  cluster     year     month       day\n",
       "0 2023-09-01        0 -1.69553  0.719168 -1.674039\n",
       "1 2023-09-02        0 -1.69553  0.719168 -1.560296\n",
       "2 2023-09-03        0 -1.69553  0.719168 -1.446554\n",
       "3 2023-09-04        0 -1.69553  0.719168 -1.332811\n",
       "4 2023-09-05        0 -1.69553  0.719168 -1.219069"
      ]
     },
     "execution_count": 55,
     "metadata": {},
     "output_type": "execute_result"
    }
   ],
   "source": [
    "date = datetime.datetime(2023, 9, 1, 0, 0)\n",
    "# Создаем данные на 2 года\n",
    "date_interval = [date + datetime.timedelta(days=i) for i in range(365 + 365)]\n",
    "# Данные с учетом кластеров\n",
    "data_for_prediction = [pd.DataFrame({'date': date_interval, 'cluster': cluster}) for cluster in range(3)]\n",
    "data_for_prediction = pd.concat(data_for_prediction)\n",
    "data_for_prediction['year'] = data_for_prediction['date'].dt.year\n",
    "data_for_prediction['month'] = data_for_prediction['date'].dt.month\n",
    "data_for_prediction['day'] = data_for_prediction['date'].dt.day\n",
    "\n",
    "# Обрабатываем данные\n",
    "data_for_prediction[['year', 'month', 'day']] = \\\n",
    "pd.DataFrame(preprocessor.fit_transform(data_for_prediction[['year', 'month', 'day']]), columns=preprocessor.get_feature_names_out())\n",
    "\n",
    "data_for_prediction.head()"
   ]
  },
  {
   "cell_type": "code",
   "execution_count": 56,
   "id": "934267f2-d0fb-484c-9ac2-a17a5c0a1501",
   "metadata": {},
   "outputs": [],
   "source": [
    "data_for_prediction['prediction'] = linear_reg.predict(data_for_prediction[['year', 'month', 'day', 'cluster']])"
   ]
  },
  {
   "cell_type": "markdown",
   "id": "83707234-a358-4705-8234-a22e1e57c31a",
   "metadata": {},
   "source": [
    "### Визуализация прогнозирования"
   ]
  },
  {
   "cell_type": "code",
   "execution_count": 57,
   "id": "0e2b0a41-c1a7-4030-823e-78a88fe2ef81",
   "metadata": {},
   "outputs": [
    {
     "data": {
      "text/plain": [
       "<Axes: xlabel='date', ylabel='prediction'>"
      ]
     },
     "execution_count": 57,
     "metadata": {},
     "output_type": "execute_result"
    },
    {
     "data": {
      "image/png": "[encoded data removed]",
      "text/plain": [
       "<Figure size 1200x600 with 1 Axes>"
      ]
     },
     "metadata": {},
     "output_type": "display_data"
    }
   ],
   "source": [
    "plt.figure(figsize=(12, 6))\n",
    "sns.lineplot(data=data_for_prediction, x='date', y='prediction', hue='cluster')"
   ]
  },
  {
   "cell_type": "markdown",
   "id": "d9c80976-b8ae-42df-a19a-11af62695cdf",
   "metadata": {},
   "source": [
    "#### Проверка качества модели проведена в сравнительном анализе 3 алгоритмов регрессиии."
   ]
  },
  {
   "cell_type": "markdown",
   "id": "3d941883-bbe2-4e88-8dd5-e93264178e3f",
   "metadata": {},
   "source": [
    "# Отчет \n",
    "В ходе выполнения модуля С было сделано следующее:\n",
    "- Выбрана и обучена модель классификации.\n",
    "- Организовано непрерывное обучение модели.\n",
    "- Выполнено прогнозирование загруженности станции на 2 года вперед.\n",
    "- Подготовлен отчет."
   ]
  }
 ],
 "metadata": {
  "kernelspec": {
   "display_name": "Python 3 (ipykernel)",
   "language": "python",
   "name": "python3"
  },
  "language_info": {
   "codemirror_mode": {
    "name": "ipython",
    "version": 3
   },
   "file_extension": ".py",
   "mimetype": "text/x-python",
   "name": "python",
   "nbconvert_exporter": "python",
   "pygments_lexer": "ipython3",
   "version": "3.12.7"
  }
 },
 "nbformat": 4,
 "nbformat_minor": 5
}
