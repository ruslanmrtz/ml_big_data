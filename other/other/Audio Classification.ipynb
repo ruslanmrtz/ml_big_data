{
 "cells": [
  {
   "cell_type": "code",
   "execution_count": 1,
   "id": "95be215b-c58f-47e2-baad-31e64fa7617c",
   "metadata": {},
   "outputs": [],
   "source": [
    "!pip install librosa -q"
   ]
  },
  {
   "cell_type": "code",
   "execution_count": 47,
   "id": "22e1b6e1-d12b-4a56-94dd-a9efb77ec634",
   "metadata": {},
   "outputs": [],
   "source": [
    "import librosa\n",
    "import librosa.display\n",
    "\n",
    "import pandas as pd\n",
    "\n",
    "import matplotlib.pyplot as plt\n",
    "\n",
    "from tqdm import tqdm\n",
    "\n",
    "from sklearn.preprocessing import LabelEncoder\n",
    "from sklearn.model_selection import train_test_split\n",
    "from sklearn.linear_model import LogisticRegression\n",
    "from sklearn.metrics import accuracy_score, recall_score, f1_score"
   ]
  },
  {
   "cell_type": "markdown",
   "id": "69d57fea-fdec-4b20-9445-b07d103ce898",
   "metadata": {},
   "source": [
    "## Part 1"
   ]
  },
  {
   "cell_type": "code",
   "execution_count": 2,
   "id": "aeb5191b-19bc-4523-b9b7-40a15257bf3b",
   "metadata": {},
   "outputs": [
    {
     "name": "stdout",
     "output_type": "stream",
     "text": [
      "22050\n"
     ]
    },
    {
     "data": {
      "text/plain": [
       "<librosa.display.AdaptiveWaveplot at 0x2493708da90>"
      ]
     },
     "execution_count": 2,
     "metadata": {},
     "output_type": "execute_result"
    },
    {
     "data": {
      "image/png": "[encoded data removed]",
      "text/plain": [
       "<Figure size 640x480 with 1 Axes>"
      ]
     },
     "metadata": {},
     "output_type": "display_data"
    }
   ],
   "source": [
    "data, sr = librosa.load('UrbanSound8K/sample.wav')\n",
    "print(sr)\n",
    "librosa.display.waveshow(data, sr=sr)"
   ]
  },
  {
   "cell_type": "code",
   "execution_count": 6,
   "id": "9dd3f36a-f113-4177-8130-f72d354ff330",
   "metadata": {},
   "outputs": [],
   "source": [
    "# plt.plot(data)"
   ]
  },
  {
   "cell_type": "code",
   "execution_count": 3,
   "id": "9940a081-9007-4b51-8187-2a4a08054b33",
   "metadata": {},
   "outputs": [
    {
     "data": {
      "text/html": [
       "<div>\n",
       "<style scoped>\n",
       "    .dataframe tbody tr th:only-of-type {\n",
       "        vertical-align: middle;\n",
       "    }\n",
       "\n",
       "    .dataframe tbody tr th {\n",
       "        vertical-align: top;\n",
       "    }\n",
       "\n",
       "    .dataframe thead th {\n",
       "        text-align: right;\n",
       "    }\n",
       "</style>\n",
       "<table border=\"1\" class=\"dataframe\">\n",
       "  <thead>\n",
       "    <tr style=\"text-align: right;\">\n",
       "      <th></th>\n",
       "      <th>slice_file_name</th>\n",
       "      <th>fsID</th>\n",
       "      <th>start</th>\n",
       "      <th>end</th>\n",
       "      <th>salience</th>\n",
       "      <th>fold</th>\n",
       "      <th>classID</th>\n",
       "      <th>class</th>\n",
       "    </tr>\n",
       "  </thead>\n",
       "  <tbody>\n",
       "    <tr>\n",
       "      <th>0</th>\n",
       "      <td>100032-3-0-0.wav</td>\n",
       "      <td>100032</td>\n",
       "      <td>0.0</td>\n",
       "      <td>0.317551</td>\n",
       "      <td>1</td>\n",
       "      <td>5</td>\n",
       "      <td>3</td>\n",
       "      <td>dog_bark</td>\n",
       "    </tr>\n",
       "    <tr>\n",
       "      <th>1</th>\n",
       "      <td>100263-2-0-117.wav</td>\n",
       "      <td>100263</td>\n",
       "      <td>58.5</td>\n",
       "      <td>62.500000</td>\n",
       "      <td>1</td>\n",
       "      <td>5</td>\n",
       "      <td>2</td>\n",
       "      <td>children_playing</td>\n",
       "    </tr>\n",
       "    <tr>\n",
       "      <th>2</th>\n",
       "      <td>100263-2-0-121.wav</td>\n",
       "      <td>100263</td>\n",
       "      <td>60.5</td>\n",
       "      <td>64.500000</td>\n",
       "      <td>1</td>\n",
       "      <td>5</td>\n",
       "      <td>2</td>\n",
       "      <td>children_playing</td>\n",
       "    </tr>\n",
       "    <tr>\n",
       "      <th>3</th>\n",
       "      <td>100263-2-0-126.wav</td>\n",
       "      <td>100263</td>\n",
       "      <td>63.0</td>\n",
       "      <td>67.000000</td>\n",
       "      <td>1</td>\n",
       "      <td>5</td>\n",
       "      <td>2</td>\n",
       "      <td>children_playing</td>\n",
       "    </tr>\n",
       "    <tr>\n",
       "      <th>4</th>\n",
       "      <td>100263-2-0-137.wav</td>\n",
       "      <td>100263</td>\n",
       "      <td>68.5</td>\n",
       "      <td>72.500000</td>\n",
       "      <td>1</td>\n",
       "      <td>5</td>\n",
       "      <td>2</td>\n",
       "      <td>children_playing</td>\n",
       "    </tr>\n",
       "  </tbody>\n",
       "</table>\n",
       "</div>"
      ],
      "text/plain": [
       "      slice_file_name    fsID  start        end  salience  fold  classID  \\\n",
       "0    100032-3-0-0.wav  100032    0.0   0.317551         1     5        3   \n",
       "1  100263-2-0-117.wav  100263   58.5  62.500000         1     5        2   \n",
       "2  100263-2-0-121.wav  100263   60.5  64.500000         1     5        2   \n",
       "3  100263-2-0-126.wav  100263   63.0  67.000000         1     5        2   \n",
       "4  100263-2-0-137.wav  100263   68.5  72.500000         1     5        2   \n",
       "\n",
       "              class  \n",
       "0          dog_bark  \n",
       "1  children_playing  \n",
       "2  children_playing  \n",
       "3  children_playing  \n",
       "4  children_playing  "
      ]
     },
     "execution_count": 3,
     "metadata": {},
     "output_type": "execute_result"
    }
   ],
   "source": [
    "metadata = pd.read_csv('UrbanSound8K/metadata/UrbanSound8K.csv')\n",
    "metadata.head()"
   ]
  },
  {
   "cell_type": "markdown",
   "id": "f7d3b980-a571-4f3b-8541-6d223ea45984",
   "metadata": {},
   "source": [
    "## Part 2"
   ]
  },
  {
   "cell_type": "markdown",
   "id": "4cf2708a-a8f2-4ddc-bfaf-092cf85b4f09",
   "metadata": {},
   "source": [
    "### Mel"
   ]
  },
  {
   "cell_type": "code",
   "execution_count": 14,
   "id": "ad35403e-94f7-4966-8bf3-7a4c05d7f69f",
   "metadata": {},
   "outputs": [
    {
     "data": {
      "text/plain": [
       "(20, 173)"
      ]
     },
     "execution_count": 14,
     "metadata": {},
     "output_type": "execute_result"
    }
   ],
   "source": [
    "mel = librosa.feature.mfcc(y=data, sr=sr)\n",
    "\n",
    "mel.shape"
   ]
  },
  {
   "cell_type": "code",
   "execution_count": 28,
   "id": "d53d8524-127e-45cb-926a-91be1dddc823",
   "metadata": {},
   "outputs": [],
   "source": [
    "def feature_extractor(file):\n",
    "    audio, sr = librosa.load(file)\n",
    "    mel_features = librosa.feature.mfcc(y=audio, sr=sr)\n",
    "    features = mel_features.mean(axis=1)\n",
    "    return features"
   ]
  },
  {
   "cell_type": "code",
   "execution_count": 55,
   "id": "2e222194-fe9a-45e6-acf1-d62937411f03",
   "metadata": {},
   "outputs": [
    {
     "name": "stderr",
     "output_type": "stream",
     "text": [
      "C:\\Python312\\Lib\\site-packages\\librosa\\core\\spectrum.py:266: UserWarning: n_fft=2048 is too large for input signal of length=1323\n",
      "  warnings.warn(\n",
      "C:\\Python312\\Lib\\site-packages\\librosa\\core\\spectrum.py:266: UserWarning: n_fft=2048 is too large for input signal of length=1103\n",
      "  warnings.warn(\n",
      "C:\\Python312\\Lib\\site-packages\\librosa\\core\\spectrum.py:266: UserWarning: n_fft=2048 is too large for input signal of length=1523\n",
      "  warnings.warn(\n",
      "8732it [01:41, 86.13it/s]\n"
     ]
    },
    {
     "data": {
      "text/html": [
       "<div>\n",
       "<style scoped>\n",
       "    .dataframe tbody tr th:only-of-type {\n",
       "        vertical-align: middle;\n",
       "    }\n",
       "\n",
       "    .dataframe tbody tr th {\n",
       "        vertical-align: top;\n",
       "    }\n",
       "\n",
       "    .dataframe thead th {\n",
       "        text-align: right;\n",
       "    }\n",
       "</style>\n",
       "<table border=\"1\" class=\"dataframe\">\n",
       "  <thead>\n",
       "    <tr style=\"text-align: right;\">\n",
       "      <th></th>\n",
       "      <th>0</th>\n",
       "      <th>1</th>\n",
       "      <th>2</th>\n",
       "      <th>3</th>\n",
       "      <th>4</th>\n",
       "      <th>5</th>\n",
       "      <th>6</th>\n",
       "      <th>7</th>\n",
       "      <th>8</th>\n",
       "      <th>9</th>\n",
       "      <th>10</th>\n",
       "      <th>11</th>\n",
       "      <th>12</th>\n",
       "      <th>13</th>\n",
       "      <th>14</th>\n",
       "      <th>15</th>\n",
       "      <th>16</th>\n",
       "      <th>17</th>\n",
       "      <th>18</th>\n",
       "      <th>19</th>\n",
       "    </tr>\n",
       "  </thead>\n",
       "  <tbody>\n",
       "    <tr>\n",
       "      <th>0</th>\n",
       "      <td>-211.936981</td>\n",
       "      <td>62.581207</td>\n",
       "      <td>-122.813148</td>\n",
       "      <td>-60.745281</td>\n",
       "      <td>-13.893760</td>\n",
       "      <td>-29.789835</td>\n",
       "      <td>-3.978875</td>\n",
       "      <td>11.682742</td>\n",
       "      <td>12.963828</td>\n",
       "      <td>8.336421</td>\n",
       "      <td>-6.529819</td>\n",
       "      <td>-2.996106</td>\n",
       "      <td>-12.887950</td>\n",
       "      <td>5.885932</td>\n",
       "      <td>-2.475225</td>\n",
       "      <td>-4.408312</td>\n",
       "      <td>-15.014476</td>\n",
       "      <td>-0.943997</td>\n",
       "      <td>-2.579910</td>\n",
       "      <td>6.098297</td>\n",
       "    </tr>\n",
       "    <tr>\n",
       "      <th>1</th>\n",
       "      <td>-417.005188</td>\n",
       "      <td>99.336624</td>\n",
       "      <td>-42.995586</td>\n",
       "      <td>51.073326</td>\n",
       "      <td>9.853778</td>\n",
       "      <td>7.969693</td>\n",
       "      <td>11.197088</td>\n",
       "      <td>1.929117</td>\n",
       "      <td>7.030398</td>\n",
       "      <td>4.270228</td>\n",
       "      <td>-3.584726</td>\n",
       "      <td>13.890946</td>\n",
       "      <td>-2.764493</td>\n",
       "      <td>7.272555</td>\n",
       "      <td>5.534419</td>\n",
       "      <td>1.869291</td>\n",
       "      <td>1.725747</td>\n",
       "      <td>7.038669</td>\n",
       "      <td>-2.442267</td>\n",
       "      <td>3.473614</td>\n",
       "    </tr>\n",
       "    <tr>\n",
       "      <th>2</th>\n",
       "      <td>-452.393158</td>\n",
       "      <td>112.362534</td>\n",
       "      <td>-37.578072</td>\n",
       "      <td>43.195866</td>\n",
       "      <td>8.631845</td>\n",
       "      <td>15.379368</td>\n",
       "      <td>16.882149</td>\n",
       "      <td>1.233047</td>\n",
       "      <td>6.833122</td>\n",
       "      <td>3.900115</td>\n",
       "      <td>-5.168849</td>\n",
       "      <td>8.300045</td>\n",
       "      <td>1.904139</td>\n",
       "      <td>6.658551</td>\n",
       "      <td>3.820611</td>\n",
       "      <td>2.901615</td>\n",
       "      <td>-3.597534</td>\n",
       "      <td>0.822254</td>\n",
       "      <td>-0.118684</td>\n",
       "      <td>9.371599</td>\n",
       "    </tr>\n",
       "    <tr>\n",
       "      <th>3</th>\n",
       "      <td>-406.479218</td>\n",
       "      <td>91.196602</td>\n",
       "      <td>-25.043556</td>\n",
       "      <td>42.784519</td>\n",
       "      <td>11.586843</td>\n",
       "      <td>5.054165</td>\n",
       "      <td>12.431632</td>\n",
       "      <td>-1.599948</td>\n",
       "      <td>6.656064</td>\n",
       "      <td>1.442355</td>\n",
       "      <td>-4.624870</td>\n",
       "      <td>14.211005</td>\n",
       "      <td>0.434271</td>\n",
       "      <td>6.992811</td>\n",
       "      <td>0.463176</td>\n",
       "      <td>-0.498952</td>\n",
       "      <td>3.337569</td>\n",
       "      <td>4.208089</td>\n",
       "      <td>2.285111</td>\n",
       "      <td>3.382272</td>\n",
       "    </tr>\n",
       "    <tr>\n",
       "      <th>4</th>\n",
       "      <td>-439.638672</td>\n",
       "      <td>103.862244</td>\n",
       "      <td>-42.658783</td>\n",
       "      <td>50.690277</td>\n",
       "      <td>12.209422</td>\n",
       "      <td>15.873465</td>\n",
       "      <td>11.729268</td>\n",
       "      <td>1.533585</td>\n",
       "      <td>11.292244</td>\n",
       "      <td>2.548622</td>\n",
       "      <td>-7.290973</td>\n",
       "      <td>10.374461</td>\n",
       "      <td>2.101837</td>\n",
       "      <td>4.698793</td>\n",
       "      <td>6.547027</td>\n",
       "      <td>5.372394</td>\n",
       "      <td>-2.190753</td>\n",
       "      <td>1.980403</td>\n",
       "      <td>-4.660390</td>\n",
       "      <td>9.253263</td>\n",
       "    </tr>\n",
       "  </tbody>\n",
       "</table>\n",
       "</div>"
      ],
      "text/plain": [
       "           0           1           2          3          4          5   \\\n",
       "0 -211.936981   62.581207 -122.813148 -60.745281 -13.893760 -29.789835   \n",
       "1 -417.005188   99.336624  -42.995586  51.073326   9.853778   7.969693   \n",
       "2 -452.393158  112.362534  -37.578072  43.195866   8.631845  15.379368   \n",
       "3 -406.479218   91.196602  -25.043556  42.784519  11.586843   5.054165   \n",
       "4 -439.638672  103.862244  -42.658783  50.690277  12.209422  15.873465   \n",
       "\n",
       "          6          7          8         9         10         11         12  \\\n",
       "0  -3.978875  11.682742  12.963828  8.336421 -6.529819  -2.996106 -12.887950   \n",
       "1  11.197088   1.929117   7.030398  4.270228 -3.584726  13.890946  -2.764493   \n",
       "2  16.882149   1.233047   6.833122  3.900115 -5.168849   8.300045   1.904139   \n",
       "3  12.431632  -1.599948   6.656064  1.442355 -4.624870  14.211005   0.434271   \n",
       "4  11.729268   1.533585  11.292244  2.548622 -7.290973  10.374461   2.101837   \n",
       "\n",
       "         13        14        15         16        17        18        19  \n",
       "0  5.885932 -2.475225 -4.408312 -15.014476 -0.943997 -2.579910  6.098297  \n",
       "1  7.272555  5.534419  1.869291   1.725747  7.038669 -2.442267  3.473614  \n",
       "2  6.658551  3.820611  2.901615  -3.597534  0.822254 -0.118684  9.371599  \n",
       "3  6.992811  0.463176 -0.498952   3.337569  4.208089  2.285111  3.382272  \n",
       "4  4.698793  6.547027  5.372394  -2.190753  1.980403 -4.660390  9.253263  "
      ]
     },
     "execution_count": 55,
     "metadata": {},
     "output_type": "execute_result"
    }
   ],
   "source": [
    "lst = []\n",
    "\n",
    "for i, file in tqdm(metadata.iterrows()):\n",
    "    path_file = f'UrbanSound8K/audio/fold{file.fold}/{file.slice_file_name}'\n",
    "    feature = feature_extractor(path_file)\n",
    "    lst.append(feature)\n",
    "\n",
    "X = pd.DataFrame(lst)\n",
    "y = metadata['class']\n",
    "encoder = LabelEncoder()\n",
    "y = encoder.fit_transform(y)\n",
    "X.head()"
   ]
  },
  {
   "cell_type": "code",
   "execution_count": 57,
   "id": "233b8af0-ff82-4e25-b429-8efc13e0625f",
   "metadata": {},
   "outputs": [],
   "source": [
    "X_train, X_test, y_train, y_test = train_test_split(X, y, test_size=0.2)"
   ]
  },
  {
   "cell_type": "markdown",
   "id": "edf4a15c-a888-4237-a3c9-7d17e95bfe1e",
   "metadata": {},
   "source": [
    "### Train Model"
   ]
  },
  {
   "cell_type": "code",
   "execution_count": 59,
   "id": "d2674f52-ac59-41a8-8408-e4d333ccde3b",
   "metadata": {},
   "outputs": [
    {
     "name": "stdout",
     "output_type": "stream",
     "text": [
      "Accuracy:  0.5357756153405838\n",
      "Recall:  0.5357756153405838\n",
      "F1:  0.5272830032896292\n"
     ]
    }
   ],
   "source": [
    "lr = LogisticRegression(max_iter=10000)\n",
    "lr.fit(X_train, y_train)\n",
    "y_pred = lr.predict(X_test)\n",
    "print('Accuracy: ', accuracy_score(y_test, y_pred))\n",
    "print('Recall: ', recall_score(y_test, y_pred, average='weighted'))\n",
    "print('F1: ', f1_score(y_test, y_pred, average='weighted'))"
   ]
  }
 ],
 "metadata": {
  "kernelspec": {
   "display_name": "Python 3 (ipykernel)",
   "language": "python",
   "name": "python3"
  },
  "language_info": {
   "codemirror_mode": {
    "name": "ipython",
    "version": 3
   },
   "file_extension": ".py",
   "mimetype": "text/x-python",
   "name": "python",
   "nbconvert_exporter": "python",
   "pygments_lexer": "ipython3",
   "version": "3.12.7"
  }
 },
 "nbformat": 4,
 "nbformat_minor": 5
}
