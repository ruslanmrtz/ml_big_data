{
 "cells": [
  {
   "cell_type": "markdown",
   "id": "ed5289bc-3d68-4731-94d3-697805c4257b",
   "metadata": {},
   "source": [
    "# Импорт библиотек"
   ]
  },
  {
   "cell_type": "code",
   "execution_count": 1,
   "id": "05d23eb0-e108-4771-a670-e4d857912d8d",
   "metadata": {},
   "outputs": [],
   "source": [
    "import pandas as pd\n",
    "import numpy as np\n",
    "\n",
    "from sklearn.cluster import KMeans, MiniBatchKMeans, Birch\n",
    "from sklearn.pipeline import Pipeline\n",
    "from sklearn.preprocessing import StandardScaler\n",
    "from sklearn.impute import SimpleImputer\n",
    "from sklearn.metrics import davies_bouldin_score, silhouette_score, calinski_harabasz_score\n",
    "from sklearn.decomposition import PCA\n",
    "\n",
    "\n",
    "import matplotlib.pyplot as plt\n",
    "import seaborn as sns"
   ]
  },
  {
   "cell_type": "code",
   "execution_count": 2,
   "id": "e55fe49d-683e-4eda-95a3-18088e0dbb7f",
   "metadata": {},
   "outputs": [
    {
     "data": {
      "text/plain": [
       "46"
      ]
     },
     "execution_count": 2,
     "metadata": {},
     "output_type": "execute_result"
    }
   ],
   "source": [
    "np.random.randint(1, 100)"
   ]
  },
  {
   "cell_type": "markdown",
   "id": "47366f2a-d8b6-4830-a568-e094edd0aab8",
   "metadata": {},
   "source": [
    "# Импорт данных"
   ]
  },
  {
   "cell_type": "markdown",
   "id": "82f4f9e3-4920-4623-a83c-3cfb9f3e3e6d",
   "metadata": {},
   "source": [
    "Загрузим данные, обработанные в Модуле А."
   ]
  },
  {
   "cell_type": "code",
   "execution_count": 3,
   "id": "c13ec632-7da8-4505-9ca8-cd91ffafb910",
   "metadata": {},
   "outputs": [],
   "source": [
    "columns_dict = {\n",
    "    'VendorID': 'Int32',\n",
    "    'tpep_pickup_datetime': 'object',\n",
    "    'tpep_pickup_datetime': 'object',\n",
    "    'passenger_count': 'Int32',\n",
    "    'trip_distance': 'float32',\n",
    "    'RatecodeID': 'Int32',\n",
    "    'store_and_fwd_flag': 'object',\n",
    "    'PULocationID': 'Int32',\n",
    "    'DOLocationID': 'Int32',\n",
    "    'payment_type': 'Int32',\n",
    "    'fare_amount': 'float32',\n",
    "    'extra': 'float32',\n",
    "    'mta_tax': 'float32',\n",
    "    'tip_amount': 'float32',\n",
    "    'tolls_amount': 'float32',\n",
    "    'improvement_surcharge': 'float32',\n",
    "    'total_amount': 'float32',\n",
    "    'congestion_surcharge': 'object',\n",
    "}"
   ]
  },
  {
   "cell_type": "code",
   "execution_count": 4,
   "id": "6df80b55-bc30-428a-91b7-e5e07794c9e3",
   "metadata": {},
   "outputs": [],
   "source": [
    "taxi19 = pd.read_csv('data/taxi19_preprocess.csv', dtype=columns_dict)\n",
    "taxi20 = pd.read_csv('data/taxi20_preprocess.csv', dtype=columns_dict)\n",
    "taxi21 = pd.read_csv('data/taxi21_preprocess.csv', dtype=columns_dict)"
   ]
  },
  {
   "cell_type": "markdown",
   "id": "8b3d7ebd-21fb-464f-a0c9-cdbdd23821e0",
   "metadata": {},
   "source": [
    "Соеденим датасеты по годам для упрощения процесса кластеризации. <br>\n",
    "Будет использовать только колонки, отобранные из модуля А."
   ]
  },
  {
   "cell_type": "code",
   "execution_count": 5,
   "id": "a15f1725-6538-4793-97b1-ea3f45494f87",
   "metadata": {},
   "outputs": [
    {
     "data": {
      "text/html": [
       "<div>\n",
       "<style scoped>\n",
       "    .dataframe tbody tr th:only-of-type {\n",
       "        vertical-align: middle;\n",
       "    }\n",
       "\n",
       "    .dataframe tbody tr th {\n",
       "        vertical-align: top;\n",
       "    }\n",
       "\n",
       "    .dataframe thead th {\n",
       "        text-align: right;\n",
       "    }\n",
       "</style>\n",
       "<table border=\"1\" class=\"dataframe\">\n",
       "  <thead>\n",
       "    <tr style=\"text-align: right;\">\n",
       "      <th></th>\n",
       "      <th>payment_type</th>\n",
       "      <th>tolls_amount</th>\n",
       "      <th>total_amount</th>\n",
       "      <th>fare_amount</th>\n",
       "      <th>trip_distance</th>\n",
       "      <th>improvement_surcharge</th>\n",
       "      <th>day</th>\n",
       "      <th>month</th>\n",
       "      <th>year</th>\n",
       "    </tr>\n",
       "  </thead>\n",
       "  <tbody>\n",
       "    <tr>\n",
       "      <th>0</th>\n",
       "      <td>1</td>\n",
       "      <td>0.0</td>\n",
       "      <td>13.560000</td>\n",
       "      <td>7.0</td>\n",
       "      <td>1.68</td>\n",
       "      <td>0.3</td>\n",
       "      <td>16</td>\n",
       "      <td>8</td>\n",
       "      <td>2019</td>\n",
       "    </tr>\n",
       "    <tr>\n",
       "      <th>1</th>\n",
       "      <td>2</td>\n",
       "      <td>0.0</td>\n",
       "      <td>19.799999</td>\n",
       "      <td>16.5</td>\n",
       "      <td>3.56</td>\n",
       "      <td>0.3</td>\n",
       "      <td>4</td>\n",
       "      <td>11</td>\n",
       "      <td>2019</td>\n",
       "    </tr>\n",
       "    <tr>\n",
       "      <th>2</th>\n",
       "      <td>2</td>\n",
       "      <td>0.0</td>\n",
       "      <td>8.300000</td>\n",
       "      <td>7.0</td>\n",
       "      <td>1.40</td>\n",
       "      <td>0.3</td>\n",
       "      <td>1</td>\n",
       "      <td>1</td>\n",
       "      <td>2019</td>\n",
       "    </tr>\n",
       "    <tr>\n",
       "      <th>3</th>\n",
       "      <td>2</td>\n",
       "      <td>0.0</td>\n",
       "      <td>13.300000</td>\n",
       "      <td>9.5</td>\n",
       "      <td>1.64</td>\n",
       "      <td>0.3</td>\n",
       "      <td>7</td>\n",
       "      <td>7</td>\n",
       "      <td>2019</td>\n",
       "    </tr>\n",
       "    <tr>\n",
       "      <th>4</th>\n",
       "      <td>1</td>\n",
       "      <td>0.0</td>\n",
       "      <td>14.300000</td>\n",
       "      <td>8.5</td>\n",
       "      <td>1.90</td>\n",
       "      <td>0.3</td>\n",
       "      <td>3</td>\n",
       "      <td>5</td>\n",
       "      <td>2019</td>\n",
       "    </tr>\n",
       "  </tbody>\n",
       "</table>\n",
       "</div>"
      ],
      "text/plain": [
       "   payment_type  tolls_amount  total_amount  fare_amount  trip_distance  \\\n",
       "0             1           0.0     13.560000          7.0           1.68   \n",
       "1             2           0.0     19.799999         16.5           3.56   \n",
       "2             2           0.0      8.300000          7.0           1.40   \n",
       "3             2           0.0     13.300000          9.5           1.64   \n",
       "4             1           0.0     14.300000          8.5           1.90   \n",
       "\n",
       "   improvement_surcharge  day  month  year  \n",
       "0                    0.3   16      8  2019  \n",
       "1                    0.3    4     11  2019  \n",
       "2                    0.3    1      1  2019  \n",
       "3                    0.3    7      7  2019  \n",
       "4                    0.3    3      5  2019  "
      ]
     },
     "execution_count": 5,
     "metadata": {},
     "output_type": "execute_result"
    }
   ],
   "source": [
    "sel_columns = ['payment_type', 'tolls_amount', 'total_amount', 'fare_amount', 'trip_distance', 'improvement_surcharge', 'day', 'month', 'year']\n",
    "taxi = pd.concat([taxi19[sel_columns], taxi20[sel_columns], taxi21[sel_columns]])\n",
    "taxi.head()"
   ]
  },
  {
   "cell_type": "code",
   "execution_count": 6,
   "id": "ecddcef5-055b-4100-b8fc-77139a5153fa",
   "metadata": {},
   "outputs": [],
   "source": [
    "# удалим из памяти ненужные данные\n",
    "del taxi19, taxi20, taxi21"
   ]
  },
  {
   "cell_type": "markdown",
   "id": "a6efcc9a-85cf-42ec-bcbe-e29dc82650b4",
   "metadata": {},
   "source": [
    "# 2.1 и 2.2 Построение аналитической системы"
   ]
  },
  {
   "cell_type": "markdown",
   "id": "214ff814-5290-466c-85ff-bc80f0d4b6bc",
   "metadata": {},
   "source": [
    "Аналитическая система построена и продемонстрирована в python-файле ```main.py``` в директории ```dashboard```"
   ]
  },
  {
   "cell_type": "markdown",
   "id": "b8f8549a-bc8b-4612-86a8-8900fad0f341",
   "metadata": {},
   "source": [
    "# 2.3 и 2.4 Кластеризация набора данных и вычисление показателей производительности кластеризации"
   ]
  },
  {
   "cell_type": "markdown",
   "id": "1af38a33-afba-4467-be55-bcacdf1e9f3b",
   "metadata": {},
   "source": [
    "Рассмотрим три модели кластеризации данных: <b>KMeans, MiniBatchKMeans и Birch.</b><br>\n",
    "Выберем лучшую исходя из трех метрик: \n",
    "1. Индекс Дэвиса-Болдина.<b>\n",
    "\n",
    "Этот индекс обозначает среднее «сходство» между кластерами, где сходство – это мера, которая сравнивает расстояние между кластерами с размером самих кластеров. Более низкий индекс Дэвиса-Болдина относится к модели с лучшим разделением кластеров.\n",
    "\n",
    "2. Индекс Калинского-Харабаша<b>\n",
    "\n",
    "Более высокий показатель индекса Калински-Харабаского относится к модели с более четко определенными кластерами.\n",
    "Индекс представляет собой отношение суммы дисперсии между кластерами и дисперсии внутри кластера для всех кластеров\n",
    "\n",
    "3. Коэффициент силуэта<br>\n",
    "\n",
    "Коэффициент силуэта является примером такой оценки, где более высокий балл коэффициента силуэта относится к модели с более четко определенными кластерами. Коэффициент силуэта определяется для каждого образца и состоит из двух баллов:"
   ]
  },
  {
   "cell_type": "markdown",
   "id": "ecfa07a9-9cd9-452a-be9a-a442a5a9fd60",
   "metadata": {},
   "source": [
    "## Предобработка данных"
   ]
  },
  {
   "cell_type": "markdown",
   "id": "a764f886-8e6a-472d-87e3-fb44d4969cc1",
   "metadata": {},
   "source": [
    "Вспользуемся методами предобработки данных из Модуля А для кластеризации."
   ]
  },
  {
   "cell_type": "code",
   "execution_count": 7,
   "id": "24b727dc-9676-49aa-9142-9ec0532ced69",
   "metadata": {},
   "outputs": [
    {
     "data": {
      "text/html": [
       "<div>\n",
       "<style scoped>\n",
       "    .dataframe tbody tr th:only-of-type {\n",
       "        vertical-align: middle;\n",
       "    }\n",
       "\n",
       "    .dataframe tbody tr th {\n",
       "        vertical-align: top;\n",
       "    }\n",
       "\n",
       "    .dataframe thead th {\n",
       "        text-align: right;\n",
       "    }\n",
       "</style>\n",
       "<table border=\"1\" class=\"dataframe\">\n",
       "  <thead>\n",
       "    <tr style=\"text-align: right;\">\n",
       "      <th></th>\n",
       "      <th>payment_type</th>\n",
       "      <th>tolls_amount</th>\n",
       "      <th>total_amount</th>\n",
       "      <th>fare_amount</th>\n",
       "      <th>trip_distance</th>\n",
       "      <th>improvement_surcharge</th>\n",
       "    </tr>\n",
       "  </thead>\n",
       "  <tbody>\n",
       "    <tr>\n",
       "      <th>0</th>\n",
       "      <td>-0.553045</td>\n",
       "      <td>-0.211379</td>\n",
       "      <td>-0.039624</td>\n",
       "      <td>-0.043618</td>\n",
       "      <td>-0.214554</td>\n",
       "      <td>0.059926</td>\n",
       "    </tr>\n",
       "    <tr>\n",
       "      <th>1</th>\n",
       "      <td>1.500324</td>\n",
       "      <td>-0.211379</td>\n",
       "      <td>0.002947</td>\n",
       "      <td>0.021304</td>\n",
       "      <td>0.079726</td>\n",
       "      <td>0.059926</td>\n",
       "    </tr>\n",
       "    <tr>\n",
       "      <th>2</th>\n",
       "      <td>1.500324</td>\n",
       "      <td>-0.211379</td>\n",
       "      <td>-0.075509</td>\n",
       "      <td>-0.043618</td>\n",
       "      <td>-0.258383</td>\n",
       "      <td>0.059926</td>\n",
       "    </tr>\n",
       "    <tr>\n",
       "      <th>3</th>\n",
       "      <td>1.500324</td>\n",
       "      <td>-0.211379</td>\n",
       "      <td>-0.041397</td>\n",
       "      <td>-0.026534</td>\n",
       "      <td>-0.220816</td>\n",
       "      <td>0.059926</td>\n",
       "    </tr>\n",
       "    <tr>\n",
       "      <th>4</th>\n",
       "      <td>-0.553045</td>\n",
       "      <td>-0.211379</td>\n",
       "      <td>-0.034575</td>\n",
       "      <td>-0.033368</td>\n",
       "      <td>-0.180117</td>\n",
       "      <td>0.059926</td>\n",
       "    </tr>\n",
       "  </tbody>\n",
       "</table>\n",
       "</div>"
      ],
      "text/plain": [
       "   payment_type  tolls_amount  total_amount  fare_amount  trip_distance  \\\n",
       "0     -0.553045     -0.211379     -0.039624    -0.043618      -0.214554   \n",
       "1      1.500324     -0.211379      0.002947     0.021304       0.079726   \n",
       "2      1.500324     -0.211379     -0.075509    -0.043618      -0.258383   \n",
       "3      1.500324     -0.211379     -0.041397    -0.026534      -0.220816   \n",
       "4     -0.553045     -0.211379     -0.034575    -0.033368      -0.180117   \n",
       "\n",
       "   improvement_surcharge  \n",
       "0               0.059926  \n",
       "1               0.059926  \n",
       "2               0.059926  \n",
       "3               0.059926  \n",
       "4               0.059926  "
      ]
     },
     "execution_count": 7,
     "metadata": {},
     "output_type": "execute_result"
    }
   ],
   "source": [
    "transformer = Pipeline(\n",
    "    [\n",
    "        ('imputer', SimpleImputer(strategy='median')),\n",
    "        ('scaler', StandardScaler())\n",
    "    ]\n",
    ")\n",
    "\n",
    "X = pd.DataFrame(transformer.fit_transform(taxi), columns = transformer.get_feature_names_out())\n",
    "\n",
    "# Удаляем выбросы, т.к. они плохо повляют на кластеризацию\n",
    "mask = (X < 3).all(axis=1)\n",
    "X = X[mask]\n",
    "# Удаляем дату из данных\n",
    "X = X.drop(['day', 'month', 'year'], axis=1)\n",
    "X.head()"
   ]
  },
  {
   "cell_type": "markdown",
   "id": "4d248797-0b46-4b47-9a86-df53930fafe7",
   "metadata": {},
   "source": [
    "### Определим количество кластеров методом локтя"
   ]
  },
  {
   "cell_type": "code",
   "execution_count": 8,
   "id": "2b6e4321-fdb0-41e3-82e4-a8a5d8f25803",
   "metadata": {},
   "outputs": [
    {
     "name": "stdout",
     "output_type": "stream",
     "text": [
      "[6486746.213992132, 2190866.471723217, 1730292.873889726, 757473.8330259457, 606511.9513052369, 483700.13197402505, 353430.4168655803, 243991.93501708348, 197193.74389553835]\n"
     ]
    }
   ],
   "source": [
    "inertias = []\n",
    "K = range(1, 10)\n",
    "\n",
    "# Fit K-means for different values of k\n",
    "for k in K:\n",
    "    kmeanModel = KMeans(n_clusters=k, random_state=42).fit(X.sample(frac=0.1))\n",
    "    \n",
    "    # Inertia is calculated directly by KMeans\n",
    "    inertias.append(kmeanModel.inertia_)\n",
    "\n",
    "print(inertias)"
   ]
  },
  {
   "cell_type": "code",
   "execution_count": 9,
   "id": "305ab00d-98dc-4c2b-9b4b-5c83788dd3f3",
   "metadata": {},
   "outputs": [
    {
     "data": {
      "text/plain": [
       "Text(0.5, 1.0, 'Межкластерное расстояние')"
      ]
     },
     "execution_count": 9,
     "metadata": {},
     "output_type": "execute_result"
    },
    {
     "data": {
      "image/png": "[encoded data removed]",
      "text/plain": [
       "<Figure size 640x480 with 1 Axes>"
      ]
     },
     "metadata": {},
     "output_type": "display_data"
    }
   ],
   "source": [
    "sns.lineplot(x=range(1, 10), y=inertias)\n",
    "plt.title('Межкластерное расстояние')"
   ]
  },
  {
   "cell_type": "markdown",
   "id": "9e4c439b-d963-4428-bc2e-ed2c3df1a95e",
   "metadata": {},
   "source": [
    "По графику видно, что после 3 кластеров стремительное уменьшение инерции заканчивается, будем искать 4 кластера."
   ]
  },
  {
   "cell_type": "markdown",
   "id": "b7b04e17-8e16-4e00-a1b9-f9f194f2977b",
   "metadata": {},
   "source": [
    "## 1 метод кластеризации: KMeans"
   ]
  },
  {
   "cell_type": "markdown",
   "id": "c3690e40-8a47-4ed1-90fb-27571a4aded8",
   "metadata": {},
   "source": [
    "### Обучение"
   ]
  },
  {
   "cell_type": "code",
   "execution_count": 10,
   "id": "05ff75b9-917a-47b7-863c-9617450c87bd",
   "metadata": {},
   "outputs": [],
   "source": [
    "kmeans = KMeans(n_clusters=3)\n",
    "kmeans.fit(X)\n",
    "kmeans_labels = kmeans.predict(X)"
   ]
  },
  {
   "cell_type": "markdown",
   "id": "de81fd7e-1042-450d-b4a0-436a7f33bad2",
   "metadata": {},
   "source": [
    "### Вычисление метрик"
   ]
  },
  {
   "cell_type": "code",
   "execution_count": 11,
   "id": "0ad36978-24e4-455c-95a9-4a395a44c76a",
   "metadata": {},
   "outputs": [
    {
     "name": "stdout",
     "output_type": "stream",
     "text": [
      "Индекс Дэвиса-Болдина: 0.1956656621622993\n",
      "Индекс Калинского-Харабаша: 93221982.21382602\n",
      "Коэффициент силуэта: 0.8249180720596212\n"
     ]
    }
   ],
   "source": [
    "# Индекс Дэвиса-Болдина.\n",
    "print(f'Индекс Дэвиса-Болдина: {davies_bouldin_score(X, kmeans_labels)}')\n",
    "\n",
    "# Индекс Калинского-Харабаша\n",
    "print(f'Индекс Калинского-Харабаша: {calinski_harabasz_score(X, kmeans_labels)}')\n",
    "\n",
    "# Коэффициент силуэта\n",
    "indx = [np.random.randint(0, len(X)) for _ in range(50000)]\n",
    "print(f'Коэффициент силуэта: {silhouette_score(X.iloc[indx], kmeans_labels[indx])}')"
   ]
  },
  {
   "cell_type": "markdown",
   "id": "f46e4f61-2fab-4511-98ad-9426d7bc08fb",
   "metadata": {},
   "source": [
    "### Визуализация"
   ]
  },
  {
   "cell_type": "markdown",
   "id": "d8da8313-c473-41b0-b378-a86d24624f2f",
   "metadata": {},
   "source": [
    "Для возможности визуализации снизим размерность до 2 осей методом PCA."
   ]
  },
  {
   "cell_type": "code",
   "execution_count": 12,
   "id": "5306e8a5-6fbd-480d-8293-4a59e298fd79",
   "metadata": {},
   "outputs": [
    {
     "data": {
      "image/png": "[encoded data removed]",
      "text/plain": [
       "<Figure size 640x480 with 1 Axes>"
      ]
     },
     "metadata": {},
     "output_type": "display_data"
    }
   ],
   "source": [
    "pca = PCA(n_components=2)\n",
    "pca_data = pd.DataFrame(pca.fit_transform(X))\n",
    "# При 55 миллионах значений визуализация займет много времени, берем случайных 100.000 значений\n",
    "indx = [np.random.randint(0, len(X)) for _ in range(1000)]\n",
    "sns.scatterplot(data=pca_data.iloc[indx], x=0, y=1, hue=kmeans_labels[indx]);\n",
    "plt.title('KMEANS');"
   ]
  },
  {
   "cell_type": "markdown",
   "id": "b5580b79-5b44-4d1b-b9b6-bcde994735ed",
   "metadata": {},
   "source": [
    "## 2 метод кластеризации: MiniBatchKMeans"
   ]
  },
  {
   "cell_type": "markdown",
   "id": "a4acb055-c28a-4de5-82d5-81a5ec92be06",
   "metadata": {},
   "source": [
    "### Обучение"
   ]
  },
  {
   "cell_type": "code",
   "execution_count": 13,
   "id": "6073a465-0209-46dd-afc9-6e0fac1d8644",
   "metadata": {},
   "outputs": [],
   "source": [
    "kmeansMB = MiniBatchKMeans(n_clusters=3)\n",
    "kmeansMB.fit(X)\n",
    "kmeansMB_labels = kmeansMB.predict(X)"
   ]
  },
  {
   "cell_type": "markdown",
   "id": "aecd79e2-f6bb-483e-9d3d-5fc0cfb20a22",
   "metadata": {},
   "source": [
    "### Вычисление метрик"
   ]
  },
  {
   "cell_type": "code",
   "execution_count": 14,
   "id": "c58b0668-b540-4a6a-bf90-c194604834fc",
   "metadata": {},
   "outputs": [
    {
     "name": "stdout",
     "output_type": "stream",
     "text": [
      "Индекс Дэвиса-Болдина: 0.5299941085413308\n",
      "Индекс Калинского-Харабаша: 24232789.36931005\n",
      "Коэффициент силуэта: 0.7944189059301409\n"
     ]
    }
   ],
   "source": [
    "# Индекс Дэвиса-Болдина.\n",
    "print(f'Индекс Дэвиса-Болдина: {davies_bouldin_score(X, kmeansMB_labels)}')\n",
    "\n",
    "# Индекс Калинского-Харабаша\n",
    "print(f'Индекс Калинского-Харабаша: {calinski_harabasz_score(X, kmeansMB_labels)}')\n",
    "\n",
    "# Коэффициент силуэта\n",
    "indx = [np.random.randint(0, len(X)) for _ in range(50000)]\n",
    "print(f'Коэффициент силуэта: {silhouette_score(X.iloc[indx], kmeansMB_labels[indx])}')"
   ]
  },
  {
   "cell_type": "markdown",
   "id": "dbf1d2d1-222a-4d6b-96d7-81b6cf4d8a7b",
   "metadata": {},
   "source": [
    "### Визуализация"
   ]
  },
  {
   "cell_type": "markdown",
   "id": "9131de0a-5bba-4cf3-950e-ad4173f8b703",
   "metadata": {},
   "source": [
    "Для возможности визуализации снизим размерность до 2 осей методом PCA."
   ]
  },
  {
   "cell_type": "code",
   "execution_count": 15,
   "id": "003aae99-c31d-49a6-bf26-aff51267e4a2",
   "metadata": {},
   "outputs": [
    {
     "data": {
      "image/png": "[encoded data removed]",
      "text/plain": [
       "<Figure size 640x480 with 1 Axes>"
      ]
     },
     "metadata": {},
     "output_type": "display_data"
    }
   ],
   "source": [
    "pca = PCA(n_components=2)\n",
    "pca_data = pd.DataFrame(pca.fit_transform(X))\n",
    "# При 55 миллионах значений визуализация займет много времени, берем случайных 100.000 значений\n",
    "indx = [np.random.randint(0, len(X)) for _ in range(1000)]\n",
    "sns.scatterplot(data=pca_data.iloc[indx], x=0, y=1, hue=kmeansMB_labels[indx]);\n",
    "plt.title('MiniBatchKMeans');"
   ]
  },
  {
   "cell_type": "markdown",
   "id": "0fb0a97b-8ea8-4d56-879c-6dfca7a1c979",
   "metadata": {},
   "source": [
    "## 3 метод кластеризации: Birch"
   ]
  },
  {
   "cell_type": "markdown",
   "id": "53d606c5-11d3-41b9-887f-d8ee62d958cb",
   "metadata": {},
   "source": [
    "### Обучение"
   ]
  },
  {
   "cell_type": "code",
   "execution_count": 16,
   "id": "72dc18a6-eeec-4df7-b341-ac7280115784",
   "metadata": {},
   "outputs": [],
   "source": [
    "# Для замера метрик возьмем лишь часть данных, так как этот метод очень ресурсозатратный, \n",
    "# если у метода будет лучшая метрика, кластеризируем все данные\n",
    "data_for_birch = X.sample(frac=0.05)\n",
    "birch = Birch(n_clusters=3)\n",
    "birch.fit(data_for_birch)\n",
    "birch_labels = birch.predict(data_for_birch)"
   ]
  },
  {
   "cell_type": "markdown",
   "id": "90d1709c-270c-4b4f-8bd9-5702658de6fe",
   "metadata": {},
   "source": [
    "### Вычисление метрик"
   ]
  },
  {
   "cell_type": "code",
   "execution_count": 17,
   "id": "ad3f09ee-55d6-4eae-a2d8-95d820864271",
   "metadata": {},
   "outputs": [
    {
     "name": "stdout",
     "output_type": "stream",
     "text": [
      "Индекс Дэвиса-Болдина: 0.28005310251039944\n",
      "Индекс Калинского-Харабаша: 16386302.861724451\n",
      "Коэффициент силуэта: 0.9100946783855101\n"
     ]
    }
   ],
   "source": [
    "# Индекс Дэвиса-Болдина.\n",
    "print(f'Индекс Дэвиса-Болдина: {davies_bouldin_score(data_for_birch, birch_labels)}')\n",
    "\n",
    "# Индекс Калинского-Харабаша\n",
    "print(f'Индекс Калинского-Харабаша: {calinski_harabasz_score(data_for_birch, birch_labels)}')\n",
    "\n",
    "# Коэффициент силуэта\n",
    "indx = [np.random.randint(0, len(data_for_birch)) for _ in range(50000)]\n",
    "print(f'Коэффициент силуэта: {silhouette_score(data_for_birch.iloc[indx], birch_labels[indx])}')"
   ]
  },
  {
   "cell_type": "markdown",
   "id": "eaa8e873-e9c7-4532-bcd4-cb8a96d5937d",
   "metadata": {},
   "source": [
    "### Визуализация"
   ]
  },
  {
   "cell_type": "code",
   "execution_count": 18,
   "id": "8d8e8ecf-d417-4a90-921a-5df389117aff",
   "metadata": {},
   "outputs": [
    {
     "data": {
      "image/png": "[encoded data removed]",
      "text/plain": [
       "<Figure size 640x480 with 1 Axes>"
      ]
     },
     "metadata": {},
     "output_type": "display_data"
    }
   ],
   "source": [
    "pca = PCA(n_components=2)\n",
    "pca_data = pd.DataFrame(pca.fit_transform(data_for_birch))\n",
    "# При 55 миллионах значений визуализация займет много времени, берем случайных 100.000 значений\n",
    "indx = [np.random.randint(0, len(data_for_birch)) for _ in range(1000)]\n",
    "sns.scatterplot(data=pca_data.iloc[indx], x=0, y=1, hue=birch_labels[indx]);\n",
    "plt.title('BIRCH');"
   ]
  },
  {
   "cell_type": "markdown",
   "id": "9da5bf49-7a45-4263-a9df-f233f344813c",
   "metadata": {},
   "source": [
    "## Лучший алгоритм - ...\n",
    "В 2 метриках из трех он показал лучшее качество.<br>\n",
    "Визуально он лучше всего разделил данные.<br>\n",
    "Возмем метки этого кластера для дальнейшего анализа."
   ]
  },
  {
   "cell_type": "code",
   "execution_count": 19,
   "id": "6515dcda-665d-4177-b49d-7a678ad9725d",
   "metadata": {
    "scrolled": true
   },
   "outputs": [],
   "source": [
    "taxi = taxi.iloc[X.index]\n",
    "taxi['cluster'] = kmeansMB_labels"
   ]
  },
  {
   "cell_type": "markdown",
   "id": "f78881f5-14c8-4f5d-9b5b-e0ff46081b32",
   "metadata": {},
   "source": [
    "## Описание кластеров по годам"
   ]
  },
  {
   "cell_type": "code",
   "execution_count": 20,
   "id": "96622a20-4b54-4620-a1a6-aa0d39db1b70",
   "metadata": {},
   "outputs": [
    {
     "data": {
      "text/html": [
       "<div>\n",
       "<style scoped>\n",
       "    .dataframe tbody tr th:only-of-type {\n",
       "        vertical-align: middle;\n",
       "    }\n",
       "\n",
       "    .dataframe tbody tr th {\n",
       "        vertical-align: top;\n",
       "    }\n",
       "\n",
       "    .dataframe thead th {\n",
       "        text-align: right;\n",
       "    }\n",
       "</style>\n",
       "<table border=\"1\" class=\"dataframe\">\n",
       "  <thead>\n",
       "    <tr style=\"text-align: right;\">\n",
       "      <th></th>\n",
       "      <th>payment_type</th>\n",
       "      <th>tolls_amount</th>\n",
       "      <th>total_amount</th>\n",
       "      <th>fare_amount</th>\n",
       "      <th>trip_distance</th>\n",
       "      <th>improvement_surcharge</th>\n",
       "      <th>day</th>\n",
       "      <th>month</th>\n",
       "      <th>year</th>\n",
       "    </tr>\n",
       "    <tr>\n",
       "      <th>cluster</th>\n",
       "      <th></th>\n",
       "      <th></th>\n",
       "      <th></th>\n",
       "      <th></th>\n",
       "      <th></th>\n",
       "      <th></th>\n",
       "      <th></th>\n",
       "      <th></th>\n",
       "      <th></th>\n",
       "    </tr>\n",
       "  </thead>\n",
       "  <tbody>\n",
       "    <tr>\n",
       "      <th>0</th>\n",
       "      <td>1.0</td>\n",
       "      <td>0.000495</td>\n",
       "      <td>16.233856</td>\n",
       "      <td>10.295506</td>\n",
       "      <td>1.869710</td>\n",
       "      <td>0.299891</td>\n",
       "      <td>15.423491</td>\n",
       "      <td>7.912468</td>\n",
       "      <td>2019.0</td>\n",
       "    </tr>\n",
       "    <tr>\n",
       "      <th>1</th>\n",
       "      <td>2.0</td>\n",
       "      <td>0.001563</td>\n",
       "      <td>14.198022</td>\n",
       "      <td>10.945910</td>\n",
       "      <td>2.195798</td>\n",
       "      <td>0.298830</td>\n",
       "      <td>15.716572</td>\n",
       "      <td>7.905399</td>\n",
       "      <td>2019.0</td>\n",
       "    </tr>\n",
       "    <tr>\n",
       "      <th>2</th>\n",
       "      <td>1.054551</td>\n",
       "      <td>0.039577</td>\n",
       "      <td>44.154984</td>\n",
       "      <td>35.319233</td>\n",
       "      <td>10.947557</td>\n",
       "      <td>0.299945</td>\n",
       "      <td>15.531811</td>\n",
       "      <td>7.885678</td>\n",
       "      <td>2019.0</td>\n",
       "    </tr>\n",
       "  </tbody>\n",
       "</table>\n",
       "</div>"
      ],
      "text/plain": [
       "         payment_type  tolls_amount  total_amount  fare_amount  trip_distance  \\\n",
       "cluster                                                                         \n",
       "0                 1.0      0.000495     16.233856    10.295506       1.869710   \n",
       "1                 2.0      0.001563     14.198022    10.945910       2.195798   \n",
       "2            1.054551      0.039577     44.154984    35.319233      10.947557   \n",
       "\n",
       "         improvement_surcharge        day     month    year  \n",
       "cluster                                                      \n",
       "0                     0.299891  15.423491  7.912468  2019.0  \n",
       "1                     0.298830  15.716572  7.905399  2019.0  \n",
       "2                     0.299945  15.531811  7.885678  2019.0  "
      ]
     },
     "execution_count": 20,
     "metadata": {},
     "output_type": "execute_result"
    }
   ],
   "source": [
    "taxi[taxi['year'] == 2019].groupby('cluster').mean()"
   ]
  },
  {
   "cell_type": "code",
   "execution_count": 21,
   "id": "37c5da13-fae0-4c32-bf13-b6f50edff6dd",
   "metadata": {},
   "outputs": [
    {
     "data": {
      "text/html": [
       "<div>\n",
       "<style scoped>\n",
       "    .dataframe tbody tr th:only-of-type {\n",
       "        vertical-align: middle;\n",
       "    }\n",
       "\n",
       "    .dataframe tbody tr th {\n",
       "        vertical-align: top;\n",
       "    }\n",
       "\n",
       "    .dataframe thead th {\n",
       "        text-align: right;\n",
       "    }\n",
       "</style>\n",
       "<table border=\"1\" class=\"dataframe\">\n",
       "  <thead>\n",
       "    <tr style=\"text-align: right;\">\n",
       "      <th></th>\n",
       "      <th>payment_type</th>\n",
       "      <th>tolls_amount</th>\n",
       "      <th>total_amount</th>\n",
       "      <th>fare_amount</th>\n",
       "      <th>trip_distance</th>\n",
       "      <th>improvement_surcharge</th>\n",
       "      <th>day</th>\n",
       "      <th>month</th>\n",
       "      <th>year</th>\n",
       "    </tr>\n",
       "    <tr>\n",
       "      <th>cluster</th>\n",
       "      <th></th>\n",
       "      <th></th>\n",
       "      <th></th>\n",
       "      <th></th>\n",
       "      <th></th>\n",
       "      <th></th>\n",
       "      <th></th>\n",
       "      <th></th>\n",
       "      <th></th>\n",
       "    </tr>\n",
       "  </thead>\n",
       "  <tbody>\n",
       "    <tr>\n",
       "      <th>0</th>\n",
       "      <td>1.0</td>\n",
       "      <td>0.000709</td>\n",
       "      <td>15.735058</td>\n",
       "      <td>9.950942</td>\n",
       "      <td>1.917253</td>\n",
       "      <td>0.299885</td>\n",
       "      <td>15.042410</td>\n",
       "      <td>6.952431</td>\n",
       "      <td>2020.0</td>\n",
       "    </tr>\n",
       "    <tr>\n",
       "      <th>1</th>\n",
       "      <td>2.0</td>\n",
       "      <td>0.001795</td>\n",
       "      <td>13.448425</td>\n",
       "      <td>10.261726</td>\n",
       "      <td>2.222918</td>\n",
       "      <td>0.297710</td>\n",
       "      <td>15.116841</td>\n",
       "      <td>6.907847</td>\n",
       "      <td>2020.0</td>\n",
       "    </tr>\n",
       "    <tr>\n",
       "      <th>2</th>\n",
       "      <td>1.045491</td>\n",
       "      <td>0.054770</td>\n",
       "      <td>42.087242</td>\n",
       "      <td>34.932133</td>\n",
       "      <td>10.597021</td>\n",
       "      <td>0.299901</td>\n",
       "      <td>15.191738</td>\n",
       "      <td>7.007380</td>\n",
       "      <td>2020.0</td>\n",
       "    </tr>\n",
       "  </tbody>\n",
       "</table>\n",
       "</div>"
      ],
      "text/plain": [
       "         payment_type  tolls_amount  total_amount  fare_amount  trip_distance  \\\n",
       "cluster                                                                         \n",
       "0                 1.0      0.000709     15.735058     9.950942       1.917253   \n",
       "1                 2.0      0.001795     13.448425    10.261726       2.222918   \n",
       "2            1.045491      0.054770     42.087242    34.932133      10.597021   \n",
       "\n",
       "         improvement_surcharge        day     month    year  \n",
       "cluster                                                      \n",
       "0                     0.299885  15.042410  6.952431  2020.0  \n",
       "1                     0.297710  15.116841  6.907847  2020.0  \n",
       "2                     0.299901  15.191738  7.007380  2020.0  "
      ]
     },
     "execution_count": 21,
     "metadata": {},
     "output_type": "execute_result"
    }
   ],
   "source": [
    "taxi[taxi['year'] == 2020].groupby('cluster').mean()"
   ]
  },
  {
   "cell_type": "code",
   "execution_count": 22,
   "id": "91c9cb3d-97e2-4154-8726-229fda4971d0",
   "metadata": {},
   "outputs": [
    {
     "data": {
      "text/html": [
       "<div>\n",
       "<style scoped>\n",
       "    .dataframe tbody tr th:only-of-type {\n",
       "        vertical-align: middle;\n",
       "    }\n",
       "\n",
       "    .dataframe tbody tr th {\n",
       "        vertical-align: top;\n",
       "    }\n",
       "\n",
       "    .dataframe thead th {\n",
       "        text-align: right;\n",
       "    }\n",
       "</style>\n",
       "<table border=\"1\" class=\"dataframe\">\n",
       "  <thead>\n",
       "    <tr style=\"text-align: right;\">\n",
       "      <th></th>\n",
       "      <th>payment_type</th>\n",
       "      <th>tolls_amount</th>\n",
       "      <th>total_amount</th>\n",
       "      <th>fare_amount</th>\n",
       "      <th>trip_distance</th>\n",
       "      <th>improvement_surcharge</th>\n",
       "      <th>day</th>\n",
       "      <th>month</th>\n",
       "      <th>year</th>\n",
       "    </tr>\n",
       "    <tr>\n",
       "      <th>cluster</th>\n",
       "      <th></th>\n",
       "      <th></th>\n",
       "      <th></th>\n",
       "      <th></th>\n",
       "      <th></th>\n",
       "      <th></th>\n",
       "      <th></th>\n",
       "      <th></th>\n",
       "      <th></th>\n",
       "    </tr>\n",
       "  </thead>\n",
       "  <tbody>\n",
       "    <tr>\n",
       "      <th>0</th>\n",
       "      <td>0.972101</td>\n",
       "      <td>0.000614</td>\n",
       "      <td>16.518082</td>\n",
       "      <td>10.448427</td>\n",
       "      <td>2.020150</td>\n",
       "      <td>0.299891</td>\n",
       "      <td>15.539912</td>\n",
       "      <td>8.545183</td>\n",
       "      <td>2021.0</td>\n",
       "    </tr>\n",
       "    <tr>\n",
       "      <th>1</th>\n",
       "      <td>2.0</td>\n",
       "      <td>0.001602</td>\n",
       "      <td>14.269758</td>\n",
       "      <td>10.941365</td>\n",
       "      <td>2.320410</td>\n",
       "      <td>0.297514</td>\n",
       "      <td>15.749593</td>\n",
       "      <td>8.497406</td>\n",
       "      <td>2021.0</td>\n",
       "    </tr>\n",
       "    <tr>\n",
       "      <th>2</th>\n",
       "      <td>0.947485</td>\n",
       "      <td>0.042793</td>\n",
       "      <td>44.914207</td>\n",
       "      <td>36.052361</td>\n",
       "      <td>11.093294</td>\n",
       "      <td>0.299932</td>\n",
       "      <td>15.706447</td>\n",
       "      <td>8.553589</td>\n",
       "      <td>2021.0</td>\n",
       "    </tr>\n",
       "  </tbody>\n",
       "</table>\n",
       "</div>"
      ],
      "text/plain": [
       "         payment_type  tolls_amount  total_amount  fare_amount  trip_distance  \\\n",
       "cluster                                                                         \n",
       "0            0.972101      0.000614     16.518082    10.448427       2.020150   \n",
       "1                 2.0      0.001602     14.269758    10.941365       2.320410   \n",
       "2            0.947485      0.042793     44.914207    36.052361      11.093294   \n",
       "\n",
       "         improvement_surcharge        day     month    year  \n",
       "cluster                                                      \n",
       "0                     0.299891  15.539912  8.545183  2021.0  \n",
       "1                     0.297514  15.749593  8.497406  2021.0  \n",
       "2                     0.299932  15.706447  8.553589  2021.0  "
      ]
     },
     "execution_count": 22,
     "metadata": {},
     "output_type": "execute_result"
    }
   ],
   "source": [
    "taxi[taxi['year'] == 2021].groupby('cluster').mean()"
   ]
  },
  {
   "cell_type": "markdown",
   "id": "17b28a7d-bac3-4d9f-a327-46d93d0e0beb",
   "metadata": {},
   "source": [
    "#### Устойчивые закономерности:\n",
    "1. total_amount в 2020 году уменьшение для всех кластеров по сравнению с 2019 годом, со временем в 2021 году опять возвращается и даже выше чем результат 2019 \n",
    "2. trip_distance похожий результат, в 2020 году люди ездят меньше по сравнению с 2019 годом, но в 2021 поздки увеличиваются до уровня 2019 года с некоторым дальнейшим ростом<br>\n",
    "\n",
    "\n",
    "Подозреваю, что данные закономерности связаны с пандемией COVID-19."
   ]
  },
  {
   "cell_type": "markdown",
   "id": "15f77eab-993a-49bd-b874-3149e3fd9247",
   "metadata": {},
   "source": [
    "# 2.5 Подготовка отчета\n",
    "В ходе выполнения было выполнено следующее:\n",
    "- Построена аналитическая система, продемонстрирована экспертам\n",
    "- Выбрана модель и проведена кластеризация набора данных\n",
    "- Вычислены показатели производительности кластеризации\n",
    "- Подготовлен отчет"
   ]
  },
  {
   "cell_type": "code",
   "execution_count": 24,
   "id": "242ea29a-bd55-430b-8876-ac3571426048",
   "metadata": {},
   "outputs": [],
   "source": [
    "taxi.to_csv('taxi.csv', index=False)"
   ]
  }
 ],
 "metadata": {
  "kernelspec": {
   "display_name": "Python 3 (ipykernel)",
   "language": "python",
   "name": "python3"
  },
  "language_info": {
   "codemirror_mode": {
    "name": "ipython",
    "version": 3
   },
   "file_extension": ".py",
   "mimetype": "text/x-python",
   "name": "python",
   "nbconvert_exporter": "python",
   "pygments_lexer": "ipython3",
   "version": "3.12.7"
  }
 },
 "nbformat": 4,
 "nbformat_minor": 5
}
