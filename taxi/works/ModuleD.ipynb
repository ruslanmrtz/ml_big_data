{
 "cells": [
  {
   "cell_type": "markdown",
   "id": "d4eafd8d-14d3-4275-a29d-ecb30d0920e2",
   "metadata": {},
   "source": [
    "# 4.1 Разработка API"
   ]
  },
  {
   "cell_type": "markdown",
   "id": "cd39d6e9-6e01-4264-952b-03b54ad04a33",
   "metadata": {},
   "source": [
    "# 4.2 Разработка приложения"
   ]
  },
  {
   "cell_type": "markdown",
   "id": "8b8cadf0-b171-4067-bb2b-7e8085fc259a",
   "metadata": {},
   "source": [
    "# 4.3 Программная документация"
   ]
  },
  {
   "cell_type": "markdown",
   "id": "b5a8e554-7491-4c84-8429-7e6a43f72932",
   "metadata": {},
   "source": [
    "Результаты работы представлены в директории ```/app```"
   ]
  }
 ],
 "metadata": {
  "kernelspec": {
   "display_name": "Python 3 (ipykernel)",
   "language": "python",
   "name": "python3"
  },
  "language_info": {
   "codemirror_mode": {
    "name": "ipython",
    "version": 3
   },
   "file_extension": ".py",
   "mimetype": "text/x-python",
   "name": "python",
   "nbconvert_exporter": "python",
   "pygments_lexer": "ipython3",
   "version": "3.12.7"
  }
 },
 "nbformat": 4,
 "nbformat_minor": 5
}
